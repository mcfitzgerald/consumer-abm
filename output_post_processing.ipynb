{
 "cells": [
  {
   "cell_type": "code",
   "execution_count": null,
   "metadata": {},
   "outputs": [],
   "source": [
    "import numpy as np\n",
    "import pandas as pd\n",
    "import matplotlib as mpl\n",
    "import matplotlib.pyplot as plt\n",
    "import statsmodels.api as sm\n",
    "from cabm import post_processing as ppr"
   ]
  },
  {
   "cell_type": "code",
   "execution_count": null,
   "metadata": {},
   "outputs": [],
   "source": [
    "# Figure setup\n",
    "# Set the font to Courier\n",
    "mpl.rcParams['font.family'] = 'Courier'\n",
    "\n",
    "# Set the line weight to thin\n",
    "mpl.rcParams['lines.linewidth'] = 0.75\n",
    "\n",
    "# Set the color scheme to black and white\n",
    "mpl.rcParams['text.color'] = 'black'\n",
    "mpl.rcParams['axes.labelcolor'] = 'black'\n",
    "mpl.rcParams['xtick.color'] = 'black'\n",
    "mpl.rcParams['ytick.color'] = 'black'\n",
    "mpl.rcParams['axes.edgecolor'] = 'black'"
   ]
  },
  {
   "cell_type": "code",
   "execution_count": null,
   "metadata": {},
   "outputs": [],
   "source": [
    "agent_df = pd.read_pickle('SIM_OUTPUTS/agent_output_A_and_B_All.pkl')"
   ]
  },
  {
   "cell_type": "code",
   "execution_count": null,
   "metadata": {},
   "outputs": [],
   "source": [
    "agent_df = ppr.add_date_column(agent_df)"
   ]
  },
  {
   "cell_type": "code",
   "execution_count": null,
   "metadata": {},
   "outputs": [],
   "source": [
    "aggregate_df = ppr.calculate_total_purchases(agent_df, ['price_A','tv_A','web_A', 'price_B', 'tv_B', 'web_B'], ['Total_Purchases_A', 'Total_Purchases_B'])"
   ]
  },
  {
   "cell_type": "code",
   "execution_count": null,
   "metadata": {},
   "outputs": [],
   "source": [
    "aggregate_df = ppr.add_total_sales_columns(aggregate_df, ['Total_Purchases_A', 'Total_Purchases_B'],  ['price_A','price_B'])"
   ]
  },
  {
   "cell_type": "code",
   "execution_count": null,
   "metadata": {},
   "outputs": [],
   "source": [
    "aggregate_df = ppr.ensure_float_columns(aggregate_df, exclude_columns=['Date','Step'])"
   ]
  },
  {
   "cell_type": "markdown",
   "metadata": {},
   "source": [
    "### Functions below need to be generalized and added to post_processing.py"
   ]
  },
  {
   "cell_type": "code",
   "execution_count": null,
   "metadata": {},
   "outputs": [],
   "source": [
    "def calculate_average_adstock(agent_df):\n",
    "    '''\n",
    "    Computes average adstock per brand per step from agent level output\n",
    "    '''\n",
    "    # Initialize empty lists to store the results\n",
    "    average_adstock_A = []\n",
    "    average_adstock_B = []\n",
    "    dates = []\n",
    "    steps = []\n",
    "\n",
    "    # Iterate over the 'Ad_Stock' column\n",
    "    for index, row in agent_df.iterrows():\n",
    "        # Append the adstock for each brand to the respective list\n",
    "        average_adstock_A.append(row['Adstock']['A'])\n",
    "        average_adstock_B.append(row['Adstock']['B'])\n",
    "        dates.append(row['Date'])\n",
    "        steps.append(index[0])  # Assuming 'Step' is the first level of the index\n",
    "\n",
    "    # Create a new DataFrame with the average adstock for each brand\n",
    "    average_adstock_df = pd.DataFrame({\n",
    "        'Average_Adstock_A': average_adstock_A,\n",
    "        'Average_Adstock_B': average_adstock_B,\n",
    "        'Date': dates,\n",
    "    })\n",
    "\n",
    "    # Group by 'Date' and 'Step' and calculate the average adstock\n",
    "    average_adstock_df = average_adstock_df.groupby(['Date']).mean().reset_index()\n",
    "\n",
    "    return average_adstock_df"
   ]
  },
  {
   "cell_type": "code",
   "execution_count": null,
   "metadata": {},
   "outputs": [],
   "source": [
    "average_adstock_df = calculate_average_adstock(agent_df)"
   ]
  },
  {
   "cell_type": "code",
   "execution_count": null,
   "metadata": {},
   "outputs": [],
   "source": [
    "# Create the plot\n",
    "plt.figure(figsize=(15,6))\n",
    "\n",
    "plt.plot(average_adstock_df['Date'], average_adstock_df['Average_Adstock_A'], label='Brand A', color='black')\n",
    "plt.plot(average_adstock_df['Date'], average_adstock_df['Average_Adstock_B'], label='Brand B', color='black', linestyle='--', dashes=[2,3])\n",
    "\n",
    "plt.title('Average Adstock of Two Brands Over Time')\n",
    "plt.xlabel('Date')\n",
    "plt.ylabel('Average Adstock (function of ad budget)')\n",
    "plt.legend(loc='upper center', bbox_to_anchor=(0.5, -0.10), ncol=2, fontsize='small', frameon=False)\n",
    "\n",
    "plt.savefig(\"adstock_no_ad.png\", dpi=200)\n",
    "plt.show()"
   ]
  },
  {
   "cell_type": "code",
   "execution_count": null,
   "metadata": {},
   "outputs": [],
   "source": [
    "def plot_agent_adstock(agent_df, agent_id):\n",
    "    '''\n",
    "    Plots adstock per brand per step for a specific agent from agent level output\n",
    "    '''\n",
    "    # Filter the DataFrame for the specified agent\n",
    "    agent_df_filtered = agent_df.xs(agent_id, level='AgentID')\n",
    "\n",
    "    # Initialize empty lists to store the results\n",
    "    adstock_A = []\n",
    "    adstock_B = []\n",
    "    dates = []\n",
    "\n",
    "    # Iterate over the 'Ad_Stock' column\n",
    "    for index, row in agent_df_filtered.iterrows():\n",
    "        # Append the adstock for each brand to the respective list\n",
    "        adstock_A.append(row['Adstock']['A'])\n",
    "        adstock_B.append(row['Adstock']['B'])\n",
    "        dates.append(row['Date'])\n",
    "\n",
    "    # Create the plot\n",
    "    plt.figure(figsize=(15,6))\n",
    "\n",
    "    plt.plot(dates, adstock_A, label='Brand A', color='black')\n",
    "    plt.plot(dates, adstock_B, label='Brand B', color='black', linestyle='--', dashes=[2,3])\n",
    "\n",
    "    plt.title(f'Adstock of Two Brands Over Time for Agent {agent_id}')\n",
    "    plt.xlabel('Date')\n",
    "    plt.ylabel('Adstock')\n",
    "    plt.legend(loc='upper center', bbox_to_anchor=(0.5, -0.10), ncol=2, fontsize='small', frameon=False)\n",
    "\n",
    "    plt.show()"
   ]
  },
  {
   "cell_type": "code",
   "execution_count": null,
   "metadata": {},
   "outputs": [],
   "source": [
    "plot_agent_adstock(agent_df, 13)"
   ]
  },
  {
   "cell_type": "code",
   "execution_count": null,
   "metadata": {},
   "outputs": [],
   "source": [
    "fig, axs = plt.subplots(1, 2, figsize=(15,6))\n",
    "\n",
    "# Scatter plot for Brand A with filled black circles and transparency\n",
    "axs[0].scatter(aggregate_df['price_A'], aggregate_df['Total_Purchases_A'], \n",
    "            label='Brand A', color='black', alpha=0.5)\n",
    "axs[0].set_title('Total Purchases vs Price for Brand A')\n",
    "axs[0].set_xlabel('Price')\n",
    "axs[0].set_ylabel('Total Purchases')\n",
    "axs[0].legend(loc='upper center', bbox_to_anchor=(0.5, -0.10), ncol=2, fontsize='small', frameon=False)\n",
    "\n",
    "# Scatter plot for Brand B with unfilled black circles and transparency\n",
    "axs[1].scatter(aggregate_df['price_B'], aggregate_df['Total_Purchases_B'], \n",
    "            label='Brand B', facecolor='none', edgecolor='black', alpha=0.5)\n",
    "axs[1].set_title('Total Purchases vs Price for Brand B')\n",
    "axs[1].set_xlabel('Price')\n",
    "axs[1].set_ylabel('Total Purchases')\n",
    "axs[1].legend(loc='upper center', bbox_to_anchor=(0.5, -0.10), ncol=2, fontsize='small', frameon=False)\n",
    "\n",
    "plt.tight_layout()\n",
    "plt.show()\n"
   ]
  },
  {
   "cell_type": "markdown",
   "metadata": {},
   "source": [
    "### Estimate elastcity using log-log regression"
   ]
  },
  {
   "cell_type": "code",
   "execution_count": null,
   "metadata": {},
   "outputs": [],
   "source": [
    "# Take the natural log of 'Total_Purchases_A' and 'Price_A' for Brand A\n",
    "aggregate_df['ln_Total_Purchases_A'] = np.log(aggregate_df['Total_Purchases_A'])\n",
    "aggregate_df['ln_Price_A'] = np.log(aggregate_df['price_A'])\n",
    "\n",
    "# Define the dependent variable and the independent variables\n",
    "Y = aggregate_df['ln_Total_Purchases_A']\n",
    "X = aggregate_df['ln_Price_A']\n",
    "X = sm.add_constant(X)  # Add a constant to the independent variables\n",
    "\n",
    "# Fit the model\n",
    "model = sm.OLS(Y, X)\n",
    "results = model.fit()\n",
    "\n",
    "# The coefficient of 'ln_Price_A' is the price elasticity of demand for Brand A\n",
    "elasticity_A = results.params['ln_Price_A']\n",
    "\n",
    "# Repeat the process for Brand B\n",
    "aggregate_df['ln_Total_Purchases_B'] = np.log(aggregate_df['Total_Purchases_B'])\n",
    "aggregate_df['ln_Price_B'] = np.log(aggregate_df['price_B'])\n",
    "\n",
    "Y = aggregate_df['ln_Total_Purchases_B']\n",
    "X = aggregate_df['ln_Price_B']\n",
    "X = sm.add_constant(X)\n",
    "\n",
    "model = sm.OLS(Y, X)\n",
    "results = model.fit()\n",
    "\n",
    "elasticity_B = results.params['ln_Price_B']"
   ]
  },
  {
   "cell_type": "code",
   "execution_count": null,
   "metadata": {},
   "outputs": [],
   "source": [
    "elasticity_A"
   ]
  },
  {
   "cell_type": "code",
   "execution_count": null,
   "metadata": {},
   "outputs": [],
   "source": [
    "agent_df.columns"
   ]
  },
  {
   "cell_type": "code",
   "execution_count": null,
   "metadata": {},
   "outputs": [],
   "source": [
    "def get_agent_purchases_and_price(agent_df, agent_id):\n",
    "    '''\n",
    "    Retrieves purchases and price per brand per step for a specific agent from agent level output\n",
    "    '''\n",
    "    # Filter the DataFrame for the specified agent\n",
    "    agent_df_filtered = agent_df.xs(agent_id, level='AgentID')\n",
    "    \n",
    "    # Initialize empty lists to store the results\n",
    "    purchases_A = []\n",
    "    purchases_B = []\n",
    "    price_A = []\n",
    "    price_B = []\n",
    "    dates = []\n",
    "\n",
    "    # Iterate over the 'Purchased_This_Step' and 'Current_Price' columns\n",
    "    for index, row in agent_df_filtered.iterrows():\n",
    "        # Append the purchases and price for each brand to the respective list\n",
    "        purchases_A.append(row['Purchased_This_Step']['A'])\n",
    "        purchases_B.append(row['Purchased_This_Step']['B'])\n",
    "        price_A.append(row['price_A'])\n",
    "        price_B.append(row['price_B'])\n",
    "        dates.append(row['Date'])\n",
    "\n",
    "    # Create a new DataFrame with the purchases and price for each brand\n",
    "    agent_purchases_and_price_df = pd.DataFrame({\n",
    "        'Date': dates,\n",
    "        'Purchases_A': purchases_A,\n",
    "        'Price_A': price_A,\n",
    "        'Purchases_B': purchases_B,\n",
    "        'Price_B': price_B,\n",
    "    })\n",
    "\n",
    "    return agent_purchases_and_price_df"
   ]
  },
  {
   "cell_type": "code",
   "execution_count": null,
   "metadata": {},
   "outputs": [],
   "source": [
    "agent_purchases_and_price_df = get_agent_purchases_and_price(agent_df, 431)"
   ]
  },
  {
   "cell_type": "code",
   "execution_count": null,
   "metadata": {},
   "outputs": [],
   "source": [
    "fig, axs = plt.subplots(1, 2, figsize=(15,6))\n",
    "\n",
    "# Scatter plot for Brand A with filled black circles and transparency\n",
    "axs[0].scatter(agent_purchases_and_price_df['Price_A'] + np.random.normal(0, 0.01, size=len(agent_purchases_and_price_df['Price_A'])), \n",
    "               agent_purchases_and_price_df['Purchases_A'] + np.random.normal(0, 0.01, size=len(agent_purchases_and_price_df['Purchases_A'])), \n",
    "               label='Brand A', color='black', alpha=0.5)\n",
    "axs[0].set_title('(Jittered) Purchases vs Price for Brand A')\n",
    "axs[0].set_xlabel('Price')\n",
    "axs[0].set_ylabel('Purchases')\n",
    "axs[0].legend(loc='upper center', bbox_to_anchor=(0.5, -0.10), ncol=2, fontsize='small', frameon=False)\n",
    "\n",
    "# Scatter plot for Brand B with unfilled black circles and transparency\n",
    "axs[1].scatter(agent_purchases_and_price_df['Price_B'] + np.random.normal(0, 0.01, size=len(agent_purchases_and_price_df['Price_B'])), \n",
    "               agent_purchases_and_price_df['Purchases_B'] + np.random.normal(0, 0.01, size=len(agent_purchases_and_price_df['Purchases_B'])), \n",
    "               label='Brand B', facecolor='none', edgecolor='black', alpha=0.5)\n",
    "axs[1].set_title('(Jittered) Purchases vs Price for Brand B')\n",
    "axs[1].set_xlabel('Price')\n",
    "axs[1].set_ylabel('Purchases')\n",
    "axs[1].legend(loc='upper center', bbox_to_anchor=(0.5, -0.10), ncol=2, fontsize='small', frameon=False)\n",
    "\n",
    "plt.tight_layout()\n",
    "plt.show()"
   ]
  },
  {
   "cell_type": "code",
   "execution_count": null,
   "metadata": {},
   "outputs": [],
   "source": [
    "# Define the dependent variable and the independent variables\n",
    "Y = agent_purchases_and_price_df['Purchases_A']\n",
    "X = agent_purchases_and_price_df['Price_A']\n",
    "X = sm.add_constant(X)  # Add a constant to the independent variables\n",
    "\n",
    "# Fit the model\n",
    "poisson_model = sm.GLM(Y, X, family=sm.families.Poisson())\n",
    "poisson_results = poisson_model.fit()\n",
    "\n",
    "# The coefficient of 'Price_A' is the price elasticity of demand for Brand A\n",
    "elasticity_A = poisson_results.params['Price_A']\n",
    "\n",
    "# Repeat the process for Brand B\n",
    "Y = agent_purchases_and_price_df['Purchases_B']\n",
    "X = agent_purchases_and_price_df['Price_B']\n",
    "X = sm.add_constant(X)\n",
    "\n",
    "poisson_model = sm.GLM(Y, X, family=sm.families.Poisson())\n",
    "poisson_results = poisson_model.fit()\n",
    "\n",
    "elasticity_B = poisson_results.params['Price_B']"
   ]
  },
  {
   "cell_type": "code",
   "execution_count": null,
   "metadata": {},
   "outputs": [],
   "source": [
    "elasticity_A"
   ]
  },
  {
   "cell_type": "code",
   "execution_count": null,
   "metadata": {},
   "outputs": [],
   "source": [
    "elasticity_B"
   ]
  },
  {
   "cell_type": "code",
   "execution_count": null,
   "metadata": {},
   "outputs": [],
   "source": [
    "# Define the dependent variable and the independent variables\n",
    "Y = agent_purchases_and_price_df['Purchases_A']\n",
    "X = agent_purchases_and_price_df['Price_A']\n",
    "X = sm.add_constant(X)  # Add a constant to the independent variables\n",
    "\n",
    "# Fit the Zero-Inflated Poisson model\n",
    "zip_model_A = sm.ZeroInflatedPoisson(Y, X).fit()\n",
    "\n",
    "# The coefficient of 'Price_A' is the price elasticity of demand for Brand A\n",
    "elasticity_A = zip_model_A.params['Price_A']\n",
    "\n",
    "# Repeat the process for Brand B\n",
    "Y = agent_purchases_and_price_df['Purchases_B']\n",
    "X = agent_purchases_and_price_df['Price_B']\n",
    "X = sm.add_constant(X)\n",
    "\n",
    "zip_model_B = sm.ZeroInflatedPoisson(Y, X).fit()\n",
    "\n",
    "elasticity_B = zip_model_B.params['Price_B']"
   ]
  },
  {
   "cell_type": "code",
   "execution_count": null,
   "metadata": {},
   "outputs": [],
   "source": [
    "elasticity_A"
   ]
  },
  {
   "cell_type": "code",
   "execution_count": null,
   "metadata": {},
   "outputs": [],
   "source": [
    "\n",
    "elasticity_B"
   ]
  }
 ],
 "metadata": {
  "kernelspec": {
   "display_name": "pydev",
   "language": "python",
   "name": "python3"
  },
  "language_info": {
   "codemirror_mode": {
    "name": "ipython",
    "version": 3
   },
   "file_extension": ".py",
   "mimetype": "text/x-python",
   "name": "python",
   "nbconvert_exporter": "python",
   "pygments_lexer": "ipython3",
   "version": "3.12.5"
  }
 },
 "nbformat": 4,
 "nbformat_minor": 2
}

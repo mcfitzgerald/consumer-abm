{
 "cells": [
  {
   "cell_type": "code",
   "execution_count": 5,
   "metadata": {},
   "outputs": [
    {
     "name": "stdout",
     "output_type": "stream",
     "text": [
      "Softmax values (no log transform, no inverse): [0.26894142 0.73105858]\n",
      "Softmax values (log transform): [0.4 0.6]\n",
      "Softmax values (inverse): [0.73105858 0.26894142]\n",
      "Softmax values (log transform, inverse): [0.6 0.4]\n"
     ]
    }
   ],
   "source": [
    "import numpy as np\n",
    "from cabm.agent_functions import magnitude_adjusted_softmax\n",
    "\n",
    "# Sample input array\n",
    "x = np.array([1.0,2.0])\n",
    "\n",
    "# Compute softmax without log transformation and without inverse\n",
    "softmax_values = magnitude_adjusted_softmax(x, log_transform=False, inverse=False)\n",
    "print(\"Softmax values (no log transform, no inverse):\", softmax_values)\n",
    "\n",
    "# Compute softmax with log transformation\n",
    "softmax_values_log = magnitude_adjusted_softmax(x, log_transform=True, inverse=False)\n",
    "print(\"Softmax values (log transform):\", softmax_values_log)\n",
    "\n",
    "# Compute softmax with inverse\n",
    "softmax_values_inverse = magnitude_adjusted_softmax(x, log_transform=False, inverse=True)\n",
    "print(\"Softmax values (inverse):\", softmax_values_inverse)\n",
    "\n",
    "# Compute softmax with both log transformation and inverse\n",
    "softmax_values_log_inverse = magnitude_adjusted_softmax(x, log_transform=True, inverse=True)\n",
    "print(\"Softmax values (log transform, inverse):\", softmax_values_log_inverse)"
   ]
  },
  {
   "cell_type": "code",
   "execution_count": null,
   "metadata": {},
   "outputs": [],
   "source": []
  }
 ],
 "metadata": {
  "kernelspec": {
   "display_name": "py311_mesa",
   "language": "python",
   "name": "python3"
  },
  "language_info": {
   "codemirror_mode": {
    "name": "ipython",
    "version": 3
   },
   "file_extension": ".py",
   "mimetype": "text/x-python",
   "name": "python",
   "nbconvert_exporter": "python",
   "pygments_lexer": "ipython3",
   "version": "3.11.9"
  }
 },
 "nbformat": 4,
 "nbformat_minor": 2
}

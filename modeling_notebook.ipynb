{
 "cells": [
  {
   "cell_type": "code",
   "execution_count": 1,
   "metadata": {},
   "outputs": [],
   "source": [
    "import random\n",
    "import numpy as np\n",
    "import pandas as pd\n",
    "import matplotlib\n",
    "import matplotlib.pyplot as plt\n",
    "\n",
    "random.seed(2)  # Set the seed for Python's random module\n",
    "np.random.seed(3)  # Set the seed for numpy's random module"
   ]
  },
  {
   "cell_type": "code",
   "execution_count": 2,
   "metadata": {},
   "outputs": [],
   "source": [
    "from cabm import cabm_model"
   ]
  },
  {
   "cell_type": "code",
   "execution_count": 9,
   "metadata": {},
   "outputs": [
    {
     "name": "stderr",
     "output_type": "stream",
     "text": [
      "/Users/michael/Documents/github/consumer-abm/cabm/ad_calendar.py:78: FutureWarning: Downcasting object dtype arrays on .fillna, .ffill, .bfill is deprecated and will change in a future version. Call result.infer_objects(copy=False) instead. To opt-in to the future behavior, set `pd.set_option('future.no_silent_downcasting', True)`\n",
      "  df = df.fillna(0)\n",
      "/Users/michael/Documents/github/consumer-abm/cabm/ad_calendar.py:78: FutureWarning: Downcasting object dtype arrays on .fillna, .ffill, .bfill is deprecated and will change in a future version. Call result.infer_objects(copy=False) instead. To opt-in to the future behavior, set `pd.set_option('future.no_silent_downcasting', True)`\n",
      "  df = df.fillna(0)\n"
     ]
    }
   ],
   "source": [
    "model = cabm_model.ConsumerModel(1000, \"config.toml\", enable_ads=True, enable_pricepoint=False)"
   ]
  },
  {
   "cell_type": "code",
   "execution_count": 10,
   "metadata": {},
   "outputs": [],
   "source": [
    "num_steps = 260\n",
    "\n",
    "for i in range(num_steps):\n",
    "    model.step()"
   ]
  },
  {
   "cell_type": "code",
   "execution_count": 11,
   "metadata": {},
   "outputs": [],
   "source": [
    "agent_df = model.datacollector.get_agent_vars_dataframe()"
   ]
  },
  {
   "cell_type": "code",
   "execution_count": 12,
   "metadata": {},
   "outputs": [],
   "source": [
    "# Chain copies of the 52 week plan together  to cover multi-year simulation (see note in TODO.txt about making this more flexible and robust)\n",
    "\n",
    "# Prep joint calendar for plotting\n",
    "joint_calendar_df = model.config.joint_calendar\n",
    "\n",
    "joint_calendar_df['TV_A'] = joint_calendar_df[('A', 'TV')]\n",
    "joint_calendar_df['Web_A'] = joint_calendar_df[('A', 'Web')]\n",
    "joint_calendar_df['TV_B'] = joint_calendar_df[('B', 'TV')]\n",
    "joint_calendar_df['Web_B'] = joint_calendar_df[('B', 'Web')]\n",
    "\n",
    "# Create a date range starting from January 2021\n",
    "date_range = pd.date_range(start='1/1/2021', periods=num_steps, freq='W')\n",
    "\n",
    "# Repeat the joint_calendar_df to match the length of model_df\n",
    "joint_calendar_df = pd.concat([joint_calendar_df]*int(len(date_range)/len(joint_calendar_df)), ignore_index=True)\n",
    "\n",
    "# Add the date range as a new column in joint_calendar_df\n",
    "joint_calendar_df['Date'] = date_range"
   ]
  },
  {
   "cell_type": "code",
   "execution_count": 13,
   "metadata": {},
   "outputs": [],
   "source": [
    "agent_df.to_pickle('agent_output_A_ADS_ONLY.pkl')\n",
    "joint_calendar_df.to_pickle('joint_calendar_A_ADS_ONLY.pkl')"
   ]
  },
  {
   "cell_type": "code",
   "execution_count": null,
   "metadata": {},
   "outputs": [],
   "source": []
  }
 ],
 "metadata": {
  "kernelspec": {
   "display_name": "pydev",
   "language": "python",
   "name": "python3"
  },
  "language_info": {
   "codemirror_mode": {
    "name": "ipython",
    "version": 3
   },
   "file_extension": ".py",
   "mimetype": "text/x-python",
   "name": "python",
   "nbconvert_exporter": "python",
   "pygments_lexer": "ipython3",
   "version": "3.12.3"
  }
 },
 "nbformat": 4,
 "nbformat_minor": 2
}

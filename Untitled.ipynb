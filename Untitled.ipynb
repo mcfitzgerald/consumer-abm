{
 "cells": [
  {
   "cell_type": "code",
   "execution_count": 1,
   "id": "b7779da6",
   "metadata": {},
   "outputs": [],
   "source": [
    "import numpy as np\n",
    "import scipy.stats as ss"
   ]
  },
  {
   "cell_type": "code",
   "execution_count": 2,
   "id": "8087ea82",
   "metadata": {},
   "outputs": [],
   "source": [
    "n, p = 10**4, 0.3"
   ]
  },
  {
   "cell_type": "code",
   "execution_count": 3,
   "id": "77ff8905",
   "metadata": {},
   "outputs": [],
   "source": [
    "rv = ss.binom(n, p)"
   ]
  },
  {
   "cell_type": "code",
   "execution_count": 6,
   "id": "0373df09",
   "metadata": {},
   "outputs": [
    {
     "data": {
      "text/plain": [
       "3000.0"
      ]
     },
     "execution_count": 6,
     "metadata": {},
     "output_type": "execute_result"
    }
   ],
   "source": [
    "rv.mean()"
   ]
  },
  {
   "cell_type": "code",
   "execution_count": 8,
   "id": "9ba7bfa8",
   "metadata": {},
   "outputs": [
    {
     "data": {
      "text/plain": [
       "<scipy.stats._discrete_distns.binom_gen at 0x11388ec50>"
      ]
     },
     "execution_count": 8,
     "metadata": {},
     "output_type": "execute_result"
    }
   ],
   "source": [
    "ss.binom"
   ]
  },
  {
   "cell_type": "code",
   "execution_count": 13,
   "id": "2b1387b1",
   "metadata": {},
   "outputs": [
    {
     "data": {
      "text/plain": [
       "array([2922, 2905, 3031, 2916, 3000, 3012, 2959, 2992, 3042, 2966])"
      ]
     },
     "execution_count": 13,
     "metadata": {},
     "output_type": "execute_result"
    }
   ],
   "source": [
    "rv.rvs(10)"
   ]
  },
  {
   "cell_type": "code",
   "execution_count": 22,
   "id": "440c6b06",
   "metadata": {},
   "outputs": [
    {
     "data": {
      "text/plain": [
       "array([3.60016643, 4.93739017, 5.30928718, 4.17016068, 4.60123184,\n",
       "       4.45243323, 3.92969249, 4.58088117, 4.75557344, 1.54905066])"
      ]
     },
     "execution_count": 22,
     "metadata": {},
     "output_type": "execute_result"
    }
   ],
   "source": [
    "abs(np.random.normal(4,1,10))"
   ]
  },
  {
   "cell_type": "code",
   "execution_count": 23,
   "id": "442fc450",
   "metadata": {},
   "outputs": [],
   "source": [
    "import matplotlib.pyplot as plt\n",
    "%matplotlib inline"
   ]
  },
  {
   "cell_type": "code",
   "execution_count": 81,
   "id": "4c67270f",
   "metadata": {},
   "outputs": [
    {
     "data": {
      "text/plain": [
       "(array([  9.,  18.,  78., 164., 232., 264., 130.,  81.,  20.,   4.]),\n",
       " array([1.85421319, 2.48926385, 3.12431451, 3.75936517, 4.39441583,\n",
       "        5.02946649, 5.66451715, 6.29956781, 6.93461847, 7.56966913,\n",
       "        8.20471979]),\n",
       " <BarContainer object of 10 artists>)"
      ]
     },
     "execution_count": 81,
     "metadata": {},
     "output_type": "execute_result"
    },
    {
     "data": {
      "image/png": "[encoded data removed]",
      "text/plain": [
       "<Figure size 640x480 with 1 Axes>"
      ]
     },
     "metadata": {},
     "output_type": "display_data"
    }
   ],
   "source": [
    "plt.hist(abs(np.random.normal(5,1,1000)))"
   ]
  },
  {
   "cell_type": "code",
   "execution_count": 28,
   "id": "845245d4",
   "metadata": {},
   "outputs": [],
   "source": [
    "import LIB_consumer_abm as cm"
   ]
  },
  {
   "cell_type": "code",
   "execution_count": 29,
   "id": "c8790b79",
   "metadata": {},
   "outputs": [
    {
     "data": {
      "text/plain": [
       "4.99"
      ]
     },
     "execution_count": 29,
     "metadata": {},
     "output_type": "execute_result"
    }
   ],
   "source": [
    "cm.get_current_price(4.99)"
   ]
  },
  {
   "cell_type": "code",
   "execution_count": 30,
   "id": "1cca8dcc",
   "metadata": {},
   "outputs": [],
   "source": [
    "import math"
   ]
  },
  {
   "cell_type": "code",
   "execution_count": 78,
   "id": "fbe5b2bf",
   "metadata": {},
   "outputs": [
    {
     "name": "stdout",
     "output_type": "stream",
     "text": [
      "[3, 4, 5, 6, 7, 8]\n"
     ]
    }
   ],
   "source": [
    "household_size = 5\n",
    "minimum = math.ceil(household_size * 0.5)\n",
    "maximum = math.ceil(household_size * 1.5)\n",
    "pantry_sizes = list(range(minimum, (maximum + 1)))\n",
    "print(pantry_sizes)\n"
   ]
  },
  {
   "cell_type": "code",
   "execution_count": 91,
   "id": "f5f1edfe",
   "metadata": {},
   "outputs": [],
   "source": [
    "def set_pantry_size(household_size, pantry_min):\n",
    "    pantry_size = math.ceil(np.random.normal(household_size,1))\n",
    "    if pantry_size < pantry_min:\n",
    "        pantry_size = pantry_min\n",
    "    return pantry_size"
   ]
  },
  {
   "cell_type": "code",
   "execution_count": 95,
   "id": "57151885",
   "metadata": {},
   "outputs": [
    {
     "data": {
      "text/plain": [
       "6"
      ]
     },
     "execution_count": 95,
     "metadata": {},
     "output_type": "execute_result"
    }
   ],
   "source": [
    "set_pantry_size(5)"
   ]
  },
  {
   "cell_type": "code",
   "execution_count": 102,
   "id": "fdf88166",
   "metadata": {},
   "outputs": [
    {
     "data": {
      "text/plain": [
       "[1, 2, 1, 1, 0, 2, 2, 1, 1, 2]"
      ]
     },
     "execution_count": 102,
     "metadata": {},
     "output_type": "execute_result"
    }
   ],
   "source": [
    "[np.random.choice(list(range(0,(3 + 1)))) for i in range(10)]"
   ]
  },
  {
   "cell_type": "code",
   "execution_count": null,
   "id": "7ac18d3b",
   "metadata": {},
   "outputs": [],
   "source": [
    "purchase_intent(price_sens):\n",
    "    if below_pantry_min:\n",
    "        \n",
    "    "
   ]
  },
  {
   "cell_type": "code",
   "execution_count": null,
   "id": "a7f85f94",
   "metadata": {},
   "outputs": [],
   "source": [
    "def price_sens(current_price, base_price):\n",
    "    if below_pantry_min:\n",
    "        print(\"must buy at least enough to surpass min\")\n",
    "    elif current_price < base_price:\n",
    "        print(\"some probability to buy based on delta base-cur and pantry min/max\")\n",
    "    else:\n",
    "        print(\"p\")"
   ]
  },
  {
   "cell_type": "code",
   "execution_count": 103,
   "id": "0b40d8de",
   "metadata": {},
   "outputs": [],
   "source": [
    "%matplotlib inline"
   ]
  },
  {
   "cell_type": "code",
   "execution_count": 104,
   "id": "89ec227e",
   "metadata": {},
   "outputs": [],
   "source": [
    "import matplotlib.pyplot as plt\n",
    "import numpy as np\n",
    "import pandas as pd\n",
    "import statsmodels.api as sm\n",
    "\n",
    "np.random.seed(9876789)"
   ]
  },
  {
   "cell_type": "code",
   "execution_count": 105,
   "id": "a25892b8",
   "metadata": {},
   "outputs": [],
   "source": [
    "nsample = 100\n",
    "x = np.linspace(0, 10, 100)\n",
    "X = np.column_stack((x, x ** 2))\n",
    "beta = np.array([1, 0.1, 10])\n",
    "e = np.random.normal(size=nsample)"
   ]
  },
  {
   "cell_type": "code",
   "execution_count": 111,
   "id": "b67c92c2",
   "metadata": {},
   "outputs": [],
   "source": [
    "X = sm.add_constant(X)\n",
    "y = np.dot(X, beta) + e"
   ]
  },
  {
   "cell_type": "code",
   "execution_count": 113,
   "id": "5e36d76c",
   "metadata": {},
   "outputs": [
    {
     "data": {
      "text/plain": [
       "array([1.59484106e-01, 2.70962667e+00, 1.89386568e+00, 1.44041774e+00,\n",
       "       5.60719622e+00, 4.01415960e+00, 3.79042816e+00, 5.49896267e+00,\n",
       "       7.93934063e+00, 9.31871940e+00, 1.16151797e+01, 1.30800908e+01,\n",
       "       1.65916731e+01, 1.90612419e+01, 2.22779839e+01, 2.22973772e+01,\n",
       "       2.90728303e+01, 2.95174936e+01, 3.43906010e+01, 3.68997190e+01,\n",
       "       4.15314299e+01, 4.65124798e+01, 4.87622029e+01, 5.54649378e+01,\n",
       "       6.03995721e+01, 6.68905550e+01, 7.10273234e+01, 7.57840504e+01,\n",
       "       8.32307851e+01, 8.80067872e+01, 9.24604592e+01, 1.00869036e+02,\n",
       "       1.05000770e+02, 1.13078878e+02, 1.18651097e+02, 1.26357451e+02,\n",
       "       1.32682080e+02, 1.39131512e+02, 1.47437302e+02, 1.56109386e+02,\n",
       "       1.64097051e+02, 1.73688174e+02, 1.81821259e+02, 1.88890813e+02,\n",
       "       1.99352099e+02, 2.10227715e+02, 2.16641136e+02, 2.28077202e+02,\n",
       "       2.37086627e+02, 2.45435044e+02, 2.56253216e+02, 2.66268455e+02,\n",
       "       2.77388427e+02, 2.88835852e+02, 2.97996070e+02, 3.11225764e+02,\n",
       "       3.20222632e+02, 3.34500736e+02, 3.44501923e+02, 3.54912182e+02,\n",
       "       3.69614763e+02, 3.79619250e+02, 3.91610439e+02, 4.07712238e+02,\n",
       "       4.19465289e+02, 4.32534578e+02, 4.46978741e+02, 4.59369684e+02,\n",
       "       4.72600426e+02, 4.86936696e+02, 5.01205937e+02, 5.16248974e+02,\n",
       "       5.30375416e+02, 5.46084472e+02, 5.62111718e+02, 5.75818401e+02,\n",
       "       5.89890017e+02, 6.05658290e+02, 6.21938723e+02, 6.38481747e+02,\n",
       "       6.54547765e+02, 6.72619064e+02, 6.88445270e+02, 7.04880480e+02,\n",
       "       7.20761701e+02, 7.40023290e+02, 7.56122969e+02, 7.75755497e+02,\n",
       "       7.90868951e+02, 8.10124196e+02, 8.27670766e+02, 8.46145961e+02,\n",
       "       8.67189694e+02, 8.84269551e+02, 9.02190720e+02, 9.23205757e+02,\n",
       "       9.44357509e+02, 9.60546815e+02, 9.82038002e+02, 1.00013685e+03])"
      ]
     },
     "execution_count": 113,
     "metadata": {},
     "output_type": "execute_result"
    }
   ],
   "source": []
  },
  {
   "cell_type": "code",
   "execution_count": 114,
   "id": "4145197f",
   "metadata": {},
   "outputs": [],
   "source": [
    "import statsmodels.formula.api as smf"
   ]
  },
  {
   "cell_type": "code",
   "execution_count": 115,
   "id": "ee3eff61",
   "metadata": {},
   "outputs": [],
   "source": [
    "dat = sm.datasets.get_rdataset(\"Guerry\", \"HistData\").data"
   ]
  },
  {
   "cell_type": "code",
   "execution_count": 120,
   "id": "e1a031b0",
   "metadata": {},
   "outputs": [
    {
     "data": {
      "text/plain": [
       "['dept',\n",
       " 'Region',\n",
       " 'Department',\n",
       " 'Crime_pers',\n",
       " 'Crime_prop',\n",
       " 'Literacy',\n",
       " 'Donations',\n",
       " 'Infants',\n",
       " 'Suicides',\n",
       " 'MainCity',\n",
       " 'Wealth',\n",
       " 'Commerce',\n",
       " 'Clergy',\n",
       " 'Crime_parents',\n",
       " 'Infanticide',\n",
       " 'Donation_clergy',\n",
       " 'Lottery',\n",
       " 'Desertion',\n",
       " 'Instruction',\n",
       " 'Prostitutes',\n",
       " 'Distance',\n",
       " 'Area',\n",
       " 'Pop1831']"
      ]
     },
     "execution_count": 120,
     "metadata": {},
     "output_type": "execute_result"
    }
   ],
   "source": [
    "list(dat.columns)"
   ]
  },
  {
   "cell_type": "code",
   "execution_count": null,
   "id": "d13f3a01",
   "metadata": {},
   "outputs": [],
   "source": []
  }
 ],
 "metadata": {
  "kernelspec": {
   "display_name": "Python 3 (ipykernel)",
   "language": "python",
   "name": "python3"
  },
  "language_info": {
   "codemirror_mode": {
    "name": "ipython",
    "version": 3
   },
   "file_extension": ".py",
   "mimetype": "text/x-python",
   "name": "python",
   "nbconvert_exporter": "python",
   "pygments_lexer": "ipython3",
   "version": "3.10.10"
  }
 },
 "nbformat": 4,
 "nbformat_minor": 5
}

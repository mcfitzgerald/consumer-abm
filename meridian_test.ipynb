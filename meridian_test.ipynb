{
 "cells": [
  {
   "cell_type": "code",
   "execution_count": 1,
   "metadata": {},
   "outputs": [],
   "source": [
    "import pandas as pd"
   ]
  },
  {
   "cell_type": "code",
   "execution_count": 2,
   "metadata": {},
   "outputs": [],
   "source": [
    "df = pd.read_csv('sim_data_trunc.csv')"
   ]
  },
  {
   "cell_type": "code",
   "execution_count": 3,
   "metadata": {},
   "outputs": [
    {
     "name": "stdout",
     "output_type": "stream",
     "text": [
      "         Date  Step  price_A      tv_A  web_A  price_B  tv_B  web_B  \\\n",
      "0  2022-01-02    52      5.0       0.0    0.0      5.0   0.0    0.0   \n",
      "1  2022-01-09    53      5.0       0.0    0.0      5.0   0.0    0.0   \n",
      "2  2022-01-16    54      5.0       0.0    0.0      5.0   0.0    0.0   \n",
      "3  2022-01-23    55      5.0       0.0    0.0      5.0   0.0    0.0   \n",
      "4  2022-01-30    56      5.0  125000.0    0.0      5.0   0.0    0.0   \n",
      "\n",
      "   Total_Purchases_A  Total_Purchases_B  Total_Sales_A  Total_Sales_B  \n",
      "0              618.0              243.0      3090000.0      1215000.0  \n",
      "1              531.0              187.0      2655000.0       935000.0  \n",
      "2              653.0              240.0      3265000.0      1200000.0  \n",
      "3              521.0              207.0      2605000.0      1035000.0  \n",
      "4              620.0              231.0      3100000.0      1155000.0  \n"
     ]
    }
   ],
   "source": [
    "print(df.head())"
   ]
  },
  {
   "cell_type": "code",
   "execution_count": 4,
   "metadata": {},
   "outputs": [
    {
     "name": "stderr",
     "output_type": "stream",
     "text": [
      "/Users/michael/.venvs/pymmm_0_6_0/lib/python3.12/site-packages/meridian/data/load.py:1020: FutureWarning: Downcasting behavior in `replace` is deprecated and will be removed in a future version. To retain the old behavior, explicitly call `result.infer_objects(copy=False)`. To opt-in to the future behavior, set `pd.set_option('future.no_silent_downcasting', True)`\n",
      "  self.df[geo_column_name] = self.df[geo_column_name].replace(\n",
      "/Users/michael/.venvs/pymmm_0_6_0/lib/python3.12/site-packages/meridian/data/load.py:201: FutureWarning: The return type of `Dataset.dims` will be changed to return a set of dimension names in future, in order to be more consistent with `DataArray.dims`. To access a mapping from dimension names to lengths, please use `Dataset.sizes`.\n",
      "  if (constants.GEO) not in self.dataset.dims.keys():\n",
      "/Users/michael/.venvs/pymmm_0_6_0/lib/python3.12/site-packages/meridian/data/load.py:206: UserWarning: The `population` argument is ignored in a nationally aggregated model. It will be reset to [1]\n",
      "  warnings.warn(\n",
      "/Users/michael/.venvs/pymmm_0_6_0/lib/python3.12/site-packages/meridian/data/load.py:231: FutureWarning: The return type of `Dataset.dims` will be changed to return a set of dimension names in future, in order to be more consistent with `DataArray.dims`. To access a mapping from dimension names to lengths, please use `Dataset.sizes`.\n",
      "  if constants.MEDIA_TIME not in self.dataset.dims.keys():\n",
      "/Users/michael/.venvs/pymmm_0_6_0/lib/python3.12/site-packages/meridian/model/model.py:67: UserWarning: In a nationally aggregated model, the `media_effects_dist` will be reset to `normal`.\n",
      "  warnings.warn(\n",
      "WARNING: All log messages before absl::InitializeLog() is called are written to STDERR\n",
      "I0000 00:00:1739480478.594485  175329 service.cc:145] XLA service 0x329785760 initialized for platform Host (this does not guarantee that XLA will be used). Devices:\n",
      "I0000 00:00:1739480478.594732  175329 service.cc:153]   StreamExecutor device (0): Host, Default Version\n",
      "I0000 00:00:1739480478.601550  175329 device_compiler.h:188] Compiled cluster using XLA!  This line is logged at most once for the lifetime of the process.\n",
      "/Users/michael/.venvs/pymmm_0_6_0/lib/python3.12/site-packages/meridian/model/transformers.py:76: RuntimeWarning: All-NaN slice encountered\n",
      "  func=lambda x: np.nanmedian(x, axis=[0, 1]),\n",
      "/Users/michael/.venvs/pymmm_0_6_0/lib/python3.12/site-packages/meridian/model/prior_distribution.py:846: UserWarning: Hierarchical distribution parameters must be deterministically zero for national models. tau_g_excl_baseline has been automatically set to Deterministic(0).\n",
      "  warnings.warn(\n",
      "/Users/michael/.venvs/pymmm_0_6_0/lib/python3.12/site-packages/meridian/model/prior_distribution.py:846: UserWarning: Hierarchical distribution parameters must be deterministically zero for national models. eta_m has been automatically set to Deterministic(0).\n",
      "  warnings.warn(\n",
      "/Users/michael/.venvs/pymmm_0_6_0/lib/python3.12/site-packages/meridian/model/prior_distribution.py:846: UserWarning: Hierarchical distribution parameters must be deterministically zero for national models. eta_rf has been automatically set to Deterministic(0).\n",
      "  warnings.warn(\n",
      "/Users/michael/.venvs/pymmm_0_6_0/lib/python3.12/site-packages/meridian/model/prior_distribution.py:846: UserWarning: Hierarchical distribution parameters must be deterministically zero for national models. eta_om has been automatically set to Deterministic(0).\n",
      "  warnings.warn(\n",
      "/Users/michael/.venvs/pymmm_0_6_0/lib/python3.12/site-packages/meridian/model/prior_distribution.py:846: UserWarning: Hierarchical distribution parameters must be deterministically zero for national models. eta_orf has been automatically set to Deterministic(0).\n",
      "  warnings.warn(\n",
      "/Users/michael/.venvs/pymmm_0_6_0/lib/python3.12/site-packages/meridian/model/prior_distribution.py:846: UserWarning: Hierarchical distribution parameters must be deterministically zero for national models. xi_c has been automatically set to Deterministic(0).\n",
      "  warnings.warn(\n",
      "/Users/michael/.venvs/pymmm_0_6_0/lib/python3.12/site-packages/meridian/model/prior_distribution.py:846: UserWarning: Hierarchical distribution parameters must be deterministically zero for national models. xi_n has been automatically set to Deterministic(0).\n",
      "  warnings.warn(\n",
      "W0000 00:00:1739480501.634247  175329 random_ops.cc:105] Warning: Using tf.random.uniform with XLA compilation will ignore seeds; consider using tf.random.stateless_uniform instead if reproducible behavior is desired. sanitize_seed/seed\n",
      "W0000 00:00:1739480502.014562  175329 assert_op.cc:38] Ignoring Assert operator mcmc_retry_init/assert_equal_1/Assert/AssertGuard/Assert\n",
      "/Users/michael/.venvs/pymmm_0_6_0/lib/python3.12/site-packages/arviz/data/inference_data.py:157: UserWarning: trace group is not defined in the InferenceData scheme\n",
      "  warnings.warn(\n",
      "/Users/michael/.venvs/pymmm_0_6_0/lib/python3.12/site-packages/arviz/data/inference_data.py:1647: UserWarning: trace group is not defined in the InferenceData scheme\n",
      "  warnings.warn(\n"
     ]
    }
   ],
   "source": [
    "import pandas as pd\n",
    "from meridian.data import load\n",
    "from meridian.model import model, spec, prior_distribution\n",
    "import tensorflow_probability as tfp\n",
    "\n",
    "# Assuming df is your DataFrame\n",
    "coord_to_columns = load.CoordToColumns(\n",
    "    time='Date',\n",
    "    controls=['price_A', 'price_B'],\n",
    "    kpi='Total_Purchases_A',  # or 'Total_Purchases_B' depending on your focus\n",
    "    revenue_per_kpi='Total_Sales_A',  # or 'Total_Sales_B'\n",
    "    media=['tv_A', 'web_A', 'tv_B', 'web_B'],\n",
    "    media_spend=['tv_A', 'web_A', 'tv_B', 'web_B'],  # Assuming spend is same as media exposure\n",
    ")\n",
    "\n",
    "media_to_channel = {\n",
    "    'tv_A': 'TV_A',\n",
    "    'web_A': 'Web_A',\n",
    "    'tv_B': 'TV_B',\n",
    "    'web_B': 'Web_B',\n",
    "}\n",
    "\n",
    "media_spend_to_channel = {\n",
    "    'tv_A': 'TV_A',\n",
    "    'web_A': 'Web_A',\n",
    "    'tv_B': 'TV_B',\n",
    "    'web_B': 'Web_B',\n",
    "}\n",
    "\n",
    "# Load the data\n",
    "data_loader = load.DataFrameDataLoader(\n",
    "    df=df,\n",
    "    coord_to_columns=coord_to_columns,\n",
    "    kpi_type='non_revenue',  # Corrected from 'non-revenue' to 'non_revenue'\n",
    "    media_to_channel=media_to_channel,\n",
    "    media_spend_to_channel=media_spend_to_channel,\n",
    ")\n",
    "data = data_loader.load()\n",
    "\n",
    "# Configure the model\n",
    "roi_mu = 0.2\n",
    "roi_sigma = 0.9\n",
    "prior = prior_distribution.PriorDistribution(\n",
    "    roi_m=tfp.distributions.LogNormal(roi_mu, roi_sigma, name='ROI_M')\n",
    ")\n",
    "model_spec = spec.ModelSpec(prior=prior)\n",
    "\n",
    "# Initialize and run the model\n",
    "mmm = model.Meridian(input_data=data, model_spec=model_spec)\n",
    "mmm.sample_prior(500)\n",
    "mmm.sample_posterior(n_chains=7, n_adapt=500, n_burnin=500, n_keep=1000)"
   ]
  },
  {
   "cell_type": "code",
   "execution_count": 6,
   "metadata": {},
   "outputs": [
    {
     "ename": "AttributeError",
     "evalue": "'Meridian' object has no attribute 'get_posterior_samples'",
     "output_type": "error",
     "traceback": [
      "\u001b[0;31m---------------------------------------------------------------------------\u001b[0m",
      "\u001b[0;31mAttributeError\u001b[0m                            Traceback (most recent call last)",
      "Cell \u001b[0;32mIn[6], line 2\u001b[0m\n\u001b[1;32m      1\u001b[0m \u001b[38;5;66;03m# Extract posterior samples\u001b[39;00m\n\u001b[0;32m----> 2\u001b[0m posterior_samples \u001b[38;5;241m=\u001b[39m \u001b[43mmmm\u001b[49m\u001b[38;5;241;43m.\u001b[39;49m\u001b[43mget_posterior_samples\u001b[49m()\n\u001b[1;32m      4\u001b[0m \u001b[38;5;66;03m# View summary statistics\u001b[39;00m\n\u001b[1;32m      5\u001b[0m summary \u001b[38;5;241m=\u001b[39m mmm\u001b[38;5;241m.\u001b[39msummary()\n",
      "\u001b[0;31mAttributeError\u001b[0m: 'Meridian' object has no attribute 'get_posterior_samples'"
     ]
    }
   ],
   "source": [
    "# Extract posterior samples\n",
    "posterior_samples = mmm.get_posterior_samples()\n",
    "\n",
    "# View summary statistics\n",
    "summary = mmm.summary()\n",
    "print(summary)\n",
    "\n",
    "# Visualize the results\n",
    "mmm.plot_posterior_distributions()\n",
    "mmm.plot_media_effects()"
   ]
  },
  {
   "cell_type": "code",
   "execution_count": null,
   "metadata": {},
   "outputs": [],
   "source": []
  }
 ],
 "metadata": {
  "kernelspec": {
   "display_name": "pymmm_0_6_0",
   "language": "python",
   "name": "python3"
  },
  "language_info": {
   "codemirror_mode": {
    "name": "ipython",
    "version": 3
   },
   "file_extension": ".py",
   "mimetype": "text/x-python",
   "name": "python",
   "nbconvert_exporter": "python",
   "pygments_lexer": "ipython3",
   "version": "3.12.9"
  }
 },
 "nbformat": 4,
 "nbformat_minor": 2
}

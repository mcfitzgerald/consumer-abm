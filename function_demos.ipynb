{
 "cells": [
  {
   "cell_type": "code",
   "execution_count": null,
   "metadata": {},
   "outputs": [],
   "source": [
    "import matplotlib.pyplot as plt\n",
    "import numpy as np\n",
    "import pandas as pd\n",
    "\n",
    "from cabm.agent_functions import (\n",
    "    sample_normal_min,\n",
    "    sample_beta_min,\n",
    "    magnitude_adjusted_softmax,\n",
    "    get_ad_impact_on_purchase_probabilities,\n",
    "    get_probability_of_change_in_units_purchased_due_to_price,\n",
    "    get_probability_of_change_in_units_purchased_due_to_adstock,\n",
    ")"
   ]
  },
  {
   "cell_type": "code",
   "execution_count": null,
   "metadata": {},
   "outputs": [],
   "source": [
    "def visualize_sample_normal_min(mean_range, std_dev=1.0, min_value=1.0, override=0, num_samples=1000):\n",
    "    all_samples = []\n",
    "\n",
    "    for mean in mean_range:\n",
    "        mean_samples = [sample_normal_min(mean, std_dev, min_value, override) for _ in range(num_samples)]\n",
    "        all_samples.append(mean_samples)\n",
    "\n",
    "    plt.figure(figsize=(15, 8))\n",
    "    plt.boxplot(all_samples, positions=mean_range, widths=0.5)\n",
    "    plt.xlabel('Mean Input')\n",
    "    plt.ylabel('Sampled Values')\n",
    "    plt.title('Distribution of sample_normal_min over a range of mean inputs')\n",
    "    plt.grid(True)\n",
    "    \n",
    "    # Format x-axis tick labels to show fewer decimal places\n",
    "    plt.xticks(ticks=mean_range, labels=[f'{mean:.2f}' for mean in mean_range])\n",
    "    \n",
    "    plt.show()\n",
    "\n",
    "# Define the range of mean values\n",
    "mean_range = [i for i in range(0,11)]\n",
    "\n",
    "# Visualize the function\n",
    "visualize_sample_normal_min(mean_range)"
   ]
  },
  {
   "cell_type": "code",
   "execution_count": null,
   "metadata": {},
   "outputs": [],
   "source": [
    "alpha = 20\n",
    "beta = 2\n",
    "samps = [sample_beta_min(alpha=alpha,beta=beta) for i in range(1000)]\n",
    "plt.hist(samps, bins=50, edgecolor='k', alpha=0.7)\n",
    "plt.xlabel('Sampled Values')\n",
    "plt.ylabel('Frequency')\n",
    "plt.title(f'Distribution of sample_beta_min with alpha={alpha} and beta={beta}')\n",
    "plt.grid(True)\n",
    "    \n",
    "plt.show()"
   ]
  },
  {
   "cell_type": "code",
   "execution_count": null,
   "metadata": {},
   "outputs": [],
   "source": [
    "logarithmic_range = np.array([1,10,100,1000,10000,100000,1000000])"
   ]
  },
  {
   "cell_type": "code",
   "execution_count": null,
   "metadata": {},
   "outputs": [],
   "source": [
    "log_transformed_MAS = magnitude_adjusted_softmax(logarithmic_range)\n",
    "log_inverse_transformed_MAS = magnitude_adjusted_softmax(logarithmic_range, inverse=True)\n",
    "no_temp_log_transformed_MAS = magnitude_adjusted_softmax(logarithmic_range, magnitude_adjusted_temperature=False)\n",
    "\n",
    "plt.figure(figsize=(10, 6))\n",
    "plt.plot(logarithmic_range, log_transformed_MAS, label='log_transformed_MAS')\n",
    "plt.plot(logarithmic_range, log_inverse_transformed_MAS, label='log_inverse_transformed_MAS')\n",
    "#plt.plot(logarithmic_range, no_temp_log_transformed_MAS, label='no_temp_log_transformed_MAS')\n",
    "plt.xscale('log')\n",
    "#plt.yscale('log')\n",
    "plt.legend()"
   ]
  },
  {
   "cell_type": "code",
   "execution_count": null,
   "metadata": {},
   "outputs": [],
   "source": [
    "# Define the range for \"A\" adstock\n",
    "adstock_A_range = range(1, 100001, 100)\n",
    "\n",
    "# Initialize lists to store the results\n",
    "prob_A = []\n",
    "prob_B = []\n",
    "adstock_ratios = []  # List to store the adstock ratios\n",
    "\n",
    "# Iterate over the adstock_A_range\n",
    "for adstock_A in adstock_A_range:\n",
    "    adstock_B = 1000\n",
    "    adstock = {\"A\": adstock_A, \"B\": adstock_B}\n",
    "    brand_preference = \"A\"\n",
    "    loyalty_rate = 0.8\n",
    "\n",
    "    # Get the probabilities\n",
    "    probabilities = get_ad_impact_on_purchase_probabilities(adstock=adstock, brand_preference=brand_preference, loyalty_rate=loyalty_rate)\n",
    "    \n",
    "    # Store the probabilities\n",
    "    prob_A.append(probabilities['A'])\n",
    "    prob_B.append(probabilities['B'])\n",
    "\n",
    "    # Calculate and store the adstock ratio\n",
    "    adstock_ratios.append(adstock_A / adstock_B)\n",
    "\n",
    "# Plot the results\n",
    "plt.figure(figsize=(10, 6))\n",
    "plt.plot(adstock_ratios, prob_A, label='A')  # Use adstock_ratios as x-axis values\n",
    "plt.plot(adstock_ratios, prob_B, label='B')  # Use adstock_ratios as x-axis values\n",
    "plt.xlabel('Adstock Ratio (A/B)')\n",
    "plt.xscale('log')\n",
    "plt.ylabel('Probability')\n",
    "plt.title('Impact of Adstock Ratio on Purchase Probabilities - Base Loyalty A:0.8')\n",
    "plt.legend()\n",
    "plt.grid(True)\n",
    "plt.show()"
   ]
  },
  {
   "cell_type": "code",
   "execution_count": null,
   "metadata": {},
   "outputs": [],
   "source": [
    "def SHIMMED_get_price_impact_on_brand_choice_probabilities(\n",
    "    price_list,\n",
    "    brand_preference,\n",
    "    loyalty_rate,\n",
    "):\n",
    "    \"\"\"\n",
    "    Note - see original function signature below - instead of constructing the price list\n",
    "    from week number and joint calendar, a mock price list is passed to this modified func\n",
    "\n",
    "    This function calculates the probability of purchasing each brand.\n",
    "    Note that there is separate logic for how much of a chosen brand to purchase,\n",
    "    this differs by setting probability of switching brands based on price.\n",
    "\n",
    "    Parameters:\n",
    "    week_number (int): The week number.\n",
    "    brand_list (List[str]): A list of all available brands.\n",
    "    joint_calendar (pd.DataFrame): A DataFrame containing the joint calendar.\n",
    "    brand_preference (str): The preferred brand.\n",
    "    loyalty_rate (float): The loyalty rate.\n",
    "\n",
    "    Returns:\n",
    "    dict: A dictionary mapping brands to their purchase probabilities.\n",
    "    \"\"\"\n",
    "    #price_list = {}\n",
    "\n",
    "    # Generate price list for all brands\n",
    "    # try:\n",
    "    #     for brand in brand_list:\n",
    "    #         price_list[brand] = joint_calendar.loc[week_number, (brand, \"price\")]\n",
    "    # except Exception as e:\n",
    "    #     print(f\"Could not generate price list: {e}\")\n",
    "\n",
    "    try:\n",
    "        brands = list(price_list.keys())\n",
    "        price_list_values = np.array(list(price_list.values()))\n",
    "\n",
    "        # Apply inverse softmax transformation to price list to get normalized probability distribution\n",
    "        transformed_price_list = magnitude_adjusted_softmax(\n",
    "            price_list_values, log_transform=False, inverse=True\n",
    "        )\n",
    "\n",
    "        # Initialize base probabilities with equal chance for non-preferred brands\n",
    "        base_probabilities = np.full_like(\n",
    "            transformed_price_list, (1 - loyalty_rate) / (len(brands) - 1)\n",
    "        )\n",
    "\n",
    "        # Update the base probability of the preferred brand with the loyalty rate\n",
    "        brand_preference_index = brands.index(brand_preference)\n",
    "        base_probabilities[brand_preference_index] = loyalty_rate\n",
    "\n",
    "        # Adjust the base probabilities with the transformed price list values\n",
    "        adjusted_probabilities = transformed_price_list * base_probabilities\n",
    "\n",
    "        # Normalize the adjusted probabilities so they sum to 1\n",
    "        probabilities = adjusted_probabilities / np.sum(adjusted_probabilities)\n",
    "\n",
    "        # Return a dictionary mapping brands to their purchase probabilities\n",
    "\n",
    "    except ZeroDivisionError:\n",
    "        print(\"Error: Division by zero.\")\n",
    "    except KeyError as e:\n",
    "        print(f\"KeyError: {e}\")\n",
    "    except Exception as e:\n",
    "        print(f\"An unexpected error occurred: {e}\")\n",
    "    return dict(zip(brands, probabilities))\n"
   ]
  },
  {
   "cell_type": "code",
   "execution_count": null,
   "metadata": {},
   "outputs": [],
   "source": [
    "price_lists = [{\"A\":5.0,\"B\":float(i)} for i in range(1,10)]"
   ]
  },
  {
   "cell_type": "code",
   "execution_count": null,
   "metadata": {},
   "outputs": [],
   "source": [
    "price_impact_trace = [SHIMMED_get_price_impact_on_brand_choice_probabilities(price_list=i,brand_preference=\"A\",loyalty_rate=0.8) for i in price_lists]"
   ]
  },
  {
   "cell_type": "code",
   "execution_count": null,
   "metadata": {},
   "outputs": [],
   "source": [
    "A_prices = []\n",
    "B_prices = []\n",
    "for i in price_lists:\n",
    "    A_prices.append(i[\"A\"])\n",
    "    B_prices.append(i[\"B\"])\n",
    "\n",
    "Price_Ratio = np.array(A_prices)/np.array(B_prices)"
   ]
  },
  {
   "cell_type": "code",
   "execution_count": null,
   "metadata": {},
   "outputs": [],
   "source": [
    "A_probs = []\n",
    "B_probs = []\n",
    "for i in price_impact_trace:\n",
    "    A_probs.append(i[\"A\"])\n",
    "    B_probs.append(i[\"B\"])\n"
   ]
  },
  {
   "cell_type": "code",
   "execution_count": null,
   "metadata": {},
   "outputs": [],
   "source": [
    "plt.figure(figsize=(10, 6))\n",
    "plt.plot(Price_Ratio, A_probs, label='A')  \n",
    "plt.plot(Price_Ratio, B_probs, label='B')  \n",
    "plt.xlabel('Price Ratio (A/B)')\n",
    "plt.ylabel('Probability')\n",
    "plt.title('Impact of Price Ratio on Purchase Probabilities - Base Loyalty A:0.8')\n",
    "plt.legend()"
   ]
  },
  {
   "cell_type": "code",
   "execution_count": null,
   "metadata": {},
   "outputs": [],
   "source": [
    "get_probability_of_change_in_units_purchased_due_to_price"
   ]
  },
  {
   "cell_type": "code",
   "execution_count": null,
   "metadata": {},
   "outputs": [],
   "source": [
    "current_prices = np.linspace(1.0,10.0,100)"
   ]
  },
  {
   "cell_type": "code",
   "execution_count": null,
   "metadata": {},
   "outputs": [],
   "source": [
    "event_probabilities = [get_probability_of_change_in_units_purchased_due_to_price(reference_price=5.0,current_price=i) for i in current_prices]"
   ]
  },
  {
   "cell_type": "code",
   "execution_count": null,
   "metadata": {},
   "outputs": [],
   "source": [
    "price_indices = current_prices/5.0"
   ]
  },
  {
   "cell_type": "code",
   "execution_count": null,
   "metadata": {},
   "outputs": [],
   "source": [
    "plt.figure(figsize=(10, 6))\n",
    "plt.plot(price_indices, event_probabilities)  \n",
    "plt.xlabel('Current Price Index to $5 Base Price - \"Price Change\"')\n",
    "plt.ylabel('Probability of Change in Units Purchased')\n",
    "plt.title('Probability agent will buy more (left) or fewer (right) based on price change')\n",
    "plt.legend()"
   ]
  },
  {
   "cell_type": "code",
   "execution_count": null,
   "metadata": {},
   "outputs": [],
   "source": [
    "adstocks = np.logspace(1,6,100)"
   ]
  },
  {
   "cell_type": "code",
   "execution_count": null,
   "metadata": {},
   "outputs": [],
   "source": [
    "probs = [get_probability_of_change_in_units_purchased_due_to_adstock(i,sensitivity=0.01)  for i in adstocks]"
   ]
  },
  {
   "cell_type": "code",
   "execution_count": null,
   "metadata": {},
   "outputs": [],
   "source": [
    "plt.figure(figsize=(10, 6))\n",
    "plt.plot(adstocks, probs)  \n",
    "plt.xlabel('Adstock ($ Spend)')\n",
    "plt.ylabel('Probability of a Change in Units Purchased')\n",
    "plt.title('Probability agent will buy more units based on adstock')\n",
    "plt.xscale(\"log\")\n",
    "plt.legend()"
   ]
  },
  {
   "cell_type": "code",
   "execution_count": null,
   "metadata": {},
   "outputs": [],
   "source": [
    "def get_probability_of_additional_purchase_due_to_adstock(\n",
    "    adstock: float,\n",
    "    sensitivity: float = 1,\n",
    "    midpoint: float = 1000,\n",
    ") -> float:\n",
    "    \"\"\"\n",
    "    This function calculates the probability of an additional purchase based on the adstock value.\n",
    "\n",
    "    Parameters:\n",
    "    adstock (float): The adstock value.\n",
    "    sensitivity (float): The sensitivity factor for adstock. Default is 1.\n",
    "    midpoint (float): The midpoint of the logistic curve. Default is 1000.\n",
    "\n",
    "    Returns:\n",
    "    float: The probability of an additional purchase.\n",
    "    \"\"\"\n",
    "    # Use the logistic function to model the probability\n",
    "    probability = 1 / (1 + np.exp(-sensitivity * (np.log10(adstock) - np.log10(midpoint))))\n",
    "\n",
    "    return probability"
   ]
  },
  {
   "cell_type": "code",
   "execution_count": null,
   "metadata": {},
   "outputs": [],
   "source": [
    "probs = [get_probability_of_additional_purchase_due_to_adstock(i)  for i in adstocks]"
   ]
  },
  {
   "cell_type": "code",
   "execution_count": null,
   "metadata": {},
   "outputs": [],
   "source": [
    "plt.figure(figsize=(10, 6))\n",
    "plt.plot(adstocks, probs)  \n",
    "plt.xlabel('Adstock ($ Spend)')\n",
    "plt.ylabel('Probability of a Change in Units Purchased')\n",
    "plt.title('Probability agent will buy more units based on adstock')\n",
    "plt.xscale(\"log\")"
   ]
  }
 ],
 "metadata": {
  "kernelspec": {
   "display_name": "pymmm_0_6_0",
   "language": "python",
   "name": "python3"
  },
  "language_info": {
   "codemirror_mode": {
    "name": "ipython",
    "version": 3
   },
   "file_extension": ".py",
   "mimetype": "text/x-python",
   "name": "python",
   "nbconvert_exporter": "python",
   "pygments_lexer": "ipython3",
   "version": "3.12.4"
  }
 },
 "nbformat": 4,
 "nbformat_minor": 2
}

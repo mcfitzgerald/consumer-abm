{
 "cells": [
  {
   "cell_type": "code",
   "execution_count": 1,
   "metadata": {},
   "outputs": [],
   "source": [
    "import toml\n",
    "from joint_calendar import generate_joint_ad_promo_schedule\n",
    "\n",
    "config = toml.load(\"config.toml\")\n",
    "\n",
    "# Set up household parameters\n",
    "household_sizes = config[\"household\"][\"household_sizes\"]\n",
    "household_size_distribution = config[\"household\"][\"household_size_distribution\"]\n",
    "base_consumption_rate = config[\"household\"][\"base_consumption_rate\"]\n",
    "pantry_min_percent = config[\"household\"][\"pantry_min_percent\"]\n",
    "\n",
    "# Set up retail environment\n",
    "brand_list = list(config[\"brands\"].keys())\n",
    "brand_market_share = [\n",
    "    config[\"brands\"][brand][\"current_market_share\"] for brand in brand_list\n",
    "]\n",
    "try:\n",
    "    assert round(sum(brand_market_share), 2) == 1.0\n",
    "except AssertionError:\n",
    "    print(\"Error: Brand market shares do not sum to 1.\")\n",
    "\n",
    "\n",
    "# Set up advertising and promotion\n",
    "ad_channels = list(\n",
    "    [config[\"brands\"][brand][\"advertising\"][\"channels\"] for brand in brand_list]\n",
    ")\n",
    "joint_calendar = generate_joint_ad_promo_schedule(brand_list, config)"
   ]
  },
  {
   "cell_type": "code",
   "execution_count": 2,
   "metadata": {},
   "outputs": [],
   "source": [
    "def retrieve_data_for_week(joint_calendar, week):\n",
    "    return joint_calendar.loc[week, :]"
   ]
  },
  {
   "cell_type": "code",
   "execution_count": 3,
   "metadata": {},
   "outputs": [
    {
     "data": {
      "text/plain": [
       "A  price        2.5\n",
       "   TV       1733.33\n",
       "   Web            0\n",
       "B  price        2.5\n",
       "   TV          1200\n",
       "   Web            0\n",
       "Name: 1, dtype: object"
      ]
     },
     "execution_count": 3,
     "metadata": {},
     "output_type": "execute_result"
    }
   ],
   "source": [
    "retrieve_data_for_week(joint_calendar, 1)"
   ]
  },
  {
   "cell_type": "code",
   "execution_count": 4,
   "metadata": {},
   "outputs": [],
   "source": [
    "def check_for_ads(brand, channel, week):\n",
    "    return joint_calendar.loc[week, (brand, channel)]\n"
   ]
  },
  {
   "cell_type": "code",
   "execution_count": 5,
   "metadata": {},
   "outputs": [
    {
     "data": {
      "text/plain": [
       "1733.33"
      ]
     },
     "execution_count": 5,
     "metadata": {},
     "output_type": "execute_result"
    }
   ],
   "source": [
    "check_for_ads(\"A\", \"TV\", 1)"
   ]
  },
  {
   "cell_type": "code",
   "execution_count": 6,
   "metadata": {},
   "outputs": [],
   "source": [
    "def generate_brand_ad_channel_map(brand_list, config):\n",
    "    brand_ad_channel_map = {}\n",
    "    for brand in brand_list:\n",
    "        brand_ad_channel_map[brand] = config[\"brands\"][brand][\"advertising\"][\n",
    "            \"channels\"\n",
    "        ]\n",
    "    return brand_ad_channel_map"
   ]
  },
  {
   "cell_type": "code",
   "execution_count": 7,
   "metadata": {},
   "outputs": [],
   "source": [
    "brand_channel_map = generate_brand_ad_channel_map(brand_list, config)"
   ]
  },
  {
   "cell_type": "code",
   "execution_count": 8,
   "metadata": {},
   "outputs": [
    {
     "data": {
      "text/plain": [
       "{'A': ['TV', 'Web'], 'B': ['TV', 'Web']}"
      ]
     },
     "execution_count": 8,
     "metadata": {},
     "output_type": "execute_result"
    }
   ],
   "source": [
    "brand_channel_map"
   ]
  },
  {
   "cell_type": "code",
   "execution_count": 9,
   "metadata": {},
   "outputs": [],
   "source": [
    "channel_set = list(set(channel for channels in brand_channel_map.values() for channel in channels))"
   ]
  },
  {
   "cell_type": "code",
   "execution_count": 10,
   "metadata": {},
   "outputs": [
    {
     "name": "stdout",
     "output_type": "stream",
     "text": [
      "TV\n",
      "Web\n"
     ]
    }
   ],
   "source": [
    "for i in channel_set:\n",
    "    print(i)"
   ]
  },
  {
   "cell_type": "code",
   "execution_count": 11,
   "metadata": {},
   "outputs": [],
   "source": [
    "channel_priors = [0.6,0.4]"
   ]
  },
  {
   "cell_type": "code",
   "execution_count": 12,
   "metadata": {},
   "outputs": [],
   "source": [
    "import random\n",
    "\n",
    "def assign_weights(items, prior_weights):\n",
    "    # Generate random fluctuations\n",
    "    fluctuations = [random.random() for _ in items]\n",
    "    \n",
    "    # Apply fluctuations to prior weights\n",
    "    weights = [w + f for w, f in zip(prior_weights, fluctuations)]\n",
    "    \n",
    "    # Normalize weights so they sum to 1\n",
    "    weight_sum = sum(weights)\n",
    "    weights = [w/weight_sum for w in weights]\n",
    "    \n",
    "    # Create a dictionary to map items to their weights\n",
    "    weights_dict = dict(zip(items, weights))\n",
    "    \n",
    "    return weights_dict"
   ]
  },
  {
   "cell_type": "code",
   "execution_count": 13,
   "metadata": {},
   "outputs": [],
   "source": [
    "channel_preferences = assign_weights(channel_set, channel_priors)"
   ]
  },
  {
   "cell_type": "code",
   "execution_count": 14,
   "metadata": {},
   "outputs": [
    {
     "data": {
      "text/plain": [
       "{'TV': 0.5075334981214318, 'Web': 0.4924665018785682}"
      ]
     },
     "execution_count": 14,
     "metadata": {},
     "output_type": "execute_result"
    }
   ],
   "source": [
    "channel_preferences"
   ]
  },
  {
   "cell_type": "code",
   "execution_count": 15,
   "metadata": {},
   "outputs": [],
   "source": [
    "def calculate_adstock(week, joint_calendar, brand_channel_map, channel_preference):\n",
    "    adstock = {}\n",
    "    for brand, channels in brand_channel_map.items():\n",
    "        for channel in channels:\n",
    "            spend = joint_calendar.loc[week, (brand, channel)]\n",
    "            weighted_spend = spend * channel_preference[channel]\n",
    "            if brand in adstock:\n",
    "                adstock[brand] += weighted_spend\n",
    "            else:\n",
    "                adstock[brand] = weighted_spend\n",
    "    return adstock"
   ]
  },
  {
   "cell_type": "code",
   "execution_count": 16,
   "metadata": {},
   "outputs": [
    {
     "data": {
      "text/plain": [
       "{'A': 879.7230382988213, 'B': 609.0401977457182}"
      ]
     },
     "execution_count": 16,
     "metadata": {},
     "output_type": "execute_result"
    }
   ],
   "source": [
    "calculate_adstock(1,joint_calendar, brand_channel_map, channel_preferences)"
   ]
  },
  {
   "cell_type": "code",
   "execution_count": 17,
   "metadata": {},
   "outputs": [],
   "source": [
    "def get_current_price(week, joint_calendar, brand):\n",
    "    price = joint_calendar.loc[week, (brand, 'price')]\n",
    "    return price\n"
   ]
  },
  {
   "cell_type": "code",
   "execution_count": 18,
   "metadata": {},
   "outputs": [
    {
     "data": {
      "text/plain": [
       "5.0"
      ]
     },
     "execution_count": 18,
     "metadata": {},
     "output_type": "execute_result"
    }
   ],
   "source": [
    "get_current_price(30, joint_calendar, 'A')"
   ]
  },
  {
   "cell_type": "code",
   "execution_count": 19,
   "metadata": {},
   "outputs": [],
   "source": [
    "adstock = calculate_adstock(1,joint_calendar, brand_channel_map, channel_preferences)"
   ]
  },
  {
   "cell_type": "code",
   "execution_count": 20,
   "metadata": {},
   "outputs": [],
   "source": [
    "def ad_decay(adstock, factor):\n",
    "    return {brand: value / factor for brand, value in adstock.items()}\n"
   ]
  },
  {
   "cell_type": "code",
   "execution_count": 21,
   "metadata": {},
   "outputs": [
    {
     "data": {
      "text/plain": [
       "{'A': 439.86151914941064, 'B': 304.5200988728591}"
      ]
     },
     "execution_count": 21,
     "metadata": {},
     "output_type": "execute_result"
    }
   ],
   "source": [
    "ad_decay(adstock, 2)"
   ]
  },
  {
   "cell_type": "code",
   "execution_count": 22,
   "metadata": {},
   "outputs": [],
   "source": [
    "def update_adstock(adstock1, adstock2):\n",
    "    updated_adstock = adstock1.copy()\n",
    "    for brand, value in adstock2.items():\n",
    "        if brand in updated_adstock:\n",
    "            updated_adstock[brand] += value\n",
    "        else:\n",
    "            updated_adstock[brand] = value\n",
    "    return updated_adstock\n"
   ]
  },
  {
   "cell_type": "code",
   "execution_count": 23,
   "metadata": {},
   "outputs": [],
   "source": [
    "adstock_2 = calculate_adstock(2,joint_calendar, brand_channel_map, channel_preferences)"
   ]
  },
  {
   "cell_type": "code",
   "execution_count": 24,
   "metadata": {},
   "outputs": [
    {
     "data": {
      "text/plain": [
       "{'A': 879.7230382988213, 'B': 609.0401977457182}"
      ]
     },
     "execution_count": 24,
     "metadata": {},
     "output_type": "execute_result"
    }
   ],
   "source": [
    "adstock"
   ]
  },
  {
   "cell_type": "code",
   "execution_count": 25,
   "metadata": {},
   "outputs": [
    {
     "data": {
      "text/plain": [
       "{'A': 879.7230382988213, 'B': 609.0401977457182}"
      ]
     },
     "execution_count": 25,
     "metadata": {},
     "output_type": "execute_result"
    }
   ],
   "source": [
    "adstock_2\n"
   ]
  },
  {
   "cell_type": "code",
   "execution_count": 26,
   "metadata": {},
   "outputs": [
    {
     "data": {
      "text/plain": [
       "{'A': 1759.4460765976426, 'B': 1218.0803954914363}"
      ]
     },
     "execution_count": 26,
     "metadata": {},
     "output_type": "execute_result"
    }
   ],
   "source": [
    "update_adstock(adstock, adstock_2)"
   ]
  },
  {
   "cell_type": "code",
   "execution_count": 27,
   "metadata": {},
   "outputs": [],
   "source": [
    "def get_switch_probability(adstock, preferred_brand, default_loyalty_rate):\n",
    "    brands = list(adstock.keys())\n",
    "    adstock_values = list(adstock.values())\n",
    "    \n",
    "    if adstock[preferred_brand] > max(adstock_values):\n",
    "        return {brand: 1 if brand == preferred_brand else 0 for brand in brands}\n",
    "    \n",
    "    elif sum(adstock_values) == 0:\n",
    "        probabilities = {brand: default_loyalty_rate if brand == preferred_brand else (1-default_loyalty_rate)/(len(brands)-1) for brand in brands}\n",
    "        return probabilities\n",
    "    \n",
    "    else:\n",
    "        total_adstock = sum(adstock_values)\n",
    "        probabilities = {brand: value/total_adstock for brand, value in adstock.items()}\n",
    "        return probabilities\n",
    "\n"
   ]
  },
  {
   "cell_type": "code",
   "execution_count": 28,
   "metadata": {},
   "outputs": [
    {
     "data": {
      "text/plain": [
       "{'A': 0.5909086260325295, 'B': 0.4090913739674704}"
      ]
     },
     "execution_count": 28,
     "metadata": {},
     "output_type": "execute_result"
    }
   ],
   "source": [
    "get_switch_probability(adstock, 'A', 0.1)"
   ]
  },
  {
   "cell_type": "code",
   "execution_count": 33,
   "metadata": {},
   "outputs": [],
   "source": [
    "adstock_test_hib = {'A': 0.0, 'B': 0.0}"
   ]
  },
  {
   "cell_type": "code",
   "execution_count": 34,
   "metadata": {},
   "outputs": [
    {
     "data": {
      "text/plain": [
       "{'A': 0.1, 'B': 0.9}"
      ]
     },
     "execution_count": 34,
     "metadata": {},
     "output_type": "execute_result"
    }
   ],
   "source": [
    "get_switch_probability(adstock_test_hib, 'A', 0.1)"
   ]
  },
  {
   "cell_type": "code",
   "execution_count": null,
   "metadata": {},
   "outputs": [],
   "source": []
  }
 ],
 "metadata": {
  "kernelspec": {
   "display_name": "pydev",
   "language": "python",
   "name": "python3"
  },
  "language_info": {
   "codemirror_mode": {
    "name": "ipython",
    "version": 3
   },
   "file_extension": ".py",
   "mimetype": "text/x-python",
   "name": "python",
   "nbconvert_exporter": "python",
   "pygments_lexer": "ipython3",
   "version": "3.11.4"
  },
  "orig_nbformat": 4
 },
 "nbformat": 4,
 "nbformat_minor": 2
}

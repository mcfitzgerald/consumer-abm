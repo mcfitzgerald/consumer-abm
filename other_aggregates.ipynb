{
 "cells": [
  {
   "cell_type": "code",
   "execution_count": 1,
   "metadata": {},
   "outputs": [],
   "source": [
    "import pandas as pd\n",
    "import matplotlib.pyplot as plt\n",
    "import matplotlib as mpl\n",
    "from cabm import post_processing as ppr"
   ]
  },
  {
   "cell_type": "code",
   "execution_count": 2,
   "metadata": {},
   "outputs": [],
   "source": [
    "# Figure setup\n",
    "# Set the font to Courier\n",
    "mpl.rcParams['font.family'] = 'Courier'\n",
    "\n",
    "# Set the line weight to thin\n",
    "mpl.rcParams['lines.linewidth'] = 0.75\n",
    "\n",
    "# Set the color scheme to black and white\n",
    "mpl.rcParams['text.color'] = 'black'\n",
    "mpl.rcParams['axes.labelcolor'] = 'black'\n",
    "mpl.rcParams['xtick.color'] = 'black'\n",
    "mpl.rcParams['ytick.color'] = 'black'\n",
    "mpl.rcParams['axes.edgecolor'] = 'black'"
   ]
  },
  {
   "cell_type": "code",
   "execution_count": 3,
   "metadata": {},
   "outputs": [],
   "source": [
    "agent_df = pd.read_pickle('agent_output_ad_switch_no_increment.pkl')"
   ]
  },
  {
   "cell_type": "code",
   "execution_count": 4,
   "metadata": {},
   "outputs": [],
   "source": [
    "agent_df = ppr.add_date_column(agent_df)"
   ]
  },
  {
   "cell_type": "code",
   "execution_count": 5,
   "metadata": {},
   "outputs": [],
   "source": [
    "def calculate_units(\n",
    "    agent_df: pd.DataFrame,\n",
    "    baseline_units_column: str = \"Baseline_Units\",\n",
    "    units_to_purchase_column: str = \"Units_to_Purchase\",\n",
    "    incremental_promo_units_column: str = \"Incremental_Promo_Units\",\n",
    "    incremental_ad_units_column: str = \"Incremental_Ad_Units\",\n",
    "    decremental_units_column: str = \"Decremental_Units\",\n",
    "    brand_column: str = \"Brand_Choice\"\n",
    ") -> pd.DataFrame:\n",
    "    \"\"\"\n",
    "    Computes the sum of various unit columns for each brand purchased, grouped by Date and Step, and pivots the result.\n",
    "\n",
    "    Parameters:\n",
    "    agent_df (pd.DataFrame): The agent level data with 'Brand_Choice', 'Baseline_Units', 'Units_To_Purchase', \n",
    "                             'Incremental_Promo_Units', 'Incremental_Ad_Units', 'Decremental_Units', 'Date', and 'Step' columns.\n",
    "    baseline_units_column (str): The column name for baseline units. Default is 'Baseline_Units'.\n",
    "    units_to_purchase_column (str): The column name for units to purchase. Default is 'Units_To_Purchase'.\n",
    "    incremental_promo_units_column (str): The column name for incremental promo units. Default is 'Incremental_Promo_Units'.\n",
    "    incremental_ad_units_column (str): The column name for incremental ad units. Default is 'Incremental_Ad_Units'.\n",
    "    decremental_units_column (str): The column name for decremental units. Default is 'Decremental_Units'.\n",
    "    brand_column (str): The column name for brand choice. Default is 'Brand_Choice'.\n",
    "\n",
    "    Returns:\n",
    "    pd.DataFrame: A DataFrame with the sum of various unit columns for each brand, grouped by Date and Step, pivoted to have a column for each brand.\n",
    "    \"\"\"\n",
    "    # Initialize a list to store the results\n",
    "    units_data = []\n",
    "\n",
    "    # Iterate over the DataFrame rows\n",
    "    for index, row in agent_df.iterrows():\n",
    "        brand = row[brand_column]\n",
    "        date = row[\"Date\"]\n",
    "        step = index[0]  # Accessing the first level of the multiindex\n",
    "        baseline_units = row[baseline_units_column]\n",
    "        units_to_purchase = row[units_to_purchase_column]\n",
    "        incremental_promo_units = row[incremental_promo_units_column]\n",
    "        incremental_ad_units = row[incremental_ad_units_column]\n",
    "        decremental_units = row[decremental_units_column]\n",
    "        \n",
    "        units_data.append({\n",
    "            \"Brand\": brand,\n",
    "            \"Date\": date,\n",
    "            \"Step\": step,\n",
    "            \"Baseline_Units\": baseline_units,\n",
    "            \"Units_to_Purchase\": units_to_purchase,\n",
    "            \"Incremental_Promo_Units\": incremental_promo_units,\n",
    "            \"Incremental_Ad_Units\": incremental_ad_units,\n",
    "            \"Decremental_Units\": decremental_units\n",
    "        })\n",
    "\n",
    "    # Create a new DataFrame with the units data for each brand\n",
    "    units_df = pd.DataFrame(units_data)\n",
    "\n",
    "    # Group by 'Date', 'Step', and 'Brand' and sum the units\n",
    "    units_df = (\n",
    "        units_df.groupby([\"Date\", \"Step\", \"Brand\"])\n",
    "        .sum()\n",
    "        .reset_index()\n",
    "    )\n",
    "\n",
    "    # Pivot the DataFrame to have a column for each brand's units\n",
    "    pivot_df = units_df.pivot_table(\n",
    "        index=[\"Date\", \"Step\"],\n",
    "        columns=\"Brand\",\n",
    "        values=[\"Baseline_Units\", \"Units_to_Purchase\", \"Incremental_Promo_Units\", \"Incremental_Ad_Units\", \"Decremental_Units\"],\n",
    "        fill_value=0\n",
    "    ).reset_index()\n",
    "\n",
    "    # Flatten the column MultiIndex\n",
    "    pivot_df.columns.name = None\n",
    "    pivot_df.columns = [f\"{col[0]}_{col[1]}\" if col[1] else col[0] for col in pivot_df.columns]\n",
    "\n",
    "    return pivot_df"
   ]
  },
  {
   "cell_type": "code",
   "execution_count": 6,
   "metadata": {},
   "outputs": [],
   "source": [
    "all_units = calculate_units(agent_df)"
   ]
  },
  {
   "cell_type": "code",
   "execution_count": 7,
   "metadata": {},
   "outputs": [
    {
     "data": {
      "text/html": [
       "<div>\n",
       "<style scoped>\n",
       "    .dataframe tbody tr th:only-of-type {\n",
       "        vertical-align: middle;\n",
       "    }\n",
       "\n",
       "    .dataframe tbody tr th {\n",
       "        vertical-align: top;\n",
       "    }\n",
       "\n",
       "    .dataframe thead th {\n",
       "        text-align: right;\n",
       "    }\n",
       "</style>\n",
       "<table border=\"1\" class=\"dataframe\">\n",
       "  <thead>\n",
       "    <tr style=\"text-align: right;\">\n",
       "      <th></th>\n",
       "      <th>Date</th>\n",
       "      <th>Step</th>\n",
       "      <th>Baseline_Units_A</th>\n",
       "      <th>Baseline_Units_B</th>\n",
       "      <th>Decremental_Units_A</th>\n",
       "      <th>Decremental_Units_B</th>\n",
       "      <th>Incremental_Ad_Units_A</th>\n",
       "      <th>Incremental_Ad_Units_B</th>\n",
       "      <th>Incremental_Promo_Units_A</th>\n",
       "      <th>Incremental_Promo_Units_B</th>\n",
       "      <th>Units_to_Purchase_A</th>\n",
       "      <th>Units_to_Purchase_B</th>\n",
       "    </tr>\n",
       "  </thead>\n",
       "  <tbody>\n",
       "    <tr>\n",
       "      <th>0</th>\n",
       "      <td>2021-01-03</td>\n",
       "      <td>0</td>\n",
       "      <td>0.0</td>\n",
       "      <td>0.0</td>\n",
       "      <td>0.0</td>\n",
       "      <td>0.0</td>\n",
       "      <td>0.0</td>\n",
       "      <td>0.0</td>\n",
       "      <td>0.0</td>\n",
       "      <td>0.0</td>\n",
       "      <td>0.0</td>\n",
       "      <td>0.0</td>\n",
       "    </tr>\n",
       "    <tr>\n",
       "      <th>1</th>\n",
       "      <td>2021-01-10</td>\n",
       "      <td>1</td>\n",
       "      <td>27.0</td>\n",
       "      <td>34.0</td>\n",
       "      <td>0.0</td>\n",
       "      <td>0.0</td>\n",
       "      <td>0.0</td>\n",
       "      <td>0.0</td>\n",
       "      <td>0.0</td>\n",
       "      <td>0.0</td>\n",
       "      <td>27.0</td>\n",
       "      <td>34.0</td>\n",
       "    </tr>\n",
       "    <tr>\n",
       "      <th>2</th>\n",
       "      <td>2021-01-17</td>\n",
       "      <td>2</td>\n",
       "      <td>192.0</td>\n",
       "      <td>204.0</td>\n",
       "      <td>0.0</td>\n",
       "      <td>0.0</td>\n",
       "      <td>0.0</td>\n",
       "      <td>0.0</td>\n",
       "      <td>0.0</td>\n",
       "      <td>0.0</td>\n",
       "      <td>192.0</td>\n",
       "      <td>204.0</td>\n",
       "    </tr>\n",
       "    <tr>\n",
       "      <th>3</th>\n",
       "      <td>2021-01-24</td>\n",
       "      <td>3</td>\n",
       "      <td>333.0</td>\n",
       "      <td>351.0</td>\n",
       "      <td>0.0</td>\n",
       "      <td>0.0</td>\n",
       "      <td>0.0</td>\n",
       "      <td>0.0</td>\n",
       "      <td>0.0</td>\n",
       "      <td>0.0</td>\n",
       "      <td>300.0</td>\n",
       "      <td>321.0</td>\n",
       "    </tr>\n",
       "    <tr>\n",
       "      <th>4</th>\n",
       "      <td>2021-01-31</td>\n",
       "      <td>4</td>\n",
       "      <td>423.0</td>\n",
       "      <td>456.0</td>\n",
       "      <td>0.0</td>\n",
       "      <td>0.0</td>\n",
       "      <td>0.0</td>\n",
       "      <td>0.0</td>\n",
       "      <td>0.0</td>\n",
       "      <td>0.0</td>\n",
       "      <td>392.0</td>\n",
       "      <td>427.0</td>\n",
       "    </tr>\n",
       "    <tr>\n",
       "      <th>...</th>\n",
       "      <td>...</td>\n",
       "      <td>...</td>\n",
       "      <td>...</td>\n",
       "      <td>...</td>\n",
       "      <td>...</td>\n",
       "      <td>...</td>\n",
       "      <td>...</td>\n",
       "      <td>...</td>\n",
       "      <td>...</td>\n",
       "      <td>...</td>\n",
       "      <td>...</td>\n",
       "      <td>...</td>\n",
       "    </tr>\n",
       "    <tr>\n",
       "      <th>97</th>\n",
       "      <td>2022-11-13</td>\n",
       "      <td>97</td>\n",
       "      <td>561.0</td>\n",
       "      <td>402.0</td>\n",
       "      <td>0.0</td>\n",
       "      <td>0.0</td>\n",
       "      <td>0.0</td>\n",
       "      <td>0.0</td>\n",
       "      <td>0.0</td>\n",
       "      <td>0.0</td>\n",
       "      <td>439.0</td>\n",
       "      <td>326.0</td>\n",
       "    </tr>\n",
       "    <tr>\n",
       "      <th>98</th>\n",
       "      <td>2022-11-20</td>\n",
       "      <td>98</td>\n",
       "      <td>552.0</td>\n",
       "      <td>335.0</td>\n",
       "      <td>0.0</td>\n",
       "      <td>0.0</td>\n",
       "      <td>0.0</td>\n",
       "      <td>0.0</td>\n",
       "      <td>0.0</td>\n",
       "      <td>0.0</td>\n",
       "      <td>470.0</td>\n",
       "      <td>282.0</td>\n",
       "    </tr>\n",
       "    <tr>\n",
       "      <th>99</th>\n",
       "      <td>2022-11-27</td>\n",
       "      <td>99</td>\n",
       "      <td>531.0</td>\n",
       "      <td>409.0</td>\n",
       "      <td>0.0</td>\n",
       "      <td>0.0</td>\n",
       "      <td>0.0</td>\n",
       "      <td>0.0</td>\n",
       "      <td>0.0</td>\n",
       "      <td>0.0</td>\n",
       "      <td>448.0</td>\n",
       "      <td>354.0</td>\n",
       "    </tr>\n",
       "    <tr>\n",
       "      <th>100</th>\n",
       "      <td>2022-12-04</td>\n",
       "      <td>100</td>\n",
       "      <td>520.0</td>\n",
       "      <td>402.0</td>\n",
       "      <td>0.0</td>\n",
       "      <td>0.0</td>\n",
       "      <td>0.0</td>\n",
       "      <td>0.0</td>\n",
       "      <td>0.0</td>\n",
       "      <td>0.0</td>\n",
       "      <td>488.0</td>\n",
       "      <td>374.0</td>\n",
       "    </tr>\n",
       "    <tr>\n",
       "      <th>101</th>\n",
       "      <td>2022-12-11</td>\n",
       "      <td>101</td>\n",
       "      <td>547.0</td>\n",
       "      <td>391.0</td>\n",
       "      <td>0.0</td>\n",
       "      <td>0.0</td>\n",
       "      <td>0.0</td>\n",
       "      <td>0.0</td>\n",
       "      <td>0.0</td>\n",
       "      <td>0.0</td>\n",
       "      <td>434.0</td>\n",
       "      <td>306.0</td>\n",
       "    </tr>\n",
       "  </tbody>\n",
       "</table>\n",
       "<p>102 rows × 12 columns</p>\n",
       "</div>"
      ],
      "text/plain": [
       "          Date  Step  Baseline_Units_A  Baseline_Units_B  Decremental_Units_A  \\\n",
       "0   2021-01-03     0               0.0               0.0                  0.0   \n",
       "1   2021-01-10     1              27.0              34.0                  0.0   \n",
       "2   2021-01-17     2             192.0             204.0                  0.0   \n",
       "3   2021-01-24     3             333.0             351.0                  0.0   \n",
       "4   2021-01-31     4             423.0             456.0                  0.0   \n",
       "..         ...   ...               ...               ...                  ...   \n",
       "97  2022-11-13    97             561.0             402.0                  0.0   \n",
       "98  2022-11-20    98             552.0             335.0                  0.0   \n",
       "99  2022-11-27    99             531.0             409.0                  0.0   \n",
       "100 2022-12-04   100             520.0             402.0                  0.0   \n",
       "101 2022-12-11   101             547.0             391.0                  0.0   \n",
       "\n",
       "     Decremental_Units_B  Incremental_Ad_Units_A  Incremental_Ad_Units_B  \\\n",
       "0                    0.0                     0.0                     0.0   \n",
       "1                    0.0                     0.0                     0.0   \n",
       "2                    0.0                     0.0                     0.0   \n",
       "3                    0.0                     0.0                     0.0   \n",
       "4                    0.0                     0.0                     0.0   \n",
       "..                   ...                     ...                     ...   \n",
       "97                   0.0                     0.0                     0.0   \n",
       "98                   0.0                     0.0                     0.0   \n",
       "99                   0.0                     0.0                     0.0   \n",
       "100                  0.0                     0.0                     0.0   \n",
       "101                  0.0                     0.0                     0.0   \n",
       "\n",
       "     Incremental_Promo_Units_A  Incremental_Promo_Units_B  \\\n",
       "0                          0.0                        0.0   \n",
       "1                          0.0                        0.0   \n",
       "2                          0.0                        0.0   \n",
       "3                          0.0                        0.0   \n",
       "4                          0.0                        0.0   \n",
       "..                         ...                        ...   \n",
       "97                         0.0                        0.0   \n",
       "98                         0.0                        0.0   \n",
       "99                         0.0                        0.0   \n",
       "100                        0.0                        0.0   \n",
       "101                        0.0                        0.0   \n",
       "\n",
       "     Units_to_Purchase_A  Units_to_Purchase_B  \n",
       "0                    0.0                  0.0  \n",
       "1                   27.0                 34.0  \n",
       "2                  192.0                204.0  \n",
       "3                  300.0                321.0  \n",
       "4                  392.0                427.0  \n",
       "..                   ...                  ...  \n",
       "97                 439.0                326.0  \n",
       "98                 470.0                282.0  \n",
       "99                 448.0                354.0  \n",
       "100                488.0                374.0  \n",
       "101                434.0                306.0  \n",
       "\n",
       "[102 rows x 12 columns]"
      ]
     },
     "execution_count": 7,
     "metadata": {},
     "output_type": "execute_result"
    }
   ],
   "source": [
    "all_units"
   ]
  },
  {
   "cell_type": "code",
   "execution_count": 8,
   "metadata": {},
   "outputs": [],
   "source": [
    "import plotly.graph_objects as go\n",
    "\n",
    "def plot_waterfall_for_brand(units_df: pd.DataFrame, brand: str, date: str):\n",
    "    \"\"\"\n",
    "    Returns a Plotly Waterfall chart for a given brand and date.\n",
    "\n",
    "    Parameters:\n",
    "    units_df (pd.DataFrame): The DataFrame output from calculate_units function.\n",
    "    brand (str): The brand for which to plot the waterfall chart.\n",
    "    date (str): The date for which to plot the waterfall chart.\n",
    "\n",
    "    Returns:\n",
    "    go.Figure: A Plotly Figure object representing the waterfall chart.\n",
    "    \"\"\"\n",
    "    # Filter the DataFrame for the given date\n",
    "    date_df = units_df[units_df['Date'] == date]\n",
    "\n",
    "    if date_df.empty:\n",
    "        print(f\"No data available for the date: {date}\")\n",
    "        return None\n",
    "\n",
    "    # Define the column names for the brand\n",
    "    baseline_units_col = f\"Baseline_Units_{brand}\"\n",
    "    incremental_promo_units_col = f\"Incremental_Promo_Units_{brand}\"\n",
    "    incremental_ad_units_col = f\"Incremental_Ad_Units_{brand}\"\n",
    "    decremental_units_col = f\"Decremental_Units_{brand}\"\n",
    "    units_to_purchase_col = f\"Units_to_Purchase_{brand}\"\n",
    "\n",
    "    # Check if the brand columns exist in the DataFrame\n",
    "    if not all(col in date_df.columns for col in [baseline_units_col, incremental_promo_units_col, incremental_ad_units_col, decremental_units_col, units_to_purchase_col]):\n",
    "        print(f\"Data for brand {brand} is not available.\")\n",
    "        return None\n",
    "\n",
    "    # Extract the values for the brand\n",
    "    values = date_df[[baseline_units_col, incremental_promo_units_col, incremental_ad_units_col, decremental_units_col]].iloc[0].values\n",
    "    net_value = date_df[units_to_purchase_col].iloc[0]\n",
    "\n",
    "    # Calculate the discrepancy\n",
    "    calculated_units = values[0] + values[1] + values[2] - values[3]\n",
    "    discrepancy = net_value - calculated_units\n",
    "\n",
    "    # Create the waterfall chart\n",
    "    fig = go.Figure(go.Waterfall(\n",
    "        name=brand,\n",
    "        orientation=\"v\",\n",
    "        measure=[\"relative\", \"relative\", \"relative\", \"relative\", \"total\"],\n",
    "        x=[\"Baseline Units\", \"Incremental Promo Units\", \"Incremental Ad Units\", \"Decremental Units\", \"Units to Purchase\"],\n",
    "        y=[values[0], values[1], values[2], -values[3], net_value],\n",
    "        connector={\"line\": {\"color\": \"rgb(63, 63, 63)\"}}\n",
    "    ))\n",
    "\n",
    "    # Add discrepancy if it exists\n",
    "    if discrepancy != 0:\n",
    "        fig.add_trace(go.Waterfall(\n",
    "            name=\"Discrepancy\",\n",
    "            orientation=\"v\",\n",
    "            measure=[\"relative\"],\n",
    "            x=[\"Discrepancy\"],\n",
    "            y=[discrepancy],\n",
    "            connector={\"line\": {\"color\": \"rgb(63, 63, 63)\"}}\n",
    "        ))\n",
    "\n",
    "    fig.update_layout(\n",
    "        title=f\"Waterfall Chart for {brand} on {date}\",\n",
    "        waterfallgap=0.3\n",
    "    )\n",
    "\n",
    "    return fig\n",
    "\n",
    "# Example usage:\n",
    "# fig = plot_waterfall_for_brand(all_units, 'A', '2021-01-10')\n",
    "# if fig:\n",
    "#     fig.show()"
   ]
  },
  {
   "cell_type": "code",
   "execution_count": 11,
   "metadata": {},
   "outputs": [
    {
     "name": "stdout",
     "output_type": "stream",
     "text": [
      "Values: [529.   0.   0.   0.]\n",
      "Net Value: 483.0\n",
      "Calculated Units: 529.0\n",
      "Discrepancy: -46.0\n"
     ]
    },
    {
     "data": {
      "application/vnd.plotly.v1+json": {
       "config": {
        "plotlyServerURL": "https://plot.ly"
       },
       "data": [
        {
         "connector": {
          "line": {
           "color": "rgb(63, 63, 63)"
          }
         },
         "measure": [
          "relative",
          "relative",
          "relative",
          "relative",
          "total"
         ],
         "name": "A",
         "orientation": "v",
         "type": "waterfall",
         "x": [
          "Baseline Units",
          "Incremental Promo Units",
          "Incremental Ad Units",
          "Decremental Units",
          "Units to Purchase"
         ],
         "y": [
          529,
          0,
          0,
          0,
          483
         ]
        },
        {
         "connector": {
          "line": {
           "color": "rgb(63, 63, 63)"
          }
         },
         "measure": [
          "relative"
         ],
         "name": "Discrepancy",
         "orientation": "v",
         "type": "waterfall",
         "x": [
          "Discrepancy"
         ],
         "y": [
          -46
         ]
        }
       ],
       "layout": {
        "template": {
         "data": {
          "bar": [
           {
            "error_x": {
             "color": "#2a3f5f"
            },
            "error_y": {
             "color": "#2a3f5f"
            },
            "marker": {
             "line": {
              "color": "#E5ECF6",
              "width": 0.5
             },
             "pattern": {
              "fillmode": "overlay",
              "size": 10,
              "solidity": 0.2
             }
            },
            "type": "bar"
           }
          ],
          "barpolar": [
           {
            "marker": {
             "line": {
              "color": "#E5ECF6",
              "width": 0.5
             },
             "pattern": {
              "fillmode": "overlay",
              "size": 10,
              "solidity": 0.2
             }
            },
            "type": "barpolar"
           }
          ],
          "carpet": [
           {
            "aaxis": {
             "endlinecolor": "#2a3f5f",
             "gridcolor": "white",
             "linecolor": "white",
             "minorgridcolor": "white",
             "startlinecolor": "#2a3f5f"
            },
            "baxis": {
             "endlinecolor": "#2a3f5f",
             "gridcolor": "white",
             "linecolor": "white",
             "minorgridcolor": "white",
             "startlinecolor": "#2a3f5f"
            },
            "type": "carpet"
           }
          ],
          "choropleth": [
           {
            "colorbar": {
             "outlinewidth": 0,
             "ticks": ""
            },
            "type": "choropleth"
           }
          ],
          "contour": [
           {
            "colorbar": {
             "outlinewidth": 0,
             "ticks": ""
            },
            "colorscale": [
             [
              0,
              "#0d0887"
             ],
             [
              0.1111111111111111,
              "#46039f"
             ],
             [
              0.2222222222222222,
              "#7201a8"
             ],
             [
              0.3333333333333333,
              "#9c179e"
             ],
             [
              0.4444444444444444,
              "#bd3786"
             ],
             [
              0.5555555555555556,
              "#d8576b"
             ],
             [
              0.6666666666666666,
              "#ed7953"
             ],
             [
              0.7777777777777778,
              "#fb9f3a"
             ],
             [
              0.8888888888888888,
              "#fdca26"
             ],
             [
              1,
              "#f0f921"
             ]
            ],
            "type": "contour"
           }
          ],
          "contourcarpet": [
           {
            "colorbar": {
             "outlinewidth": 0,
             "ticks": ""
            },
            "type": "contourcarpet"
           }
          ],
          "heatmap": [
           {
            "colorbar": {
             "outlinewidth": 0,
             "ticks": ""
            },
            "colorscale": [
             [
              0,
              "#0d0887"
             ],
             [
              0.1111111111111111,
              "#46039f"
             ],
             [
              0.2222222222222222,
              "#7201a8"
             ],
             [
              0.3333333333333333,
              "#9c179e"
             ],
             [
              0.4444444444444444,
              "#bd3786"
             ],
             [
              0.5555555555555556,
              "#d8576b"
             ],
             [
              0.6666666666666666,
              "#ed7953"
             ],
             [
              0.7777777777777778,
              "#fb9f3a"
             ],
             [
              0.8888888888888888,
              "#fdca26"
             ],
             [
              1,
              "#f0f921"
             ]
            ],
            "type": "heatmap"
           }
          ],
          "heatmapgl": [
           {
            "colorbar": {
             "outlinewidth": 0,
             "ticks": ""
            },
            "colorscale": [
             [
              0,
              "#0d0887"
             ],
             [
              0.1111111111111111,
              "#46039f"
             ],
             [
              0.2222222222222222,
              "#7201a8"
             ],
             [
              0.3333333333333333,
              "#9c179e"
             ],
             [
              0.4444444444444444,
              "#bd3786"
             ],
             [
              0.5555555555555556,
              "#d8576b"
             ],
             [
              0.6666666666666666,
              "#ed7953"
             ],
             [
              0.7777777777777778,
              "#fb9f3a"
             ],
             [
              0.8888888888888888,
              "#fdca26"
             ],
             [
              1,
              "#f0f921"
             ]
            ],
            "type": "heatmapgl"
           }
          ],
          "histogram": [
           {
            "marker": {
             "pattern": {
              "fillmode": "overlay",
              "size": 10,
              "solidity": 0.2
             }
            },
            "type": "histogram"
           }
          ],
          "histogram2d": [
           {
            "colorbar": {
             "outlinewidth": 0,
             "ticks": ""
            },
            "colorscale": [
             [
              0,
              "#0d0887"
             ],
             [
              0.1111111111111111,
              "#46039f"
             ],
             [
              0.2222222222222222,
              "#7201a8"
             ],
             [
              0.3333333333333333,
              "#9c179e"
             ],
             [
              0.4444444444444444,
              "#bd3786"
             ],
             [
              0.5555555555555556,
              "#d8576b"
             ],
             [
              0.6666666666666666,
              "#ed7953"
             ],
             [
              0.7777777777777778,
              "#fb9f3a"
             ],
             [
              0.8888888888888888,
              "#fdca26"
             ],
             [
              1,
              "#f0f921"
             ]
            ],
            "type": "histogram2d"
           }
          ],
          "histogram2dcontour": [
           {
            "colorbar": {
             "outlinewidth": 0,
             "ticks": ""
            },
            "colorscale": [
             [
              0,
              "#0d0887"
             ],
             [
              0.1111111111111111,
              "#46039f"
             ],
             [
              0.2222222222222222,
              "#7201a8"
             ],
             [
              0.3333333333333333,
              "#9c179e"
             ],
             [
              0.4444444444444444,
              "#bd3786"
             ],
             [
              0.5555555555555556,
              "#d8576b"
             ],
             [
              0.6666666666666666,
              "#ed7953"
             ],
             [
              0.7777777777777778,
              "#fb9f3a"
             ],
             [
              0.8888888888888888,
              "#fdca26"
             ],
             [
              1,
              "#f0f921"
             ]
            ],
            "type": "histogram2dcontour"
           }
          ],
          "mesh3d": [
           {
            "colorbar": {
             "outlinewidth": 0,
             "ticks": ""
            },
            "type": "mesh3d"
           }
          ],
          "parcoords": [
           {
            "line": {
             "colorbar": {
              "outlinewidth": 0,
              "ticks": ""
             }
            },
            "type": "parcoords"
           }
          ],
          "pie": [
           {
            "automargin": true,
            "type": "pie"
           }
          ],
          "scatter": [
           {
            "fillpattern": {
             "fillmode": "overlay",
             "size": 10,
             "solidity": 0.2
            },
            "type": "scatter"
           }
          ],
          "scatter3d": [
           {
            "line": {
             "colorbar": {
              "outlinewidth": 0,
              "ticks": ""
             }
            },
            "marker": {
             "colorbar": {
              "outlinewidth": 0,
              "ticks": ""
             }
            },
            "type": "scatter3d"
           }
          ],
          "scattercarpet": [
           {
            "marker": {
             "colorbar": {
              "outlinewidth": 0,
              "ticks": ""
             }
            },
            "type": "scattercarpet"
           }
          ],
          "scattergeo": [
           {
            "marker": {
             "colorbar": {
              "outlinewidth": 0,
              "ticks": ""
             }
            },
            "type": "scattergeo"
           }
          ],
          "scattergl": [
           {
            "marker": {
             "colorbar": {
              "outlinewidth": 0,
              "ticks": ""
             }
            },
            "type": "scattergl"
           }
          ],
          "scattermapbox": [
           {
            "marker": {
             "colorbar": {
              "outlinewidth": 0,
              "ticks": ""
             }
            },
            "type": "scattermapbox"
           }
          ],
          "scatterpolar": [
           {
            "marker": {
             "colorbar": {
              "outlinewidth": 0,
              "ticks": ""
             }
            },
            "type": "scatterpolar"
           }
          ],
          "scatterpolargl": [
           {
            "marker": {
             "colorbar": {
              "outlinewidth": 0,
              "ticks": ""
             }
            },
            "type": "scatterpolargl"
           }
          ],
          "scatterternary": [
           {
            "marker": {
             "colorbar": {
              "outlinewidth": 0,
              "ticks": ""
             }
            },
            "type": "scatterternary"
           }
          ],
          "surface": [
           {
            "colorbar": {
             "outlinewidth": 0,
             "ticks": ""
            },
            "colorscale": [
             [
              0,
              "#0d0887"
             ],
             [
              0.1111111111111111,
              "#46039f"
             ],
             [
              0.2222222222222222,
              "#7201a8"
             ],
             [
              0.3333333333333333,
              "#9c179e"
             ],
             [
              0.4444444444444444,
              "#bd3786"
             ],
             [
              0.5555555555555556,
              "#d8576b"
             ],
             [
              0.6666666666666666,
              "#ed7953"
             ],
             [
              0.7777777777777778,
              "#fb9f3a"
             ],
             [
              0.8888888888888888,
              "#fdca26"
             ],
             [
              1,
              "#f0f921"
             ]
            ],
            "type": "surface"
           }
          ],
          "table": [
           {
            "cells": {
             "fill": {
              "color": "#EBF0F8"
             },
             "line": {
              "color": "white"
             }
            },
            "header": {
             "fill": {
              "color": "#C8D4E3"
             },
             "line": {
              "color": "white"
             }
            },
            "type": "table"
           }
          ]
         },
         "layout": {
          "annotationdefaults": {
           "arrowcolor": "#2a3f5f",
           "arrowhead": 0,
           "arrowwidth": 1
          },
          "autotypenumbers": "strict",
          "coloraxis": {
           "colorbar": {
            "outlinewidth": 0,
            "ticks": ""
           }
          },
          "colorscale": {
           "diverging": [
            [
             0,
             "#8e0152"
            ],
            [
             0.1,
             "#c51b7d"
            ],
            [
             0.2,
             "#de77ae"
            ],
            [
             0.3,
             "#f1b6da"
            ],
            [
             0.4,
             "#fde0ef"
            ],
            [
             0.5,
             "#f7f7f7"
            ],
            [
             0.6,
             "#e6f5d0"
            ],
            [
             0.7,
             "#b8e186"
            ],
            [
             0.8,
             "#7fbc41"
            ],
            [
             0.9,
             "#4d9221"
            ],
            [
             1,
             "#276419"
            ]
           ],
           "sequential": [
            [
             0,
             "#0d0887"
            ],
            [
             0.1111111111111111,
             "#46039f"
            ],
            [
             0.2222222222222222,
             "#7201a8"
            ],
            [
             0.3333333333333333,
             "#9c179e"
            ],
            [
             0.4444444444444444,
             "#bd3786"
            ],
            [
             0.5555555555555556,
             "#d8576b"
            ],
            [
             0.6666666666666666,
             "#ed7953"
            ],
            [
             0.7777777777777778,
             "#fb9f3a"
            ],
            [
             0.8888888888888888,
             "#fdca26"
            ],
            [
             1,
             "#f0f921"
            ]
           ],
           "sequentialminus": [
            [
             0,
             "#0d0887"
            ],
            [
             0.1111111111111111,
             "#46039f"
            ],
            [
             0.2222222222222222,
             "#7201a8"
            ],
            [
             0.3333333333333333,
             "#9c179e"
            ],
            [
             0.4444444444444444,
             "#bd3786"
            ],
            [
             0.5555555555555556,
             "#d8576b"
            ],
            [
             0.6666666666666666,
             "#ed7953"
            ],
            [
             0.7777777777777778,
             "#fb9f3a"
            ],
            [
             0.8888888888888888,
             "#fdca26"
            ],
            [
             1,
             "#f0f921"
            ]
           ]
          },
          "colorway": [
           "#636efa",
           "#EF553B",
           "#00cc96",
           "#ab63fa",
           "#FFA15A",
           "#19d3f3",
           "#FF6692",
           "#B6E880",
           "#FF97FF",
           "#FECB52"
          ],
          "font": {
           "color": "#2a3f5f"
          },
          "geo": {
           "bgcolor": "white",
           "lakecolor": "white",
           "landcolor": "#E5ECF6",
           "showlakes": true,
           "showland": true,
           "subunitcolor": "white"
          },
          "hoverlabel": {
           "align": "left"
          },
          "hovermode": "closest",
          "mapbox": {
           "style": "light"
          },
          "paper_bgcolor": "white",
          "plot_bgcolor": "#E5ECF6",
          "polar": {
           "angularaxis": {
            "gridcolor": "white",
            "linecolor": "white",
            "ticks": ""
           },
           "bgcolor": "#E5ECF6",
           "radialaxis": {
            "gridcolor": "white",
            "linecolor": "white",
            "ticks": ""
           }
          },
          "scene": {
           "xaxis": {
            "backgroundcolor": "#E5ECF6",
            "gridcolor": "white",
            "gridwidth": 2,
            "linecolor": "white",
            "showbackground": true,
            "ticks": "",
            "zerolinecolor": "white"
           },
           "yaxis": {
            "backgroundcolor": "#E5ECF6",
            "gridcolor": "white",
            "gridwidth": 2,
            "linecolor": "white",
            "showbackground": true,
            "ticks": "",
            "zerolinecolor": "white"
           },
           "zaxis": {
            "backgroundcolor": "#E5ECF6",
            "gridcolor": "white",
            "gridwidth": 2,
            "linecolor": "white",
            "showbackground": true,
            "ticks": "",
            "zerolinecolor": "white"
           }
          },
          "shapedefaults": {
           "line": {
            "color": "#2a3f5f"
           }
          },
          "ternary": {
           "aaxis": {
            "gridcolor": "white",
            "linecolor": "white",
            "ticks": ""
           },
           "baxis": {
            "gridcolor": "white",
            "linecolor": "white",
            "ticks": ""
           },
           "bgcolor": "#E5ECF6",
           "caxis": {
            "gridcolor": "white",
            "linecolor": "white",
            "ticks": ""
           }
          },
          "title": {
           "x": 0.05
          },
          "xaxis": {
           "automargin": true,
           "gridcolor": "white",
           "linecolor": "white",
           "ticks": "",
           "title": {
            "standoff": 15
           },
           "zerolinecolor": "white",
           "zerolinewidth": 2
          },
          "yaxis": {
           "automargin": true,
           "gridcolor": "white",
           "linecolor": "white",
           "ticks": "",
           "title": {
            "standoff": 15
           },
           "zerolinecolor": "white",
           "zerolinewidth": 2
          }
         }
        },
        "title": {
         "text": "Waterfall Chart for A on 2022-01-02"
        },
        "waterfallgap": 0.3
       }
      }
     },
     "metadata": {},
     "output_type": "display_data"
    }
   ],
   "source": [
    "\n",
    "fig = plot_waterfall_for_brand(all_units, 'A', '2022-01-02')\n",
    "if fig:\n",
    "    fig.show()"
   ]
  },
  {
   "cell_type": "code",
   "execution_count": 10,
   "metadata": {},
   "outputs": [],
   "source": [
    "def plot_waterfall_for_brand(units_df: pd.DataFrame, brand: str, date: str):\n",
    "    \"\"\"\n",
    "    Returns a Plotly Waterfall chart for a given brand and date.\n",
    "\n",
    "    Parameters:\n",
    "    units_df (pd.DataFrame): The DataFrame output from calculate_units function.\n",
    "    brand (str): The brand for which to plot the waterfall chart.\n",
    "    date (str): The date for which to plot the waterfall chart.\n",
    "\n",
    "    Returns:\n",
    "    go.Figure: A Plotly Figure object representing the waterfall chart.\n",
    "    \"\"\"\n",
    "    # Filter the DataFrame for the given date\n",
    "    date_df = units_df[units_df['Date'] == date]\n",
    "\n",
    "    if date_df.empty:\n",
    "        print(f\"No data available for the date: {date}\")\n",
    "        return None\n",
    "\n",
    "    # Define the column names for the brand\n",
    "    baseline_units_col = f\"Baseline_Units_{brand}\"\n",
    "    incremental_promo_units_col = f\"Incremental_Promo_Units_{brand}\"\n",
    "    incremental_ad_units_col = f\"Incremental_Ad_Units_{brand}\"\n",
    "    decremental_units_col = f\"Decremental_Units_{brand}\"\n",
    "    units_to_purchase_col = f\"Units_to_Purchase_{brand}\"\n",
    "\n",
    "    # Check if the brand columns exist in the DataFrame\n",
    "    if not all(col in date_df.columns for col in [baseline_units_col, incremental_promo_units_col, incremental_ad_units_col, decremental_units_col, units_to_purchase_col]):\n",
    "        print(f\"Data for brand {brand} is not available.\")\n",
    "        return None\n",
    "\n",
    "    # Extract the values for the brand\n",
    "    values = date_df[[baseline_units_col, incremental_promo_units_col, incremental_ad_units_col, decremental_units_col]].iloc[0].values\n",
    "    net_value = date_df[units_to_purchase_col].iloc[0]\n",
    "\n",
    "    # Calculate the discrepancy\n",
    "    calculated_units = values[0] + values[1] + values[2] - values[3]\n",
    "    discrepancy = net_value - calculated_units\n",
    "\n",
    "    # Debugging: Print intermediate values\n",
    "    print(f\"Values: {values}\")\n",
    "    print(f\"Net Value: {net_value}\")\n",
    "    print(f\"Calculated Units: {calculated_units}\")\n",
    "    print(f\"Discrepancy: {discrepancy}\")\n",
    "\n",
    "    # Round values to avoid floating-point precision issues\n",
    "    calculated_units = round(calculated_units, 2)\n",
    "    net_value = round(net_value, 2)\n",
    "    discrepancy = round(discrepancy, 2)\n",
    "\n",
    "    # Create the waterfall chart\n",
    "    fig = go.Figure(go.Waterfall(\n",
    "        name=brand,\n",
    "        orientation=\"v\",\n",
    "        measure=[\"relative\", \"relative\", \"relative\", \"relative\", \"total\"],\n",
    "        x=[\"Baseline Units\", \"Incremental Promo Units\", \"Incremental Ad Units\", \"Decremental Units\", \"Units to Purchase\"],\n",
    "        y=[values[0], values[1], values[2], -values[3], net_value],\n",
    "        connector={\"line\": {\"color\": \"rgb(63, 63, 63)\"}}\n",
    "    ))\n",
    "\n",
    "    # Add discrepancy if it exists\n",
    "    if discrepancy != 0:\n",
    "        fig.add_trace(go.Waterfall(\n",
    "            name=\"Discrepancy\",\n",
    "            orientation=\"v\",\n",
    "            measure=[\"relative\"],\n",
    "            x=[\"Discrepancy\"],\n",
    "            y=[discrepancy],\n",
    "            connector={\"line\": {\"color\": \"rgb(63, 63, 63)\"}}\n",
    "        ))\n",
    "\n",
    "    fig.update_layout(\n",
    "        title=f\"Waterfall Chart for {brand} on {date}\",\n",
    "        waterfallgap=0.3\n",
    "    )\n",
    "\n",
    "    return fig"
   ]
  },
  {
   "cell_type": "code",
   "execution_count": 10,
   "metadata": {},
   "outputs": [],
   "source": [
    "def calculate_average_adstock(agent_df):\n",
    "    '''\n",
    "    Computes average adstock per brand per step from agent level output\n",
    "    '''\n",
    "    # Initialize empty lists to store the results\n",
    "    average_adstock_A = []\n",
    "    average_adstock_B = []\n",
    "    dates = []\n",
    "    steps = []\n",
    "\n",
    "    # Iterate over the 'Ad_Stock' column\n",
    "    for index, row in agent_df.iterrows():\n",
    "        # Append the adstock for each brand to the respective list\n",
    "        average_adstock_A.append(row['Adstock']['A'])\n",
    "        average_adstock_B.append(row['Adstock']['B'])\n",
    "        dates.append(row['Date'])\n",
    "        steps.append(index[0])  # Assuming 'Step' is the first level of the index\n",
    "\n",
    "    # Create a new DataFrame with the average adstock for each brand\n",
    "    average_adstock_df = pd.DataFrame({\n",
    "        'Average_Adstock_A': average_adstock_A,\n",
    "        'Average_Adstock_B': average_adstock_B,\n",
    "        'Date': dates,\n",
    "        'Step': steps\n",
    "    })\n",
    "\n",
    "    # Group by 'Date' and 'Step' and calculate the average adstock\n",
    "    average_adstock_df = average_adstock_df.groupby(['Date', 'Step']).mean().reset_index()\n",
    "\n",
    "    return average_adstock_df"
   ]
  },
  {
   "cell_type": "code",
   "execution_count": 11,
   "metadata": {},
   "outputs": [
    {
     "data": {
      "text/html": [
       "<div>\n",
       "<style scoped>\n",
       "    .dataframe tbody tr th:only-of-type {\n",
       "        vertical-align: middle;\n",
       "    }\n",
       "\n",
       "    .dataframe tbody tr th {\n",
       "        vertical-align: top;\n",
       "    }\n",
       "\n",
       "    .dataframe thead th {\n",
       "        text-align: right;\n",
       "    }\n",
       "</style>\n",
       "<table border=\"1\" class=\"dataframe\">\n",
       "  <thead>\n",
       "    <tr style=\"text-align: right;\">\n",
       "      <th></th>\n",
       "      <th>Date</th>\n",
       "      <th>Step</th>\n",
       "      <th>Average_Adstock_A</th>\n",
       "      <th>Average_Adstock_B</th>\n",
       "    </tr>\n",
       "  </thead>\n",
       "  <tbody>\n",
       "    <tr>\n",
       "      <th>0</th>\n",
       "      <td>2021-01-03</td>\n",
       "      <td>0</td>\n",
       "      <td>0.000000</td>\n",
       "      <td>0.0</td>\n",
       "    </tr>\n",
       "    <tr>\n",
       "      <th>1</th>\n",
       "      <td>2021-01-10</td>\n",
       "      <td>1</td>\n",
       "      <td>1.000000</td>\n",
       "      <td>1.0</td>\n",
       "    </tr>\n",
       "    <tr>\n",
       "      <th>2</th>\n",
       "      <td>2021-01-17</td>\n",
       "      <td>2</td>\n",
       "      <td>1.000000</td>\n",
       "      <td>1.0</td>\n",
       "    </tr>\n",
       "    <tr>\n",
       "      <th>3</th>\n",
       "      <td>2021-01-24</td>\n",
       "      <td>3</td>\n",
       "      <td>1.000000</td>\n",
       "      <td>1.0</td>\n",
       "    </tr>\n",
       "    <tr>\n",
       "      <th>4</th>\n",
       "      <td>2021-01-31</td>\n",
       "      <td>4</td>\n",
       "      <td>1.000000</td>\n",
       "      <td>1.0</td>\n",
       "    </tr>\n",
       "    <tr>\n",
       "      <th>...</th>\n",
       "      <td>...</td>\n",
       "      <td>...</td>\n",
       "      <td>...</td>\n",
       "      <td>...</td>\n",
       "    </tr>\n",
       "    <tr>\n",
       "      <th>199</th>\n",
       "      <td>2024-10-27</td>\n",
       "      <td>199</td>\n",
       "      <td>15644.045132</td>\n",
       "      <td>1.0</td>\n",
       "    </tr>\n",
       "    <tr>\n",
       "      <th>200</th>\n",
       "      <td>2024-11-03</td>\n",
       "      <td>200</td>\n",
       "      <td>14068.597643</td>\n",
       "      <td>1.0</td>\n",
       "    </tr>\n",
       "    <tr>\n",
       "      <th>201</th>\n",
       "      <td>2024-11-10</td>\n",
       "      <td>201</td>\n",
       "      <td>12816.123055</td>\n",
       "      <td>1.0</td>\n",
       "    </tr>\n",
       "    <tr>\n",
       "      <th>202</th>\n",
       "      <td>2024-11-17</td>\n",
       "      <td>202</td>\n",
       "      <td>11794.099716</td>\n",
       "      <td>1.0</td>\n",
       "    </tr>\n",
       "    <tr>\n",
       "      <th>203</th>\n",
       "      <td>2024-11-24</td>\n",
       "      <td>203</td>\n",
       "      <td>10942.268504</td>\n",
       "      <td>1.0</td>\n",
       "    </tr>\n",
       "  </tbody>\n",
       "</table>\n",
       "<p>204 rows × 4 columns</p>\n",
       "</div>"
      ],
      "text/plain": [
       "          Date  Step  Average_Adstock_A  Average_Adstock_B\n",
       "0   2021-01-03     0           0.000000                0.0\n",
       "1   2021-01-10     1           1.000000                1.0\n",
       "2   2021-01-17     2           1.000000                1.0\n",
       "3   2021-01-24     3           1.000000                1.0\n",
       "4   2021-01-31     4           1.000000                1.0\n",
       "..         ...   ...                ...                ...\n",
       "199 2024-10-27   199       15644.045132                1.0\n",
       "200 2024-11-03   200       14068.597643                1.0\n",
       "201 2024-11-10   201       12816.123055                1.0\n",
       "202 2024-11-17   202       11794.099716                1.0\n",
       "203 2024-11-24   203       10942.268504                1.0\n",
       "\n",
       "[204 rows x 4 columns]"
      ]
     },
     "execution_count": 11,
     "metadata": {},
     "output_type": "execute_result"
    }
   ],
   "source": [
    "calculate_average_adstock(agent_df)"
   ]
  },
  {
   "cell_type": "code",
   "execution_count": null,
   "metadata": {},
   "outputs": [],
   "source": []
  }
 ],
 "metadata": {
  "kernelspec": {
   "display_name": "pymmm_0_6_0",
   "language": "python",
   "name": "python3"
  },
  "language_info": {
   "codemirror_mode": {
    "name": "ipython",
    "version": 3
   },
   "file_extension": ".py",
   "mimetype": "text/x-python",
   "name": "python",
   "nbconvert_exporter": "python",
   "pygments_lexer": "ipython3",
   "version": "3.12.5"
  }
 },
 "nbformat": 4,
 "nbformat_minor": 2
}

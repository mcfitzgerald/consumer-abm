{
 "cells": [
  {
   "cell_type": "code",
   "execution_count": 1,
   "id": "5a63f3da",
   "metadata": {},
   "outputs": [],
   "source": [
    "import numpy as np\n",
    "import pandas as pd\n",
    "import seaborn as sns\n",
    "import matplotlib.pyplot as plt\n",
    "import statsmodels.api as sm\n",
    "import statsmodels.formula.api as smf\n",
    "\n",
    "from sklearn import preprocessing\n",
    "\n",
    "%matplotlib inline"
   ]
  },
  {
   "cell_type": "code",
   "execution_count": 2,
   "id": "eaf254db",
   "metadata": {},
   "outputs": [],
   "source": [
    "model_summary_df = pd.read_csv(\"model_summary.csv\", index_col=0)"
   ]
  },
  {
   "cell_type": "code",
   "execution_count": 3,
   "id": "555f4798",
   "metadata": {},
   "outputs": [
    {
     "data": {
      "text/html": [
       "<div>\n",
       "<style scoped>\n",
       "    .dataframe tbody tr th:only-of-type {\n",
       "        vertical-align: middle;\n",
       "    }\n",
       "\n",
       "    .dataframe tbody tr th {\n",
       "        vertical-align: top;\n",
       "    }\n",
       "\n",
       "    .dataframe thead th {\n",
       "        text-align: right;\n",
       "    }\n",
       "</style>\n",
       "<table border=\"1\" class=\"dataframe\">\n",
       "  <thead>\n",
       "    <tr style=\"text-align: right;\">\n",
       "      <th></th>\n",
       "      <th>Total_Purchases</th>\n",
       "      <th>Average_Product_Price</th>\n",
       "    </tr>\n",
       "  </thead>\n",
       "  <tbody>\n",
       "    <tr>\n",
       "      <th>0</th>\n",
       "      <td>0</td>\n",
       "      <td>5.00000</td>\n",
       "    </tr>\n",
       "    <tr>\n",
       "      <th>1</th>\n",
       "      <td>717</td>\n",
       "      <td>4.13250</td>\n",
       "    </tr>\n",
       "    <tr>\n",
       "      <th>2</th>\n",
       "      <td>1112</td>\n",
       "      <td>4.04750</td>\n",
       "    </tr>\n",
       "    <tr>\n",
       "      <th>3</th>\n",
       "      <td>1239</td>\n",
       "      <td>4.12875</td>\n",
       "    </tr>\n",
       "    <tr>\n",
       "      <th>4</th>\n",
       "      <td>1318</td>\n",
       "      <td>4.06375</td>\n",
       "    </tr>\n",
       "    <tr>\n",
       "      <th>...</th>\n",
       "      <td>...</td>\n",
       "      <td>...</td>\n",
       "    </tr>\n",
       "    <tr>\n",
       "      <th>95</th>\n",
       "      <td>1305</td>\n",
       "      <td>3.99250</td>\n",
       "    </tr>\n",
       "    <tr>\n",
       "      <th>96</th>\n",
       "      <td>1312</td>\n",
       "      <td>4.06250</td>\n",
       "    </tr>\n",
       "    <tr>\n",
       "      <th>97</th>\n",
       "      <td>1296</td>\n",
       "      <td>4.09375</td>\n",
       "    </tr>\n",
       "    <tr>\n",
       "      <th>98</th>\n",
       "      <td>1292</td>\n",
       "      <td>4.06000</td>\n",
       "    </tr>\n",
       "    <tr>\n",
       "      <th>99</th>\n",
       "      <td>1305</td>\n",
       "      <td>4.07250</td>\n",
       "    </tr>\n",
       "  </tbody>\n",
       "</table>\n",
       "<p>100 rows × 2 columns</p>\n",
       "</div>"
      ],
      "text/plain": [
       "    Total_Purchases  Average_Product_Price\n",
       "0                 0                5.00000\n",
       "1               717                4.13250\n",
       "2              1112                4.04750\n",
       "3              1239                4.12875\n",
       "4              1318                4.06375\n",
       "..              ...                    ...\n",
       "95             1305                3.99250\n",
       "96             1312                4.06250\n",
       "97             1296                4.09375\n",
       "98             1292                4.06000\n",
       "99             1305                4.07250\n",
       "\n",
       "[100 rows x 2 columns]"
      ]
     },
     "execution_count": 3,
     "metadata": {},
     "output_type": "execute_result"
    }
   ],
   "source": [
    "model_summary_df"
   ]
  },
  {
   "cell_type": "code",
   "execution_count": 4,
   "id": "8a303237",
   "metadata": {},
   "outputs": [],
   "source": [
    "asp = model_summary_df[10:]['Average_Product_Price'].values"
   ]
  },
  {
   "cell_type": "code",
   "execution_count": 5,
   "id": "7a8dfb9d",
   "metadata": {},
   "outputs": [],
   "source": [
    "units = model_summary_df[10:]['Total_Purchases'].values"
   ]
  },
  {
   "cell_type": "code",
   "execution_count": 6,
   "id": "d58729f6",
   "metadata": {},
   "outputs": [
    {
     "data": {
      "text/plain": [
       "(array([ 4.,  4., 10., 11., 11., 21., 13.,  6.,  6.,  4.]),\n",
       " array([3.99125 , 4.005375, 4.0195  , 4.033625, 4.04775 , 4.061875,\n",
       "        4.076   , 4.090125, 4.10425 , 4.118375, 4.1325  ]),\n",
       " <BarContainer object of 10 artists>)"
      ]
     },
     "execution_count": 6,
     "metadata": {},
     "output_type": "execute_result"
    },
    {
     "data": {
      "image/png": "[encoded data removed]",
      "text/plain": [
       "<Figure size 640x480 with 1 Axes>"
      ]
     },
     "metadata": {},
     "output_type": "display_data"
    }
   ],
   "source": [
    "plt.hist(asp)"
   ]
  },
  {
   "cell_type": "code",
   "execution_count": 7,
   "id": "42a6f3be",
   "metadata": {},
   "outputs": [
    {
     "data": {
      "text/plain": [
       "(array([ 5.,  5.,  7., 16., 17., 16., 10.,  7.,  2.,  5.]),\n",
       " array([1247. , 1259.3, 1271.6, 1283.9, 1296.2, 1308.5, 1320.8, 1333.1,\n",
       "        1345.4, 1357.7, 1370. ]),\n",
       " <BarContainer object of 10 artists>)"
      ]
     },
     "execution_count": 7,
     "metadata": {},
     "output_type": "execute_result"
    },
    {
     "data": {
      "image/png": "[encoded data removed]",
      "text/plain": [
       "<Figure size 640x480 with 1 Axes>"
      ]
     },
     "metadata": {},
     "output_type": "display_data"
    }
   ],
   "source": [
    "plt.hist(units)"
   ]
  },
  {
   "cell_type": "code",
   "execution_count": 8,
   "id": "aae35d21",
   "metadata": {},
   "outputs": [
    {
     "data": {
      "text/plain": [
       "3.99125"
      ]
     },
     "execution_count": 8,
     "metadata": {},
     "output_type": "execute_result"
    }
   ],
   "source": [
    "min(asp)"
   ]
  },
  {
   "cell_type": "code",
   "execution_count": 9,
   "id": "205a3b17",
   "metadata": {},
   "outputs": [
    {
     "data": {
      "text/plain": [
       "4.1325"
      ]
     },
     "execution_count": 9,
     "metadata": {},
     "output_type": "execute_result"
    }
   ],
   "source": [
    "max(asp)"
   ]
  },
  {
   "cell_type": "code",
   "execution_count": 10,
   "id": "42e689fb",
   "metadata": {},
   "outputs": [],
   "source": [
    "norm_asp = (asp-min(asp))/min(asp)"
   ]
  },
  {
   "cell_type": "code",
   "execution_count": 11,
   "id": "2638703a",
   "metadata": {},
   "outputs": [],
   "source": [
    "norm_units = (units-min(units))/min(units)"
   ]
  },
  {
   "cell_type": "code",
   "execution_count": 12,
   "id": "91b70c23",
   "metadata": {
    "scrolled": true
   },
   "outputs": [
    {
     "data": {
      "text/plain": [
       "<matplotlib.collections.PathCollection at 0x11c5c5f30>"
      ]
     },
     "execution_count": 12,
     "metadata": {},
     "output_type": "execute_result"
    },
    {
     "data": {
      "image/png": "[encoded data removed]",
      "text/plain": [
       "<Figure size 640x480 with 1 Axes>"
      ]
     },
     "metadata": {},
     "output_type": "display_data"
    }
   ],
   "source": [
    "plt.scatter(norm_asp,norm_units)"
   ]
  },
  {
   "cell_type": "code",
   "execution_count": 13,
   "id": "008bcece",
   "metadata": {},
   "outputs": [],
   "source": [
    "pct_mean_asp = (np.mean(asp)-asp)/np.mean(asp)"
   ]
  },
  {
   "cell_type": "code",
   "execution_count": 14,
   "id": "9218d93b",
   "metadata": {},
   "outputs": [],
   "source": [
    "pct_mean_units = (np.mean(units)-units)/np.mean(units)"
   ]
  },
  {
   "cell_type": "code",
   "execution_count": 15,
   "id": "384f89fa",
   "metadata": {},
   "outputs": [
    {
     "data": {
      "text/plain": [
       "<matplotlib.collections.PathCollection at 0x11ca878b0>"
      ]
     },
     "execution_count": 15,
     "metadata": {},
     "output_type": "execute_result"
    },
    {
     "data": {
      "image/png": "[encoded data removed]",
      "text/plain": [
       "<Figure size 640x480 with 1 Axes>"
      ]
     },
     "metadata": {},
     "output_type": "display_data"
    }
   ],
   "source": [
    "plt.scatter(pct_mean_asp,pct_mean_units)"
   ]
  },
  {
   "cell_type": "code",
   "execution_count": 16,
   "id": "c263aa75",
   "metadata": {},
   "outputs": [],
   "source": [
    "norm_df = pd.DataFrame()"
   ]
  },
  {
   "cell_type": "code",
   "execution_count": 18,
   "id": "e69db3b2",
   "metadata": {},
   "outputs": [],
   "source": [
    "norm_df['norm_asp'] = norm_asp"
   ]
  },
  {
   "cell_type": "code",
   "execution_count": 19,
   "id": "d1bfd55f",
   "metadata": {},
   "outputs": [],
   "source": [
    "norm_df['norm_units'] = norm_units"
   ]
  },
  {
   "cell_type": "code",
   "execution_count": 23,
   "id": "6d4e742c",
   "metadata": {},
   "outputs": [],
   "source": [
    "pct_df = pd.DataFrame()"
   ]
  },
  {
   "cell_type": "code",
   "execution_count": 24,
   "id": "b55bdb23",
   "metadata": {},
   "outputs": [],
   "source": [
    "pct_df['pct_mean_asp'] = pct_mean_asp"
   ]
  },
  {
   "cell_type": "code",
   "execution_count": 25,
   "id": "aadd257c",
   "metadata": {},
   "outputs": [],
   "source": [
    "pct_df['pct_mean_units'] = pct_mean_units"
   ]
  },
  {
   "cell_type": "code",
   "execution_count": 101,
   "id": "01996845",
   "metadata": {},
   "outputs": [],
   "source": [
    "norm_mod = smf.ols(formula='norm_units ~ norm_asp', data=norm_df)"
   ]
  },
  {
   "cell_type": "code",
   "execution_count": 102,
   "id": "875fa7e6",
   "metadata": {},
   "outputs": [],
   "source": [
    "norm_res = norm_mod.fit()"
   ]
  },
  {
   "cell_type": "code",
   "execution_count": 103,
   "id": "fd25e3e0",
   "metadata": {},
   "outputs": [
    {
     "name": "stdout",
     "output_type": "stream",
     "text": [
      "                            OLS Regression Results                            \n",
      "==============================================================================\n",
      "Dep. Variable:             norm_units   R-squared:                       0.117\n",
      "Model:                            OLS   Adj. R-squared:                  0.107\n",
      "Method:                 Least Squares   F-statistic:                     11.61\n",
      "Date:                Wed, 15 Mar 2023   Prob (F-statistic):           0.000991\n",
      "Time:                        16:09:08   Log-Likelihood:                 222.81\n",
      "No. Observations:                  90   AIC:                            -441.6\n",
      "Df Residuals:                      88   BIC:                            -436.6\n",
      "Df Model:                           1                                         \n",
      "Covariance Type:            nonrobust                                         \n",
      "==============================================================================\n",
      "                 coef    std err          t      P>|t|      [0.025      0.975]\n",
      "------------------------------------------------------------------------------\n",
      "Intercept      0.0637      0.005     11.964      0.000       0.053       0.074\n",
      "norm_asp      -0.9406      0.276     -3.407      0.001      -1.489      -0.392\n",
      "==============================================================================\n",
      "Omnibus:                        0.463   Durbin-Watson:                   2.336\n",
      "Prob(Omnibus):                  0.793   Jarque-Bera (JB):                0.604\n",
      "Skew:                          -0.020   Prob(JB):                        0.739\n",
      "Kurtosis:                       2.601   Cond. No.                         127.\n",
      "==============================================================================\n",
      "\n",
      "Notes:\n",
      "[1] Standard Errors assume that the covariance matrix of the errors is correctly specified.\n"
     ]
    }
   ],
   "source": [
    "print(norm_res.summary())"
   ]
  },
  {
   "cell_type": "code",
   "execution_count": 72,
   "id": "6faf546e",
   "metadata": {},
   "outputs": [],
   "source": [
    "pct_mod = smf.ols(formula='pct_mean_units ~ pct_mean_asp -1', data=pct_df)"
   ]
  },
  {
   "cell_type": "code",
   "execution_count": 73,
   "id": "2d937c88",
   "metadata": {},
   "outputs": [],
   "source": [
    "pct_res = pct_mod.fit()"
   ]
  },
  {
   "cell_type": "code",
   "execution_count": 74,
   "id": "c675147c",
   "metadata": {},
   "outputs": [
    {
     "name": "stdout",
     "output_type": "stream",
     "text": [
      "                                 OLS Regression Results                                \n",
      "=======================================================================================\n",
      "Dep. Variable:         pct_mean_units   R-squared (uncentered):                   0.117\n",
      "Model:                            OLS   Adj. R-squared (uncentered):              0.107\n",
      "Method:                 Least Squares   F-statistic:                              11.74\n",
      "Date:                Wed, 15 Mar 2023   Prob (F-statistic):                    0.000927\n",
      "Time:                        15:04:05   Log-Likelihood:                          226.96\n",
      "No. Observations:                  90   AIC:                                     -451.9\n",
      "Df Residuals:                      89   BIC:                                     -449.4\n",
      "Df Model:                           1                                                  \n",
      "Covariance Type:            nonrobust                                                  \n",
      "================================================================================\n",
      "                   coef    std err          t      P>|t|      [0.025      0.975]\n",
      "--------------------------------------------------------------------------------\n",
      "pct_mean_asp    -0.9141      0.267     -3.427      0.001      -1.444      -0.384\n",
      "==============================================================================\n",
      "Omnibus:                        0.463   Durbin-Watson:                   2.336\n",
      "Prob(Omnibus):                  0.793   Jarque-Bera (JB):                0.604\n",
      "Skew:                           0.020   Prob(JB):                        0.739\n",
      "Kurtosis:                       2.601   Cond. No.                         1.00\n",
      "==============================================================================\n",
      "\n",
      "Notes:\n",
      "[1] R² is computed without centering (uncentered) since the model does not contain a constant.\n",
      "[2] Standard Errors assume that the covariance matrix of the errors is correctly specified.\n"
     ]
    }
   ],
   "source": [
    "print(pct_res.summary())"
   ]
  },
  {
   "cell_type": "code",
   "execution_count": 75,
   "id": "f823c3f5",
   "metadata": {},
   "outputs": [
    {
     "data": {
      "text/plain": [
       "<matplotlib.collections.PathCollection at 0x121f173a0>"
      ]
     },
     "execution_count": 75,
     "metadata": {},
     "output_type": "execute_result"
    },
    {
     "data": {
      "image/png": "[encoded data removed]",
      "text/plain": [
       "<Figure size 640x480 with 1 Axes>"
      ]
     },
     "metadata": {},
     "output_type": "display_data"
    }
   ],
   "source": [
    "fig, ax = plt.subplots()\n",
    "ax.scatter('pct_mean_asp', 'pct_mean_units', data=pct_df)\n",
    "ax.scatter(pct_res.predict(), 'pct_mean_asp', data=pct_df)"
   ]
  },
  {
   "cell_type": "code",
   "execution_count": 77,
   "id": "6b06f096",
   "metadata": {},
   "outputs": [],
   "source": [
    "agent_data = pd.read_pickle(\"agent_summary.pkl\")"
   ]
  },
  {
   "cell_type": "code",
   "execution_count": 123,
   "id": "a98455d1",
   "metadata": {},
   "outputs": [
    {
     "data": {
      "text/html": [
       "<div>\n",
       "<style scoped>\n",
       "    .dataframe tbody tr th:only-of-type {\n",
       "        vertical-align: middle;\n",
       "    }\n",
       "\n",
       "    .dataframe tbody tr th {\n",
       "        vertical-align: top;\n",
       "    }\n",
       "\n",
       "    .dataframe thead th {\n",
       "        text-align: right;\n",
       "    }\n",
       "</style>\n",
       "<table border=\"1\" class=\"dataframe\">\n",
       "  <thead>\n",
       "    <tr style=\"text-align: right;\">\n",
       "      <th></th>\n",
       "      <th></th>\n",
       "      <th>Household_Size</th>\n",
       "      <th>Purchased_This_Step</th>\n",
       "      <th>Pantry_Stock</th>\n",
       "      <th>Pantry_Max</th>\n",
       "      <th>Pantry_Min</th>\n",
       "      <th>Purchase_Behavior</th>\n",
       "      <th>Minimum_Purchase_Needed</th>\n",
       "      <th>Current_Product_Price</th>\n",
       "      <th>Last_Product_Price</th>\n",
       "    </tr>\n",
       "    <tr>\n",
       "      <th>Step</th>\n",
       "      <th>AgentID</th>\n",
       "      <th></th>\n",
       "      <th></th>\n",
       "      <th></th>\n",
       "      <th></th>\n",
       "      <th></th>\n",
       "      <th></th>\n",
       "      <th></th>\n",
       "      <th></th>\n",
       "      <th></th>\n",
       "    </tr>\n",
       "  </thead>\n",
       "  <tbody>\n",
       "    <tr>\n",
       "      <th rowspan=\"5\" valign=\"top\">0</th>\n",
       "      <th>3</th>\n",
       "      <td>3</td>\n",
       "      <td>0</td>\n",
       "      <td>3.000000</td>\n",
       "      <td>3</td>\n",
       "      <td>0.3</td>\n",
       "      <td>buy_minimum</td>\n",
       "      <td>0</td>\n",
       "      <td>5.0</td>\n",
       "      <td>5.00</td>\n",
       "    </tr>\n",
       "    <tr>\n",
       "      <th>9</th>\n",
       "      <td>6</td>\n",
       "      <td>0</td>\n",
       "      <td>8.000000</td>\n",
       "      <td>8</td>\n",
       "      <td>0.6</td>\n",
       "      <td>buy_minimum</td>\n",
       "      <td>0</td>\n",
       "      <td>5.0</td>\n",
       "      <td>5.00</td>\n",
       "    </tr>\n",
       "    <tr>\n",
       "      <th>10</th>\n",
       "      <td>3</td>\n",
       "      <td>0</td>\n",
       "      <td>4.000000</td>\n",
       "      <td>4</td>\n",
       "      <td>0.3</td>\n",
       "      <td>buy_minimum</td>\n",
       "      <td>0</td>\n",
       "      <td>5.0</td>\n",
       "      <td>5.00</td>\n",
       "    </tr>\n",
       "    <tr>\n",
       "      <th>11</th>\n",
       "      <td>3</td>\n",
       "      <td>0</td>\n",
       "      <td>4.000000</td>\n",
       "      <td>4</td>\n",
       "      <td>0.3</td>\n",
       "      <td>buy_minimum</td>\n",
       "      <td>0</td>\n",
       "      <td>5.0</td>\n",
       "      <td>5.00</td>\n",
       "    </tr>\n",
       "    <tr>\n",
       "      <th>20</th>\n",
       "      <td>6</td>\n",
       "      <td>0</td>\n",
       "      <td>7.000000</td>\n",
       "      <td>7</td>\n",
       "      <td>0.6</td>\n",
       "      <td>buy_minimum</td>\n",
       "      <td>0</td>\n",
       "      <td>5.0</td>\n",
       "      <td>5.00</td>\n",
       "    </tr>\n",
       "    <tr>\n",
       "      <th>...</th>\n",
       "      <th>...</th>\n",
       "      <td>...</td>\n",
       "      <td>...</td>\n",
       "      <td>...</td>\n",
       "      <td>...</td>\n",
       "      <td>...</td>\n",
       "      <td>...</td>\n",
       "      <td>...</td>\n",
       "      <td>...</td>\n",
       "      <td>...</td>\n",
       "    </tr>\n",
       "    <tr>\n",
       "      <th rowspan=\"5\" valign=\"top\">99</th>\n",
       "      <th>986</th>\n",
       "      <td>4</td>\n",
       "      <td>0</td>\n",
       "      <td>3.043361</td>\n",
       "      <td>5</td>\n",
       "      <td>0.4</td>\n",
       "      <td>buy_some_or_none</td>\n",
       "      <td>0</td>\n",
       "      <td>2.5</td>\n",
       "      <td>2.50</td>\n",
       "    </tr>\n",
       "    <tr>\n",
       "      <th>988</th>\n",
       "      <td>5</td>\n",
       "      <td>0</td>\n",
       "      <td>3.533232</td>\n",
       "      <td>5</td>\n",
       "      <td>0.5</td>\n",
       "      <td>buy_some_or_none</td>\n",
       "      <td>0</td>\n",
       "      <td>5.0</td>\n",
       "      <td>2.50</td>\n",
       "    </tr>\n",
       "    <tr>\n",
       "      <th>992</th>\n",
       "      <td>4</td>\n",
       "      <td>1</td>\n",
       "      <td>3.564151</td>\n",
       "      <td>4</td>\n",
       "      <td>0.4</td>\n",
       "      <td>buy_maximum</td>\n",
       "      <td>0</td>\n",
       "      <td>2.5</td>\n",
       "      <td>3.75</td>\n",
       "    </tr>\n",
       "    <tr>\n",
       "      <th>994</th>\n",
       "      <td>3</td>\n",
       "      <td>1</td>\n",
       "      <td>4.849196</td>\n",
       "      <td>5</td>\n",
       "      <td>0.3</td>\n",
       "      <td>buy_maximum</td>\n",
       "      <td>0</td>\n",
       "      <td>2.5</td>\n",
       "      <td>5.00</td>\n",
       "    </tr>\n",
       "    <tr>\n",
       "      <th>995</th>\n",
       "      <td>3</td>\n",
       "      <td>0</td>\n",
       "      <td>2.152056</td>\n",
       "      <td>4</td>\n",
       "      <td>0.3</td>\n",
       "      <td>buy_some_or_none</td>\n",
       "      <td>0</td>\n",
       "      <td>5.0</td>\n",
       "      <td>5.00</td>\n",
       "    </tr>\n",
       "  </tbody>\n",
       "</table>\n",
       "<p>34800 rows × 9 columns</p>\n",
       "</div>"
      ],
      "text/plain": [
       "              Household_Size  Purchased_This_Step  Pantry_Stock  Pantry_Max  \\\n",
       "Step AgentID                                                                  \n",
       "0    3                     3                    0      3.000000           3   \n",
       "     9                     6                    0      8.000000           8   \n",
       "     10                    3                    0      4.000000           4   \n",
       "     11                    3                    0      4.000000           4   \n",
       "     20                    6                    0      7.000000           7   \n",
       "...                      ...                  ...           ...         ...   \n",
       "99   986                   4                    0      3.043361           5   \n",
       "     988                   5                    0      3.533232           5   \n",
       "     992                   4                    1      3.564151           4   \n",
       "     994                   3                    1      4.849196           5   \n",
       "     995                   3                    0      2.152056           4   \n",
       "\n",
       "              Pantry_Min Purchase_Behavior  Minimum_Purchase_Needed  \\\n",
       "Step AgentID                                                          \n",
       "0    3               0.3       buy_minimum                        0   \n",
       "     9               0.6       buy_minimum                        0   \n",
       "     10              0.3       buy_minimum                        0   \n",
       "     11              0.3       buy_minimum                        0   \n",
       "     20              0.6       buy_minimum                        0   \n",
       "...                  ...               ...                      ...   \n",
       "99   986             0.4  buy_some_or_none                        0   \n",
       "     988             0.5  buy_some_or_none                        0   \n",
       "     992             0.4       buy_maximum                        0   \n",
       "     994             0.3       buy_maximum                        0   \n",
       "     995             0.3  buy_some_or_none                        0   \n",
       "\n",
       "              Current_Product_Price  Last_Product_Price  \n",
       "Step AgentID                                             \n",
       "0    3                          5.0                5.00  \n",
       "     9                          5.0                5.00  \n",
       "     10                         5.0                5.00  \n",
       "     11                         5.0                5.00  \n",
       "     20                         5.0                5.00  \n",
       "...                             ...                 ...  \n",
       "99   986                        2.5                2.50  \n",
       "     988                        5.0                2.50  \n",
       "     992                        2.5                3.75  \n",
       "     994                        2.5                5.00  \n",
       "     995                        5.0                5.00  \n",
       "\n",
       "[34800 rows x 9 columns]"
      ]
     },
     "execution_count": 123,
     "metadata": {},
     "output_type": "execute_result"
    }
   ],
   "source": [
    "agent_data[agent_data['Household_Size'] >= 3]"
   ]
  },
  {
   "cell_type": "code",
   "execution_count": 148,
   "id": "3e59bf1d",
   "metadata": {},
   "outputs": [],
   "source": [
    "agent_1 = agent_data.xs(988, level='AgentID').reset_index()[10:]"
   ]
  },
  {
   "cell_type": "code",
   "execution_count": 149,
   "id": "1a90bfe9",
   "metadata": {},
   "outputs": [
    {
     "data": {
      "text/plain": [
       "10    5.00\n",
       "11    2.50\n",
       "12    5.00\n",
       "13    2.50\n",
       "14    5.00\n",
       "      ... \n",
       "95    5.00\n",
       "96    3.75\n",
       "97    2.50\n",
       "98    2.50\n",
       "99    5.00\n",
       "Name: Current_Product_Price, Length: 90, dtype: float64"
      ]
     },
     "execution_count": 149,
     "metadata": {},
     "output_type": "execute_result"
    }
   ],
   "source": [
    "agent_1['Current_Product_Price']"
   ]
  },
  {
   "cell_type": "code",
   "execution_count": 150,
   "id": "5a37bb8c",
   "metadata": {},
   "outputs": [
    {
     "data": {
      "text/plain": [
       "<matplotlib.collections.PathCollection at 0x1245f27d0>"
      ]
     },
     "execution_count": 150,
     "metadata": {},
     "output_type": "execute_result"
    },
    {
     "data": {
      "image/png": "[encoded data removed]",
      "text/plain": [
       "<Figure size 640x480 with 1 Axes>"
      ]
     },
     "metadata": {},
     "output_type": "display_data"
    }
   ],
   "source": [
    "fig_a1, ax_a1 = plt.subplots()\n",
    "ax_a1.scatter('Current_Product_Price', 'Purchased_This_Step', data=agent_1)\n"
   ]
  },
  {
   "cell_type": "code",
   "execution_count": 151,
   "id": "85f162c8",
   "metadata": {},
   "outputs": [],
   "source": [
    "def get_percent_change_from_mean(array):\n",
    "    mean = np.mean(array)\n",
    "    return ((mean-array)/mean)"
   ]
  },
  {
   "cell_type": "code",
   "execution_count": 152,
   "id": "c909799e",
   "metadata": {},
   "outputs": [],
   "source": [
    "agent_units = get_percent_change_from_mean(agent_1['Purchased_This_Step'])"
   ]
  },
  {
   "cell_type": "code",
   "execution_count": 153,
   "id": "a59c5c4e",
   "metadata": {},
   "outputs": [],
   "source": [
    "agent_price = get_percent_change_from_mean(agent_1['Current_Product_Price'])"
   ]
  },
  {
   "cell_type": "code",
   "execution_count": 154,
   "id": "098bbd94",
   "metadata": {},
   "outputs": [
    {
     "data": {
      "text/plain": [
       "<matplotlib.collections.PathCollection at 0x124669030>"
      ]
     },
     "execution_count": 154,
     "metadata": {},
     "output_type": "execute_result"
    },
    {
     "data": {
      "image/png": "[encoded data removed]",
      "text/plain": [
       "<Figure size 640x480 with 1 Axes>"
      ]
     },
     "metadata": {},
     "output_type": "display_data"
    }
   ],
   "source": [
    "plt.scatter(agent_price, agent_units)"
   ]
  },
  {
   "cell_type": "code",
   "execution_count": 155,
   "id": "e9028ba2",
   "metadata": {},
   "outputs": [],
   "source": [
    "agent_1['pct_mean_asp'] = agent_price"
   ]
  },
  {
   "cell_type": "code",
   "execution_count": 156,
   "id": "12076916",
   "metadata": {},
   "outputs": [],
   "source": [
    "agent_1['pct_mean_units'] = agent_units"
   ]
  },
  {
   "cell_type": "code",
   "execution_count": 157,
   "id": "efe8c96d",
   "metadata": {},
   "outputs": [],
   "source": [
    "agent_pct_mod = smf.ols(formula='pct_mean_units ~ pct_mean_asp -1', data=agent_1)"
   ]
  },
  {
   "cell_type": "code",
   "execution_count": 158,
   "id": "9e3cb57a",
   "metadata": {},
   "outputs": [],
   "source": [
    "agent_pct_res = agent_pct_mod.fit()"
   ]
  },
  {
   "cell_type": "code",
   "execution_count": 159,
   "id": "b13e6bb3",
   "metadata": {},
   "outputs": [
    {
     "name": "stdout",
     "output_type": "stream",
     "text": [
      "                                 OLS Regression Results                                \n",
      "=======================================================================================\n",
      "Dep. Variable:         pct_mean_units   R-squared (uncentered):                   0.175\n",
      "Model:                            OLS   Adj. R-squared (uncentered):              0.166\n",
      "Method:                 Least Squares   F-statistic:                              18.86\n",
      "Date:                Wed, 15 Mar 2023   Prob (F-statistic):                    3.72e-05\n",
      "Time:                        16:35:44   Log-Likelihood:                         -101.76\n",
      "No. Observations:                  90   AIC:                                      205.5\n",
      "Df Residuals:                      89   BIC:                                      208.0\n",
      "Df Model:                           1                                                  \n",
      "Covariance Type:            nonrobust                                                  \n",
      "================================================================================\n",
      "                   coef    std err          t      P>|t|      [0.025      0.975]\n",
      "--------------------------------------------------------------------------------\n",
      "pct_mean_asp    -1.2841      0.296     -4.342      0.000      -1.872      -0.697\n",
      "==============================================================================\n",
      "Omnibus:                       22.148   Durbin-Watson:                   2.293\n",
      "Prob(Omnibus):                  0.000   Jarque-Bera (JB):               35.126\n",
      "Skew:                          -1.031   Prob(JB):                     2.36e-08\n",
      "Kurtosis:                       5.261   Cond. No.                         1.00\n",
      "==============================================================================\n",
      "\n",
      "Notes:\n",
      "[1] R² is computed without centering (uncentered) since the model does not contain a constant.\n",
      "[2] Standard Errors assume that the covariance matrix of the errors is correctly specified.\n"
     ]
    }
   ],
   "source": [
    "print(agent_pct_res.summary())"
   ]
  },
  {
   "cell_type": "code",
   "execution_count": null,
   "id": "b4d16775",
   "metadata": {},
   "outputs": [],
   "source": []
  }
 ],
 "metadata": {
  "kernelspec": {
   "display_name": "Python 3 (ipykernel)",
   "language": "python",
   "name": "python3"
  },
  "language_info": {
   "codemirror_mode": {
    "name": "ipython",
    "version": 3
   },
   "file_extension": ".py",
   "mimetype": "text/x-python",
   "name": "python",
   "nbconvert_exporter": "python",
   "pygments_lexer": "ipython3",
   "version": "3.10.10"
  }
 },
 "nbformat": 4,
 "nbformat_minor": 5
}

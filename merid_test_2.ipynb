{
 "cells": [
  {
   "cell_type": "code",
   "execution_count": 1,
   "metadata": {},
   "outputs": [
    {
     "name": "stdout",
     "output_type": "stream",
     "text": [
      "Your runtime has 8.6 gigabytes of available RAM\n",
      "\n",
      "Num GPUs Available:  0\n",
      "Num CPUs Available:  1\n"
     ]
    }
   ],
   "source": [
    "import numpy as np\n",
    "import pandas as pd\n",
    "import tensorflow as tf\n",
    "import tensorflow_probability as tfp\n",
    "import arviz as az\n",
    "\n",
    "import IPython\n",
    "\n",
    "from meridian import constants\n",
    "from meridian.data import load\n",
    "from meridian.data import test_utils\n",
    "from meridian.model import model\n",
    "from meridian.model import spec\n",
    "from meridian.model import prior_distribution\n",
    "from meridian.analysis import optimizer\n",
    "from meridian.analysis import analyzer\n",
    "from meridian.analysis import visualizer\n",
    "from meridian.analysis import summarizer\n",
    "from meridian.analysis import formatter\n",
    "\n",
    "# check if GPU is available\n",
    "from psutil import virtual_memory\n",
    "ram_gb = virtual_memory().total / 1e9\n",
    "print('Your runtime has {:.1f} gigabytes of available RAM\\n'.format(ram_gb))\n",
    "print(\"Num GPUs Available: \", len(tf.config.experimental.list_physical_devices('GPU')))\n",
    "print(\"Num CPUs Available: \", len(tf.config.experimental.list_physical_devices('CPU')))"
   ]
  },
  {
   "cell_type": "code",
   "execution_count": 2,
   "metadata": {},
   "outputs": [],
   "source": [
    "df = pd.read_csv('sim_data_trunc.csv')"
   ]
  },
  {
   "cell_type": "code",
   "execution_count": 3,
   "metadata": {},
   "outputs": [
    {
     "name": "stdout",
     "output_type": "stream",
     "text": [
      "         Date  Step  price_A      tv_A  web_A  price_B  tv_B  web_B  \\\n",
      "0  2022-01-02    52      5.0       0.0    0.0      5.0   0.0    0.0   \n",
      "1  2022-01-09    53      5.0       0.0    0.0      5.0   0.0    0.0   \n",
      "2  2022-01-16    54      5.0       0.0    0.0      5.0   0.0    0.0   \n",
      "3  2022-01-23    55      5.0       0.0    0.0      5.0   0.0    0.0   \n",
      "4  2022-01-30    56      5.0  125000.0    0.0      5.0   0.0    0.0   \n",
      "\n",
      "   Total_Purchases_A  Total_Purchases_B  Total_Sales_A  Total_Sales_B  \n",
      "0              618.0              243.0      3090000.0      1215000.0  \n",
      "1              531.0              187.0      2655000.0       935000.0  \n",
      "2              653.0              240.0      3265000.0      1200000.0  \n",
      "3              521.0              207.0      2605000.0      1035000.0  \n",
      "4              620.0              231.0      3100000.0      1155000.0  \n"
     ]
    }
   ],
   "source": [
    "print(df.head())"
   ]
  },
  {
   "cell_type": "code",
   "execution_count": 4,
   "metadata": {},
   "outputs": [
    {
     "name": "stderr",
     "output_type": "stream",
     "text": [
      "/Users/michael/.venvs/pymmm_0_6_0/lib/python3.12/site-packages/meridian/data/load.py:1020: FutureWarning: Downcasting behavior in `replace` is deprecated and will be removed in a future version. To retain the old behavior, explicitly call `result.infer_objects(copy=False)`. To opt-in to the future behavior, set `pd.set_option('future.no_silent_downcasting', True)`\n",
      "  self.df[geo_column_name] = self.df[geo_column_name].replace(\n",
      "/Users/michael/.venvs/pymmm_0_6_0/lib/python3.12/site-packages/meridian/data/load.py:201: FutureWarning: The return type of `Dataset.dims` will be changed to return a set of dimension names in future, in order to be more consistent with `DataArray.dims`. To access a mapping from dimension names to lengths, please use `Dataset.sizes`.\n",
      "  if (constants.GEO) not in self.dataset.dims.keys():\n",
      "/Users/michael/.venvs/pymmm_0_6_0/lib/python3.12/site-packages/meridian/data/load.py:206: UserWarning: The `population` argument is ignored in a nationally aggregated model. It will be reset to [1]\n",
      "  warnings.warn(\n",
      "/Users/michael/.venvs/pymmm_0_6_0/lib/python3.12/site-packages/meridian/data/load.py:231: FutureWarning: The return type of `Dataset.dims` will be changed to return a set of dimension names in future, in order to be more consistent with `DataArray.dims`. To access a mapping from dimension names to lengths, please use `Dataset.sizes`.\n",
      "  if constants.MEDIA_TIME not in self.dataset.dims.keys():\n",
      "/Users/michael/.venvs/pymmm_0_6_0/lib/python3.12/site-packages/meridian/data/input_data.py:369: UserWarning: Revenue from the `kpi` data is used when `kpi_type`=`revenue`. `revenue_per_kpi` is ignored.\n",
      "  warnings.warn(\n",
      "/Users/michael/.venvs/pymmm_0_6_0/lib/python3.12/site-packages/meridian/model/model.py:67: UserWarning: In a nationally aggregated model, the `media_effects_dist` will be reset to `normal`.\n",
      "  warnings.warn(\n",
      "WARNING: All log messages before absl::InitializeLog() is called are written to STDERR\n",
      "I0000 00:00:1739481888.379151  196879 service.cc:145] XLA service 0x3245961b0 initialized for platform Host (this does not guarantee that XLA will be used). Devices:\n",
      "I0000 00:00:1739481888.379986  196879 service.cc:153]   StreamExecutor device (0): Host, Default Version\n",
      "I0000 00:00:1739481888.522968  196879 device_compiler.h:188] Compiled cluster using XLA!  This line is logged at most once for the lifetime of the process.\n",
      "/Users/michael/.venvs/pymmm_0_6_0/lib/python3.12/site-packages/meridian/model/transformers.py:76: RuntimeWarning: All-NaN slice encountered\n",
      "  func=lambda x: np.nanmedian(x, axis=[0, 1]),\n",
      "/Users/michael/.venvs/pymmm_0_6_0/lib/python3.12/site-packages/meridian/model/prior_distribution.py:846: UserWarning: Hierarchical distribution parameters must be deterministically zero for national models. tau_g_excl_baseline has been automatically set to Deterministic(0).\n",
      "  warnings.warn(\n",
      "/Users/michael/.venvs/pymmm_0_6_0/lib/python3.12/site-packages/meridian/model/prior_distribution.py:846: UserWarning: Hierarchical distribution parameters must be deterministically zero for national models. eta_m has been automatically set to Deterministic(0).\n",
      "  warnings.warn(\n",
      "/Users/michael/.venvs/pymmm_0_6_0/lib/python3.12/site-packages/meridian/model/prior_distribution.py:846: UserWarning: Hierarchical distribution parameters must be deterministically zero for national models. eta_rf has been automatically set to Deterministic(0).\n",
      "  warnings.warn(\n",
      "/Users/michael/.venvs/pymmm_0_6_0/lib/python3.12/site-packages/meridian/model/prior_distribution.py:846: UserWarning: Hierarchical distribution parameters must be deterministically zero for national models. eta_om has been automatically set to Deterministic(0).\n",
      "  warnings.warn(\n",
      "/Users/michael/.venvs/pymmm_0_6_0/lib/python3.12/site-packages/meridian/model/prior_distribution.py:846: UserWarning: Hierarchical distribution parameters must be deterministically zero for national models. eta_orf has been automatically set to Deterministic(0).\n",
      "  warnings.warn(\n",
      "/Users/michael/.venvs/pymmm_0_6_0/lib/python3.12/site-packages/meridian/model/prior_distribution.py:846: UserWarning: Hierarchical distribution parameters must be deterministically zero for national models. xi_c has been automatically set to Deterministic(0).\n",
      "  warnings.warn(\n",
      "/Users/michael/.venvs/pymmm_0_6_0/lib/python3.12/site-packages/meridian/model/prior_distribution.py:846: UserWarning: Hierarchical distribution parameters must be deterministically zero for national models. xi_n has been automatically set to Deterministic(0).\n",
      "  warnings.warn(\n",
      "W0000 00:00:1739481911.797036  196879 random_ops.cc:105] Warning: Using tf.random.uniform with XLA compilation will ignore seeds; consider using tf.random.stateless_uniform instead if reproducible behavior is desired. sanitize_seed/seed\n",
      "W0000 00:00:1739481912.173225  196879 assert_op.cc:38] Ignoring Assert operator mcmc_retry_init/assert_equal_1/Assert/AssertGuard/Assert\n",
      "/Users/michael/.venvs/pymmm_0_6_0/lib/python3.12/site-packages/arviz/data/inference_data.py:157: UserWarning: trace group is not defined in the InferenceData scheme\n",
      "  warnings.warn(\n",
      "/Users/michael/.venvs/pymmm_0_6_0/lib/python3.12/site-packages/arviz/data/inference_data.py:1647: UserWarning: trace group is not defined in the InferenceData scheme\n",
      "  warnings.warn(\n"
     ]
    }
   ],
   "source": [
    "# ... existing imports ...\n",
    "\n",
    "# After df = pd.read_csv('sim_data_trunc.csv') and data checks\n",
    "\n",
    "# Define column mappings for Meridian\n",
    "coord_to_columns = load.CoordToColumns(\n",
    "    time='Date',\n",
    "    controls=['price_A', 'price_B'],\n",
    "    kpi='Total_Sales_A',  # Target variable\n",
    "    media=[\n",
    "        'tv_A',\n",
    "        'web_A',\n",
    "        'tv_B', \n",
    "        'web_B'\n",
    "    ],\n",
    "    media_spend=[\n",
    "        'tv_A',\n",
    "        'web_A',\n",
    "        'tv_B',\n",
    "        'web_B'\n",
    "    ],\n",
    "    # Map other variables if available:\n",
    "    # population='population_column', \n",
    "    # organic_media=['organic_channel'],\n",
    "    # non_media_treatments=['Promo']\n",
    ")\n",
    "\n",
    "# Map media columns to channel names\n",
    "media_to_channel = {\n",
    "    'tv_A': 'TV Campaign A',\n",
    "    'web_A': 'Digital Campaign A',\n",
    "    'tv_B': 'TV Campaign B',\n",
    "    'web_B': 'Digital Campaign B'\n",
    "}\n",
    "\n",
    "# Initialize data loader\n",
    "loader = load.CsvDataLoader(\n",
    "    csv_path='sim_data_trunc.csv',  # Your data file\n",
    "    kpi_type='revenue',  # Using sales as KPI\n",
    "    coord_to_columns=coord_to_columns,\n",
    "    media_to_channel=media_to_channel,\n",
    "    media_spend_to_channel=media_to_channel,  # Same mapping for spend\n",
    ")\n",
    "\n",
    "# Load and prepare data\n",
    "data = loader.load()\n",
    "\n",
    "# Configure model with reasonable priors\n",
    "roi_mu = 0.3  # Prior belief for average ROI\n",
    "roi_sigma = 0.2  # Uncertainty around ROI estimate\n",
    "prior = prior_distribution.PriorDistribution(\n",
    "    roi_m=tfp.distributions.LogNormal(roi_mu, roi_sigma)\n",
    ")\n",
    "model_spec = spec.ModelSpec(prior=prior)\n",
    "\n",
    "# Initialize and run model\n",
    "mmm = model.Meridian(input_data=data, model_spec=model_spec)\n",
    "mmm.sample_prior(500)\n",
    "mmm.sample_posterior(n_chains=7, n_adapt=500, n_burnin=500, n_keep=1000)"
   ]
  },
  {
   "cell_type": "code",
   "execution_count": 7,
   "metadata": {},
   "outputs": [
    {
     "ename": "MCMCSamplingError",
     "evalue": "MCMC sampling failed with a maximum R-hat value of 2582931046400.0.",
     "output_type": "error",
     "traceback": [
      "\u001b[0;31m---------------------------------------------------------------------------\u001b[0m",
      "\u001b[0;31mMCMCSamplingError\u001b[0m                         Traceback (most recent call last)",
      "Cell \u001b[0;32mIn[7], line 5\u001b[0m\n\u001b[1;32m      1\u001b[0m \u001b[38;5;66;03m# After model fitting\u001b[39;00m\n\u001b[1;32m      2\u001b[0m \n\u001b[1;32m      3\u001b[0m \u001b[38;5;66;03m# 1. Model diagnostics (correct API from docs)\u001b[39;00m\n\u001b[1;32m      4\u001b[0m model_diagnostics \u001b[38;5;241m=\u001b[39m visualizer\u001b[38;5;241m.\u001b[39mModelDiagnostics(mmm)\n\u001b[0;32m----> 5\u001b[0m \u001b[43mmodel_diagnostics\u001b[49m\u001b[38;5;241;43m.\u001b[39;49m\u001b[43mplot_rhat_boxplot\u001b[49m\u001b[43m(\u001b[49m\u001b[43m)\u001b[49m  \u001b[38;5;66;03m# Shows R-hat distribution\u001b[39;00m\n\u001b[1;32m      6\u001b[0m model_diagnostics\u001b[38;5;241m.\u001b[39mplot_trace()  \u001b[38;5;66;03m# Shows chain convergence\u001b[39;00m\n\u001b[1;32m      8\u001b[0m \u001b[38;5;66;03m# 2. Results summary (official method)\u001b[39;00m\n",
      "File \u001b[0;32m~/.venvs/pymmm_0_6_0/lib/python3.12/site-packages/meridian/analysis/visualizer.py:326\u001b[0m, in \u001b[0;36mModelDiagnostics.plot_rhat_boxplot\u001b[0;34m(self)\u001b[0m\n\u001b[1;32m    324\u001b[0m \u001b[38;5;28;01mif\u001b[39;00m (rhat[c\u001b[38;5;241m.\u001b[39mRHAT] \u001b[38;5;241m>\u001b[39m \u001b[38;5;241m1e10\u001b[39m)\u001b[38;5;241m.\u001b[39many():\n\u001b[1;32m    325\u001b[0m   max_rhat \u001b[38;5;241m=\u001b[39m \u001b[38;5;28mmax\u001b[39m(rhat[c\u001b[38;5;241m.\u001b[39mRHAT])\n\u001b[0;32m--> 326\u001b[0m   \u001b[38;5;28;01mraise\u001b[39;00m model\u001b[38;5;241m.\u001b[39mMCMCSamplingError(\n\u001b[1;32m    327\u001b[0m       \u001b[38;5;124mf\u001b[39m\u001b[38;5;124m'\u001b[39m\u001b[38;5;124mMCMC sampling failed with a maximum R-hat value of \u001b[39m\u001b[38;5;132;01m{\u001b[39;00mmax_rhat\u001b[38;5;132;01m}\u001b[39;00m\u001b[38;5;124m.\u001b[39m\u001b[38;5;124m'\u001b[39m\n\u001b[1;32m    328\u001b[0m   )\n\u001b[1;32m    330\u001b[0m \u001b[38;5;66;03m# Drop any parameters with a deterministic prior, such as slope_m, which\u001b[39;00m\n\u001b[1;32m    331\u001b[0m \u001b[38;5;66;03m# will produce an NaN r-hat value.\u001b[39;00m\n\u001b[1;32m    332\u001b[0m rhat \u001b[38;5;241m=\u001b[39m rhat\u001b[38;5;241m.\u001b[39mdropna(subset\u001b[38;5;241m=\u001b[39m[c\u001b[38;5;241m.\u001b[39mRHAT])\n",
      "\u001b[0;31mMCMCSamplingError\u001b[0m: MCMC sampling failed with a maximum R-hat value of 2582931046400.0."
     ]
    }
   ],
   "source": [
    "# After model fitting\n",
    "\n",
    "# 1. Model diagnostics (correct API from docs)\n",
    "model_diagnostics = visualizer.ModelDiagnostics(mmm)\n",
    "model_diagnostics.plot_rhat_boxplot()  # Shows R-hat distribution\n",
    "model_diagnostics.plot_trace()  # Shows chain convergence\n",
    "\n",
    "# 2. Results summary (official method)\n",
    "summary = summarizer.Summarizer(mmm).create_summary()\n",
    "print(summarizer.Formatter().format_summary(summary))\n",
    "\n",
    "# 3. Media contributions (verified approach)\n",
    "visualizer.ChannelAttribution(mmm).plot_contribution_breakdown()\n",
    "\n",
    "# 4. Budget optimization (as shown in docs)\n",
    "optimizer = optimizer.BudgetOptimizer(mmm)\n",
    "optimization_result = optimizer.optimize()\n",
    "print(optimization_result.optimal_allocation)"
   ]
  },
  {
   "cell_type": "code",
   "execution_count": null,
   "metadata": {},
   "outputs": [],
   "source": []
  }
 ],
 "metadata": {
  "kernelspec": {
   "display_name": "pymmm_0_6_0",
   "language": "python",
   "name": "python3"
  },
  "language_info": {
   "codemirror_mode": {
    "name": "ipython",
    "version": 3
   },
   "file_extension": ".py",
   "mimetype": "text/x-python",
   "name": "python",
   "nbconvert_exporter": "python",
   "pygments_lexer": "ipython3",
   "version": "3.12.9"
  }
 },
 "nbformat": 4,
 "nbformat_minor": 2
}

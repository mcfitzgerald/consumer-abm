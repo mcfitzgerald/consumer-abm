{
 "cells": [
  {
   "cell_type": "markdown",
   "metadata": {},
   "source": [
    "# Spherical Consumers\n",
    "### Agent-Based Modeling of Retail Sales Data"
   ]
  },
  {
   "cell_type": "markdown",
   "metadata": {},
   "source": [
    "![\"Spherical Cow\" Credit: Nasa](image.png)"
   ]
  },
  {
   "cell_type": "markdown",
   "metadata": {},
   "source": [
    "**“All models are wrong, but some are useful.”**\n",
    "  \n",
    "— George E.P. Box\n",
    "  \n",
    "**“The map is not the territory.”**\n",
    "  \n",
    "— Alfred Korzybski\n",
    "\n",
    "\n",
    "**\"...bring hither quick a flagon of wine, that I may soak my brain and get an ingenious idea!\"**\n",
    "  \n",
    "— Aristophanes, *The Knights*"
   ]
  },
  {
   "cell_type": "markdown",
   "metadata": {},
   "source": [
    "### My motivation\n",
    "\n",
    "lorem"
   ]
  },
  {
   "cell_type": "markdown",
   "metadata": {},
   "source": [
    "### My Inspiration\n",
    "\n",
    "*\"Micromotives and Misbehavior\"* - Thomas Schelling\n",
    "\n",
    "*\"Understanding Complexity\"* - Scott Page"
   ]
  },
  {
   "cell_type": "markdown",
   "metadata": {},
   "source": []
  }
 ],
 "metadata": {
  "language_info": {
   "name": "python"
  }
 },
 "nbformat": 4,
 "nbformat_minor": 2
}

{
 "cells": [
  {
   "cell_type": "code",
   "execution_count": 1,
   "id": "6b8fb3c9",
   "metadata": {},
   "outputs": [],
   "source": [
    "import mesa\n",
    "import math\n",
    "import numpy as np\n",
    "import seaborn as sns\n",
    "import matplotlib.pyplot as plt\n",
    "import statsmodels.api as sm\n",
    "import statsmodels.formula.api as smf\n",
    "\n",
    "%matplotlib inline"
   ]
  },
  {
   "cell_type": "code",
   "execution_count": 12,
   "id": "3f430e11",
   "metadata": {},
   "outputs": [],
   "source": [
    "# Set plot aesthetics\n",
    "\n",
    "custom_settings = {\n",
    "    \"lines.linewidth\": 0.8,\n",
    "}\n",
    "\n",
    "sns.set_theme(style='ticks', palette=[\"black\"], rc=custom_settings)"
   ]
  },
  {
   "cell_type": "code",
   "execution_count": 18,
   "id": "328e0a68",
   "metadata": {},
   "outputs": [],
   "source": [
    "# /*** CONFIG SECTION ***/\n",
    "\n",
    "# Number of persons in household - approx percentage for 1,2...7 people in USA - from Statista\n",
    "houseshold_sizes = [1,2,3,4,5,6,7]\n",
    "houseshold_size_distribution = [0.28,0.36,0.15,0.12,0.06,0.02,0.01]\n",
    "\n",
    "# Consumption rate: number of steps per person neded to consume 1 product\n",
    "# E.g. a consumption rate of 3 means that a product is consumed by one person in 3 steps\n",
    "# Concretely, that could mean a tube of toothpaste takes 3 weeks to use per person\n",
    "# Consumption rates are defined statistically via absolute value of a normal distribution\n",
    "base_consumption_rate = 3\n",
    "\n",
    "# Pantry minimum percent (percent of household size)\n",
    "pantry_min_percent = 0.1 # when pantry drops below 20% of household size, consumer must buy to replenish\n",
    "\n",
    "# Base product price\n",
    "base_product_price = 5\n",
    "\n",
    "# Promo depths and frequencies\n",
    "promo_depths=[1, 0.75, 0.5]\n",
    "promo_frequencies=[0.5, 0.25, 0.25]\n",
    "\n",
    "\n",
    "# Buying behaviors\n",
    "# Just reference right now - not used in code yet, probably should make a dispatch table\n",
    "buying_behaviors = [\"buy_minimum\", \"buy_maximum\", \"buy_some_or_none\", \"buy_none\"]\n",
    "\n",
    "def get_pantry_max(household_size, pantry_min):\n",
    "    '''\n",
    "    Statistical assignment of maximum number of products a given household stocks\n",
    "    Pantry min must be set before calling (default behavior of agent class)\n",
    "    '''\n",
    "    pantry_max = math.ceil(np.random.normal(household_size,1))\n",
    "    if pantry_max < pantry_min:\n",
    "        pantry_max = math.ceil(pantry_min)\n",
    "    return pantry_max\n",
    "\n",
    "def get_current_price(base_price, promo_depths=promo_depths, promo_frequencies=promo_frequencies):\n",
    "    '''\n",
    "    base_price: unitless number (\"1\" could be 1 dollar, 1 euro, etc.) \n",
    "    promo_depths: list of percentage discounts to be take off base \n",
    "    promo_frequencies: list of probabilities reflecting percentage of occasions depth will be applied\n",
    "    \n",
    "    Example: get_current_price(4.99, promo_depths=[1, 0.75, 0.5], promo_frequencies=[0.5,0.25,0.25])\n",
    "    \n",
    "    Above example will return a price that is 4.99 50% of the time, 3.74 and 2.50 25% of the time\n",
    "    '''\n",
    "    \n",
    "    promo_depth = np.random.choice(promo_depths, p=promo_frequencies)\n",
    "    current_price = base_price * promo_depth\n",
    "    return current_price\n",
    "\n",
    "def compute_total_purchases(model):\n",
    "    '''Model-level KPI: sum of total purchases across agents each step'''\n",
    "    purchases = [agent.purchased_this_step for agent in model.schedule.agents]\n",
    "    return sum(purchases)\n",
    "\n",
    "def compute_average_price(model):\n",
    "    '''Model-level KPI: average product price each step'''\n",
    "    prices = [agent.current_price for agent in model.schedule.agents]\n",
    "    return np.mean(prices)\n",
    "\n",
    "class ConsumerAgent(mesa.Agent):\n",
    "    \"\"\"Consumer of products\"\"\"\n",
    "\n",
    "    def __init__(self, unique_id, model):\n",
    "        super().__init__(unique_id, model)\n",
    "        self.household_size = np.random.choice(houseshold_sizes, p=houseshold_size_distribution)\n",
    "        self.consumption_rate = abs(np.random.normal(base_consumption_rate,1)) # Applied at household level\n",
    "        self.pantry_min = (self.household_size * pantry_min_percent) # Forces must-buy when stock drops percentage of household size\n",
    "        self.pantry_max = get_pantry_max(self.household_size, self.pantry_min)\n",
    "        self.pantry_stock = self.pantry_max # Start with a fully stocked pantry\n",
    "        self.purchased_this_step = 0\n",
    "        self.current_price = base_product_price\n",
    "        self.last_product_price = base_product_price\n",
    "        self.purchase_behavior = \"buy_minimum\"\n",
    "        self.step_min = 0 # fewest number of products needed to bring stock above pantry minimum\n",
    "        self.step_max = 0 \n",
    "\n",
    "    def consume(self):\n",
    "        self.pantry_stock = (self.pantry_stock - (self.household_size/self.consumption_rate))\n",
    "        \n",
    "    # Need to define a parametric model for purchase behavior and price sensitivity\n",
    "    # Could pobably make this more readable in a dispatch table or other form\n",
    "    def set_purchase_behavior(self):\n",
    "        self.current_price = get_current_price(base_product_price)\n",
    "        # Must buy something to restock if at or below min pantry\n",
    "        if self.pantry_stock <= self.pantry_min:\n",
    "            if self.current_price >= base_product_price:\n",
    "                # Only buy min if at the bast product (e.g. ticket/msrp...) price\n",
    "                self.purchase_behavior = \"buy_minimum\"\n",
    "            elif self.current_price < self.last_product_price: # not great, should allow for more nuanced spending in this regime\n",
    "                # Cheaper than last time? Great! Fully restock pantry\n",
    "                self.purchase_behavior = \"buy_maximum\"\n",
    "            else:\n",
    "                # Not comparatively cheaper from last trip? Fine. Buy minimum and wait for next shopping trip.\n",
    "                self.purchase_behvaior = \"buy_minimum\" # redundant but specific for all cases\n",
    "        elif self.pantry_min < self.pantry_stock < self.pantry_max:\n",
    "            if self.current_price >= base_product_price:\n",
    "                # Not desperate (pantry not at min), roll the dice and maybe buy / mabye not\n",
    "                self.purchase_behavior = \"buy_some_or_none\"\n",
    "            elif self.current_price < self.last_product_price:\n",
    "                # Ooo! Sale! Max out the pantry, whatever that may be\n",
    "                self.purchase_behavior = \"buy_maximum\"\n",
    "            else:\n",
    "                # Not comparatively cheaper from last trip? Roll the dice and maybe buy / mabye not\n",
    "                self.purchase_behavior = \"buy_some_or_none\"\n",
    "        elif self.pantry_stock >= self.pantry_max:\n",
    "            # Pantry is full, can't buy\n",
    "            self.purchase_behavior = \"buy_none\"\n",
    "           \n",
    "    \n",
    "    def purchase(self):\n",
    "        self.purchased_this_step = 0 # Reset purchase count\n",
    "        # Determine purchase needed this step to maintain pantry_min or above\n",
    "        if self.pantry_stock <= self.pantry_min:\n",
    "            self.step_min = math.ceil(self.pantry_min - self.pantry_stock)\n",
    "        else:\n",
    "            self.step_min = 0\n",
    "        self.step_max = math.floor(self.pantry_max - self.pantry_stock) # set max possible purchase for step\n",
    "        if self.purchase_behavior == \"buy_minimum\":\n",
    "            self.purchased_this_step += self.step_min\n",
    "        elif self.purchase_behavior == \"buy_maximum\":\n",
    "            self.purchased_this_step += self.step_max\n",
    "        elif self.purchase_behavior == \"buy_some_or_none\": # include 0 as a possible purchase even if pantry not full\n",
    "            self.purchased_this_step += np.random.choice(list(range(0, (self.step_max + 1))))\n",
    "        elif self.purchase_behavior == \"buy_none\":\n",
    "            self.purchased_this_step += 0 # redundant but specific\n",
    "        self.pantry_stock += self.purchased_this_step\n",
    "                        \n",
    "    \n",
    "    def step(self):\n",
    "        self.last_product_price = self.current_price\n",
    "        self.consume()\n",
    "        self.set_purchase_behavior()\n",
    "        self.purchase()\n",
    "            \n",
    "class ConsumerModel(mesa.Model):\n",
    "    \"\"\"A model with some number of agents.\"\"\"\n",
    "\n",
    "    def __init__(self, N):\n",
    "        self.num_agents = N\n",
    "        self.schedule = mesa.time.RandomActivation(self)\n",
    "        \n",
    "        # Create agents\n",
    "        for i in range(self.num_agents):\n",
    "            a = ConsumerAgent(i, self)\n",
    "            self.schedule.add(a)\n",
    "        \n",
    "        self.datacollector = mesa.DataCollector(\n",
    "            model_reporters={\n",
    "                \"Total_Purchases\": compute_total_purchases,\n",
    "                \"Average_Product_Price\": compute_average_price\n",
    "            },\n",
    "            agent_reporters={\n",
    "                \"Household_Size\": \"household_size\",\n",
    "                \"Purchased_This_Step\": \"purchased_this_step\",\n",
    "                \"Pantry_Stock\": \"pantry_stock\",\n",
    "                \"Pantry_Max\": \"pantry_max\",\n",
    "                \"Pantry_Min\": \"pantry_min\",\n",
    "                \"Purchase_Behavior\": \"purchase_behavior\",\n",
    "                \"Minimum_Purchase_Needed\": \"step_min\",\n",
    "                \"Current_Product_Price\": \"current_price\",\n",
    "                \"Last_Product_Price\": \"last_product_price\"\n",
    "                \n",
    "            }\n",
    "        )\n",
    "\n",
    "    def step(self):\n",
    "        self.datacollector.collect(self)\n",
    "        \"\"\"Advance the model by one step and collect data\"\"\"\n",
    "        self.schedule.step()"
   ]
  },
  {
   "cell_type": "code",
   "execution_count": 19,
   "id": "5216f9df",
   "metadata": {},
   "outputs": [],
   "source": [
    "model = ConsumerModel(1000)\n",
    "\n",
    "for i in range(100):\n",
    "    model.step()"
   ]
  },
  {
   "cell_type": "code",
   "execution_count": 20,
   "id": "0abb8e64",
   "metadata": {},
   "outputs": [],
   "source": [
    "model_summary_df = model.datacollector.get_model_vars_dataframe()"
   ]
  },
  {
   "cell_type": "code",
   "execution_count": 21,
   "id": "7087c59d",
   "metadata": {},
   "outputs": [
    {
     "data": {
      "text/html": [
       "<div>\n",
       "<style scoped>\n",
       "    .dataframe tbody tr th:only-of-type {\n",
       "        vertical-align: middle;\n",
       "    }\n",
       "\n",
       "    .dataframe tbody tr th {\n",
       "        vertical-align: top;\n",
       "    }\n",
       "\n",
       "    .dataframe thead th {\n",
       "        text-align: right;\n",
       "    }\n",
       "</style>\n",
       "<table border=\"1\" class=\"dataframe\">\n",
       "  <thead>\n",
       "    <tr style=\"text-align: right;\">\n",
       "      <th></th>\n",
       "      <th>Total_Purchases</th>\n",
       "      <th>Average_Product_Price</th>\n",
       "    </tr>\n",
       "  </thead>\n",
       "  <tbody>\n",
       "    <tr>\n",
       "      <th>0</th>\n",
       "      <td>0</td>\n",
       "      <td>5.00000</td>\n",
       "    </tr>\n",
       "    <tr>\n",
       "      <th>1</th>\n",
       "      <td>717</td>\n",
       "      <td>4.13250</td>\n",
       "    </tr>\n",
       "    <tr>\n",
       "      <th>2</th>\n",
       "      <td>1112</td>\n",
       "      <td>4.04750</td>\n",
       "    </tr>\n",
       "    <tr>\n",
       "      <th>3</th>\n",
       "      <td>1239</td>\n",
       "      <td>4.12875</td>\n",
       "    </tr>\n",
       "    <tr>\n",
       "      <th>4</th>\n",
       "      <td>1318</td>\n",
       "      <td>4.06375</td>\n",
       "    </tr>\n",
       "    <tr>\n",
       "      <th>...</th>\n",
       "      <td>...</td>\n",
       "      <td>...</td>\n",
       "    </tr>\n",
       "    <tr>\n",
       "      <th>95</th>\n",
       "      <td>1305</td>\n",
       "      <td>3.99250</td>\n",
       "    </tr>\n",
       "    <tr>\n",
       "      <th>96</th>\n",
       "      <td>1312</td>\n",
       "      <td>4.06250</td>\n",
       "    </tr>\n",
       "    <tr>\n",
       "      <th>97</th>\n",
       "      <td>1296</td>\n",
       "      <td>4.09375</td>\n",
       "    </tr>\n",
       "    <tr>\n",
       "      <th>98</th>\n",
       "      <td>1292</td>\n",
       "      <td>4.06000</td>\n",
       "    </tr>\n",
       "    <tr>\n",
       "      <th>99</th>\n",
       "      <td>1305</td>\n",
       "      <td>4.07250</td>\n",
       "    </tr>\n",
       "  </tbody>\n",
       "</table>\n",
       "<p>100 rows × 2 columns</p>\n",
       "</div>"
      ],
      "text/plain": [
       "    Total_Purchases  Average_Product_Price\n",
       "0                 0                5.00000\n",
       "1               717                4.13250\n",
       "2              1112                4.04750\n",
       "3              1239                4.12875\n",
       "4              1318                4.06375\n",
       "..              ...                    ...\n",
       "95             1305                3.99250\n",
       "96             1312                4.06250\n",
       "97             1296                4.09375\n",
       "98             1292                4.06000\n",
       "99             1305                4.07250\n",
       "\n",
       "[100 rows x 2 columns]"
      ]
     },
     "execution_count": 21,
     "metadata": {},
     "output_type": "execute_result"
    }
   ],
   "source": [
    "model_summary_df"
   ]
  },
  {
   "cell_type": "code",
   "execution_count": 22,
   "id": "c09fe666",
   "metadata": {},
   "outputs": [],
   "source": [
    "agent_summary_df = model.datacollector.get_agent_vars_dataframe()"
   ]
  },
  {
   "cell_type": "code",
   "execution_count": 28,
   "id": "198fa4b6",
   "metadata": {
    "scrolled": true
   },
   "outputs": [
    {
     "data": {
      "text/html": [
       "<div>\n",
       "<style scoped>\n",
       "    .dataframe tbody tr th:only-of-type {\n",
       "        vertical-align: middle;\n",
       "    }\n",
       "\n",
       "    .dataframe tbody tr th {\n",
       "        vertical-align: top;\n",
       "    }\n",
       "\n",
       "    .dataframe thead th {\n",
       "        text-align: right;\n",
       "    }\n",
       "</style>\n",
       "<table border=\"1\" class=\"dataframe\">\n",
       "  <thead>\n",
       "    <tr style=\"text-align: right;\">\n",
       "      <th></th>\n",
       "      <th></th>\n",
       "      <th>Household_Size</th>\n",
       "      <th>Purchased_This_Step</th>\n",
       "      <th>Pantry_Stock</th>\n",
       "      <th>Pantry_Max</th>\n",
       "      <th>Pantry_Min</th>\n",
       "      <th>Purchase_Behavior</th>\n",
       "      <th>Minimum_Purchase_Needed</th>\n",
       "      <th>Current_Product_Price</th>\n",
       "      <th>Last_Product_Price</th>\n",
       "    </tr>\n",
       "    <tr>\n",
       "      <th>Step</th>\n",
       "      <th>AgentID</th>\n",
       "      <th></th>\n",
       "      <th></th>\n",
       "      <th></th>\n",
       "      <th></th>\n",
       "      <th></th>\n",
       "      <th></th>\n",
       "      <th></th>\n",
       "      <th></th>\n",
       "      <th></th>\n",
       "    </tr>\n",
       "  </thead>\n",
       "  <tbody>\n",
       "    <tr>\n",
       "      <th rowspan=\"5\" valign=\"top\">0</th>\n",
       "      <th>0</th>\n",
       "      <td>1</td>\n",
       "      <td>0</td>\n",
       "      <td>2.000000</td>\n",
       "      <td>2</td>\n",
       "      <td>0.1</td>\n",
       "      <td>buy_minimum</td>\n",
       "      <td>0</td>\n",
       "      <td>5.00</td>\n",
       "      <td>5.00</td>\n",
       "    </tr>\n",
       "    <tr>\n",
       "      <th>1</th>\n",
       "      <td>1</td>\n",
       "      <td>0</td>\n",
       "      <td>1.000000</td>\n",
       "      <td>1</td>\n",
       "      <td>0.1</td>\n",
       "      <td>buy_minimum</td>\n",
       "      <td>0</td>\n",
       "      <td>5.00</td>\n",
       "      <td>5.00</td>\n",
       "    </tr>\n",
       "    <tr>\n",
       "      <th>2</th>\n",
       "      <td>2</td>\n",
       "      <td>0</td>\n",
       "      <td>2.000000</td>\n",
       "      <td>2</td>\n",
       "      <td>0.2</td>\n",
       "      <td>buy_minimum</td>\n",
       "      <td>0</td>\n",
       "      <td>5.00</td>\n",
       "      <td>5.00</td>\n",
       "    </tr>\n",
       "    <tr>\n",
       "      <th>3</th>\n",
       "      <td>3</td>\n",
       "      <td>0</td>\n",
       "      <td>3.000000</td>\n",
       "      <td>3</td>\n",
       "      <td>0.3</td>\n",
       "      <td>buy_minimum</td>\n",
       "      <td>0</td>\n",
       "      <td>5.00</td>\n",
       "      <td>5.00</td>\n",
       "    </tr>\n",
       "    <tr>\n",
       "      <th>4</th>\n",
       "      <td>2</td>\n",
       "      <td>0</td>\n",
       "      <td>3.000000</td>\n",
       "      <td>3</td>\n",
       "      <td>0.2</td>\n",
       "      <td>buy_minimum</td>\n",
       "      <td>0</td>\n",
       "      <td>5.00</td>\n",
       "      <td>5.00</td>\n",
       "    </tr>\n",
       "    <tr>\n",
       "      <th>...</th>\n",
       "      <th>...</th>\n",
       "      <td>...</td>\n",
       "      <td>...</td>\n",
       "      <td>...</td>\n",
       "      <td>...</td>\n",
       "      <td>...</td>\n",
       "      <td>...</td>\n",
       "      <td>...</td>\n",
       "      <td>...</td>\n",
       "      <td>...</td>\n",
       "    </tr>\n",
       "    <tr>\n",
       "      <th rowspan=\"5\" valign=\"top\">99</th>\n",
       "      <th>995</th>\n",
       "      <td>3</td>\n",
       "      <td>0</td>\n",
       "      <td>2.152056</td>\n",
       "      <td>4</td>\n",
       "      <td>0.3</td>\n",
       "      <td>buy_some_or_none</td>\n",
       "      <td>0</td>\n",
       "      <td>5.00</td>\n",
       "      <td>5.00</td>\n",
       "    </tr>\n",
       "    <tr>\n",
       "      <th>996</th>\n",
       "      <td>1</td>\n",
       "      <td>1</td>\n",
       "      <td>2.858677</td>\n",
       "      <td>3</td>\n",
       "      <td>0.1</td>\n",
       "      <td>buy_some_or_none</td>\n",
       "      <td>0</td>\n",
       "      <td>5.00</td>\n",
       "      <td>5.00</td>\n",
       "    </tr>\n",
       "    <tr>\n",
       "      <th>997</th>\n",
       "      <td>2</td>\n",
       "      <td>1</td>\n",
       "      <td>0.481485</td>\n",
       "      <td>1</td>\n",
       "      <td>0.2</td>\n",
       "      <td>buy_minimum</td>\n",
       "      <td>1</td>\n",
       "      <td>5.00</td>\n",
       "      <td>2.50</td>\n",
       "    </tr>\n",
       "    <tr>\n",
       "      <th>998</th>\n",
       "      <td>1</td>\n",
       "      <td>0</td>\n",
       "      <td>0.705481</td>\n",
       "      <td>1</td>\n",
       "      <td>0.1</td>\n",
       "      <td>buy_maximum</td>\n",
       "      <td>0</td>\n",
       "      <td>3.75</td>\n",
       "      <td>5.00</td>\n",
       "    </tr>\n",
       "    <tr>\n",
       "      <th>999</th>\n",
       "      <td>2</td>\n",
       "      <td>1</td>\n",
       "      <td>1.935158</td>\n",
       "      <td>2</td>\n",
       "      <td>0.2</td>\n",
       "      <td>buy_some_or_none</td>\n",
       "      <td>0</td>\n",
       "      <td>3.75</td>\n",
       "      <td>3.75</td>\n",
       "    </tr>\n",
       "  </tbody>\n",
       "</table>\n",
       "<p>100000 rows × 9 columns</p>\n",
       "</div>"
      ],
      "text/plain": [
       "              Household_Size  Purchased_This_Step  Pantry_Stock  Pantry_Max  \\\n",
       "Step AgentID                                                                  \n",
       "0    0                     1                    0      2.000000           2   \n",
       "     1                     1                    0      1.000000           1   \n",
       "     2                     2                    0      2.000000           2   \n",
       "     3                     3                    0      3.000000           3   \n",
       "     4                     2                    0      3.000000           3   \n",
       "...                      ...                  ...           ...         ...   \n",
       "99   995                   3                    0      2.152056           4   \n",
       "     996                   1                    1      2.858677           3   \n",
       "     997                   2                    1      0.481485           1   \n",
       "     998                   1                    0      0.705481           1   \n",
       "     999                   2                    1      1.935158           2   \n",
       "\n",
       "              Pantry_Min Purchase_Behavior  Minimum_Purchase_Needed  \\\n",
       "Step AgentID                                                          \n",
       "0    0               0.1       buy_minimum                        0   \n",
       "     1               0.1       buy_minimum                        0   \n",
       "     2               0.2       buy_minimum                        0   \n",
       "     3               0.3       buy_minimum                        0   \n",
       "     4               0.2       buy_minimum                        0   \n",
       "...                  ...               ...                      ...   \n",
       "99   995             0.3  buy_some_or_none                        0   \n",
       "     996             0.1  buy_some_or_none                        0   \n",
       "     997             0.2       buy_minimum                        1   \n",
       "     998             0.1       buy_maximum                        0   \n",
       "     999             0.2  buy_some_or_none                        0   \n",
       "\n",
       "              Current_Product_Price  Last_Product_Price  \n",
       "Step AgentID                                             \n",
       "0    0                         5.00                5.00  \n",
       "     1                         5.00                5.00  \n",
       "     2                         5.00                5.00  \n",
       "     3                         5.00                5.00  \n",
       "     4                         5.00                5.00  \n",
       "...                             ...                 ...  \n",
       "99   995                       5.00                5.00  \n",
       "     996                       5.00                5.00  \n",
       "     997                       5.00                2.50  \n",
       "     998                       3.75                5.00  \n",
       "     999                       3.75                3.75  \n",
       "\n",
       "[100000 rows x 9 columns]"
      ]
     },
     "execution_count": 28,
     "metadata": {},
     "output_type": "execute_result"
    }
   ],
   "source": [
    "agent_summary_df"
   ]
  },
  {
   "cell_type": "code",
   "execution_count": 24,
   "id": "914edcce",
   "metadata": {},
   "outputs": [],
   "source": [
    "agent_4 = agent_summary_df.xs(4,level=\"AgentID\")"
   ]
  },
  {
   "cell_type": "code",
   "execution_count": 36,
   "id": "20332f4e",
   "metadata": {},
   "outputs": [
    {
     "data": {
      "text/plain": [
       "<Axes: xlabel='Average_Product_Price', ylabel='Total_Purchases'>"
      ]
     },
     "execution_count": 36,
     "metadata": {},
     "output_type": "execute_result"
    },
    {
     "data": {
      "image/png": "[encoded data removed]",
      "text/plain": [
       "<Figure size 640x480 with 1 Axes>"
      ]
     },
     "metadata": {},
     "output_type": "display_data"
    }
   ],
   "source": [
    "sns.scatterplot(data=model_summary_df[10:],x=\"Average_Product_Price\", y=\"Total_Purchases\", marker=\"o\", facecolor=\"none\", edgecolor=\"black\")"
   ]
  },
  {
   "cell_type": "code",
   "execution_count": 49,
   "id": "1a7997bd",
   "metadata": {},
   "outputs": [
    {
     "data": {
      "text/plain": [
       "<Axes: xlabel='Current_Product_Price', ylabel='Purchased_This_Step'>"
      ]
     },
     "execution_count": 49,
     "metadata": {},
     "output_type": "execute_result"
    },
    {
     "data": {
      "image/png": "[encoded data removed]",
      "text/plain": [
       "<Figure size 640x480 with 1 Axes>"
      ]
     },
     "metadata": {},
     "output_type": "display_data"
    }
   ],
   "source": [
    "sns.stripplot(data=agent_4,x='Current_Product_Price',y='Purchased_This_Step', color=\"none\", edgecolor=\"black\", linewidth=0.8)"
   ]
  },
  {
   "cell_type": "code",
   "execution_count": 95,
   "id": "e07de547",
   "metadata": {},
   "outputs": [],
   "source": [
    "mod = smf.ols(formula='Total_Purchases ~ Average_Product_Price', data=model_summary_df[10:])"
   ]
  },
  {
   "cell_type": "code",
   "execution_count": 96,
   "id": "a6f59a73",
   "metadata": {},
   "outputs": [],
   "source": [
    "res = mod.fit()"
   ]
  },
  {
   "cell_type": "code",
   "execution_count": 97,
   "id": "6862f81f",
   "metadata": {},
   "outputs": [
    {
     "name": "stdout",
     "output_type": "stream",
     "text": [
      "                            OLS Regression Results                            \n",
      "==============================================================================\n",
      "Dep. Variable:        Total_Purchases   R-squared:                       0.117\n",
      "Model:                            OLS   Adj. R-squared:                  0.107\n",
      "Method:                 Least Squares   F-statistic:                     11.61\n",
      "Date:                Mon, 13 Mar 2023   Prob (F-statistic):           0.000991\n",
      "Time:                        16:27:04   Log-Likelihood:                -418.75\n",
      "No. Observations:                  90   AIC:                             841.5\n",
      "Df Residuals:                      88   BIC:                             846.5\n",
      "Df Model:                           1                                         \n",
      "Covariance Type:            nonrobust                                         \n",
      "=========================================================================================\n",
      "                            coef    std err          t      P>|t|      [0.025      0.975]\n",
      "-----------------------------------------------------------------------------------------\n",
      "Intercept              2499.3395    350.313      7.135      0.000    1803.165    3195.514\n",
      "Average_Product_Price  -293.8681     86.248     -3.407      0.001    -465.269    -122.467\n",
      "==============================================================================\n",
      "Omnibus:                        0.463   Durbin-Watson:                   2.336\n",
      "Prob(Omnibus):                  0.793   Jarque-Bera (JB):                0.604\n",
      "Skew:                          -0.020   Prob(JB):                        0.739\n",
      "Kurtosis:                       2.601   Cond. No.                         558.\n",
      "==============================================================================\n",
      "\n",
      "Notes:\n",
      "[1] Standard Errors assume that the covariance matrix of the errors is correctly specified.\n"
     ]
    }
   ],
   "source": [
    "print(res.summary())"
   ]
  },
  {
   "cell_type": "code",
   "execution_count": 98,
   "id": "fdec3107",
   "metadata": {},
   "outputs": [],
   "source": [
    "consumer_mod = smf.ols(formula='Purchased_This_Step ~ Current_Product_Price', data=agent_summary_df.xs(4,level=\"AgentID\")[10:])"
   ]
  },
  {
   "cell_type": "code",
   "execution_count": 101,
   "id": "4e3009c8",
   "metadata": {},
   "outputs": [],
   "source": [
    "consumer_res = consumer_mod.fit()"
   ]
  },
  {
   "cell_type": "code",
   "execution_count": 102,
   "id": "ea864d33",
   "metadata": {},
   "outputs": [
    {
     "name": "stdout",
     "output_type": "stream",
     "text": [
      "                             OLS Regression Results                            \n",
      "===============================================================================\n",
      "Dep. Variable:     Purchased_This_Step   R-squared:                       0.014\n",
      "Model:                             OLS   Adj. R-squared:                  0.002\n",
      "Method:                  Least Squares   F-statistic:                     1.221\n",
      "Date:                 Mon, 13 Mar 2023   Prob (F-statistic):              0.272\n",
      "Time:                         16:28:40   Log-Likelihood:                -104.91\n",
      "No. Observations:                   90   AIC:                             213.8\n",
      "Df Residuals:                       88   BIC:                             218.8\n",
      "Df Model:                            1                                         \n",
      "Covariance Type:             nonrobust                                         \n",
      "=========================================================================================\n",
      "                            coef    std err          t      P>|t|      [0.025      0.975]\n",
      "-----------------------------------------------------------------------------------------\n",
      "Intercept                 1.1558      0.342      3.377      0.001       0.476       1.836\n",
      "Current_Product_Price    -0.0895      0.081     -1.105      0.272      -0.251       0.072\n",
      "==============================================================================\n",
      "Omnibus:                        6.066   Durbin-Watson:                   2.516\n",
      "Prob(Omnibus):                  0.048   Jarque-Bera (JB):                6.215\n",
      "Skew:                           0.619   Prob(JB):                       0.0447\n",
      "Kurtosis:                       2.645   Cond. No.                         18.4\n",
      "==============================================================================\n",
      "\n",
      "Notes:\n",
      "[1] Standard Errors assume that the covariance matrix of the errors is correctly specified.\n"
     ]
    }
   ],
   "source": [
    "print(consumer_res.summary())"
   ]
  },
  {
   "cell_type": "code",
   "execution_count": 69,
   "id": "f0b2a32a",
   "metadata": {},
   "outputs": [
    {
     "data": {
      "text/plain": [
       "array([1310.27559253, 1309.90825738, 1300.35754367, 1316.15295481,\n",
       "       1305.13290053, 1298.8882031 , 1300.72487881, 1301.4595491 ,\n",
       "       1290.80682995, 1305.50023567, 1317.62229538, 1305.13290053,\n",
       "       1305.86757081, 1298.15353281, 1308.43891681, 1311.01026281,\n",
       "       1314.68361424, 1305.13290053, 1305.50023567, 1313.58160881,\n",
       "       1304.76556538, 1304.39823024, 1311.01026281, 1304.0308951 ,\n",
       "       1300.72487881, 1284.92946767, 1292.64350567, 1287.50081367,\n",
       "       1302.56155453, 1318.72430081, 1324.96899824, 1293.37817595,\n",
       "       1310.64292767, 1314.68361424, 1307.70424653, 1320.92831167,\n",
       "       1321.29564681, 1294.84751653, 1308.43891681, 1304.76556538,\n",
       "       1308.07158167, 1309.54092224, 1316.52028996, 1310.27559253,\n",
       "       1324.23432796, 1286.39880824, 1305.13290053, 1318.72430081,\n",
       "       1308.07158167, 1295.58218681, 1304.0308951 , 1306.96957624,\n",
       "       1301.09221396, 1311.01026281, 1316.52028996, 1291.54150024,\n",
       "       1326.43833881, 1304.39823024, 1305.13290053, 1307.33691138,\n",
       "       1317.25496024, 1317.62229538, 1315.78561967, 1311.37759796,\n",
       "       1303.66355996, 1299.25553824, 1315.41828453, 1291.90883538,\n",
       "       1294.84751653, 1293.01084081, 1295.21485167, 1299.62287338,\n",
       "       1313.94894396, 1292.27617053, 1298.52086796, 1303.66355996,\n",
       "       1288.97015424, 1299.62287338, 1301.4595491 , 1305.13290053,\n",
       "       1307.33691138, 1300.72487881, 1313.94894396, 1304.76556538,\n",
       "       1303.66355996, 1326.07100367, 1305.50023567, 1296.3168571 ,\n",
       "       1306.23490596, 1302.56155453])"
      ]
     },
     "execution_count": 69,
     "metadata": {},
     "output_type": "execute_result"
    }
   ],
   "source": [
    "res.predict()"
   ]
  },
  {
   "cell_type": "code",
   "execution_count": 83,
   "id": "21ab5929",
   "metadata": {},
   "outputs": [],
   "source": [
    "pred_ols = res.get_prediction()\n",
    "iv_l = pred_ols.summary_frame()[\"obs_ci_lower\"]\n",
    "iv_u = pred_ols.summary_frame()[\"obs_ci_upper\"]"
   ]
  },
  {
   "cell_type": "code",
   "execution_count": 93,
   "id": "d08af4a6",
   "metadata": {},
   "outputs": [
    {
     "data": {
      "text/plain": [
       "[<matplotlib.lines.Line2D at 0x126c06c80>]"
      ]
     },
     "execution_count": 93,
     "metadata": {},
     "output_type": "execute_result"
    },
    {
     "data": {
      "image/png": "[encoded data removed]",
      "text/plain": [
       "<Figure size 800x600 with 1 Axes>"
      ]
     },
     "metadata": {},
     "output_type": "display_data"
    }
   ],
   "source": [
    "fig, ax = plt.subplots(figsize=(8, 6))\n",
    "ax.plot(dat['Average_Product_Price'], res.fittedvalues)\n",
    "ax.plot(dat['Average_Product_Price'], iv_u, 'r-')\n",
    "ax.plot(dat['Average_Product_Price'], iv_l, \"r-\")\n",
    "ax.plot(dat['Average_Product_Price'], dat['Total_Purchases'],'o')"
   ]
  },
  {
   "cell_type": "code",
   "execution_count": 79,
   "id": "bc147070",
   "metadata": {},
   "outputs": [
    {
     "name": "stderr",
     "output_type": "stream",
     "text": [
      "/var/folders/vf/m4p5jj9s07x4v_df3mgg2fv40000gn/T/ipykernel_4287/4199988009.py:2: UserWarning: Matplotlib is currently using module://matplotlib_inline.backend_inline, which is a non-GUI backend, so cannot show the figure.\n",
      "  fig.show()\n"
     ]
    }
   ],
   "source": [
    "ax.plot(dat['Average_Product_Price'], res.predict())\n"
   ]
  },
  {
   "cell_type": "code",
   "execution_count": 21,
   "id": "086d6a12",
   "metadata": {},
   "outputs": [],
   "source": [
    "agent_dat = model.datacollector.get_agent_vars_dataframe()"
   ]
  },
  {
   "cell_type": "code",
   "execution_count": 22,
   "id": "bb6f3bb0",
   "metadata": {},
   "outputs": [
    {
     "data": {
      "text/html": [
       "<div>\n",
       "<style scoped>\n",
       "    .dataframe tbody tr th:only-of-type {\n",
       "        vertical-align: middle;\n",
       "    }\n",
       "\n",
       "    .dataframe tbody tr th {\n",
       "        vertical-align: top;\n",
       "    }\n",
       "\n",
       "    .dataframe thead th {\n",
       "        text-align: right;\n",
       "    }\n",
       "</style>\n",
       "<table border=\"1\" class=\"dataframe\">\n",
       "  <thead>\n",
       "    <tr style=\"text-align: right;\">\n",
       "      <th></th>\n",
       "      <th></th>\n",
       "      <th>Household_Size</th>\n",
       "      <th>Purchased_This_Step</th>\n",
       "      <th>Pantry_Stock</th>\n",
       "      <th>Pantry_Max</th>\n",
       "      <th>Pantry_Min</th>\n",
       "      <th>Purchase_Behavior</th>\n",
       "      <th>Minimum_Purchase_Needed</th>\n",
       "      <th>Current_Product_Price</th>\n",
       "      <th>Last_Produce_Price</th>\n",
       "    </tr>\n",
       "    <tr>\n",
       "      <th>Step</th>\n",
       "      <th>AgentID</th>\n",
       "      <th></th>\n",
       "      <th></th>\n",
       "      <th></th>\n",
       "      <th></th>\n",
       "      <th></th>\n",
       "      <th></th>\n",
       "      <th></th>\n",
       "      <th></th>\n",
       "      <th></th>\n",
       "    </tr>\n",
       "  </thead>\n",
       "  <tbody>\n",
       "    <tr>\n",
       "      <th rowspan=\"5\" valign=\"top\">0</th>\n",
       "      <th>0</th>\n",
       "      <td>1</td>\n",
       "      <td>0</td>\n",
       "      <td>2.0</td>\n",
       "      <td>2</td>\n",
       "      <td>1</td>\n",
       "      <td>buy_minimum</td>\n",
       "      <td>0</td>\n",
       "      <td>2.50</td>\n",
       "      <td>5.00</td>\n",
       "    </tr>\n",
       "    <tr>\n",
       "      <th>1</th>\n",
       "      <td>1</td>\n",
       "      <td>0</td>\n",
       "      <td>2.0</td>\n",
       "      <td>2</td>\n",
       "      <td>1</td>\n",
       "      <td>buy_minimum</td>\n",
       "      <td>0</td>\n",
       "      <td>3.75</td>\n",
       "      <td>3.75</td>\n",
       "    </tr>\n",
       "    <tr>\n",
       "      <th>2</th>\n",
       "      <td>1</td>\n",
       "      <td>0</td>\n",
       "      <td>1.0</td>\n",
       "      <td>1</td>\n",
       "      <td>1</td>\n",
       "      <td>buy_minimum</td>\n",
       "      <td>0</td>\n",
       "      <td>2.50</td>\n",
       "      <td>5.00</td>\n",
       "    </tr>\n",
       "    <tr>\n",
       "      <th>3</th>\n",
       "      <td>1</td>\n",
       "      <td>0</td>\n",
       "      <td>2.0</td>\n",
       "      <td>2</td>\n",
       "      <td>1</td>\n",
       "      <td>buy_minimum</td>\n",
       "      <td>0</td>\n",
       "      <td>2.50</td>\n",
       "      <td>5.00</td>\n",
       "    </tr>\n",
       "    <tr>\n",
       "      <th>4</th>\n",
       "      <td>1</td>\n",
       "      <td>0</td>\n",
       "      <td>2.0</td>\n",
       "      <td>2</td>\n",
       "      <td>1</td>\n",
       "      <td>buy_minimum</td>\n",
       "      <td>0</td>\n",
       "      <td>5.00</td>\n",
       "      <td>5.00</td>\n",
       "    </tr>\n",
       "  </tbody>\n",
       "</table>\n",
       "</div>"
      ],
      "text/plain": [
       "              Household_Size  Purchased_This_Step  Pantry_Stock  Pantry_Max  \\\n",
       "Step AgentID                                                                  \n",
       "0    0                     1                    0           2.0           2   \n",
       "     1                     1                    0           2.0           2   \n",
       "     2                     1                    0           1.0           1   \n",
       "     3                     1                    0           2.0           2   \n",
       "     4                     1                    0           2.0           2   \n",
       "\n",
       "              Pantry_Min Purchase_Behavior  Minimum_Purchase_Needed  \\\n",
       "Step AgentID                                                          \n",
       "0    0                 1       buy_minimum                        0   \n",
       "     1                 1       buy_minimum                        0   \n",
       "     2                 1       buy_minimum                        0   \n",
       "     3                 1       buy_minimum                        0   \n",
       "     4                 1       buy_minimum                        0   \n",
       "\n",
       "              Current_Product_Price  Last_Produce_Price  \n",
       "Step AgentID                                             \n",
       "0    0                         2.50                5.00  \n",
       "     1                         3.75                3.75  \n",
       "     2                         2.50                5.00  \n",
       "     3                         2.50                5.00  \n",
       "     4                         5.00                5.00  "
      ]
     },
     "execution_count": 22,
     "metadata": {},
     "output_type": "execute_result"
    }
   ],
   "source": [
    "agent_dat.head()"
   ]
  },
  {
   "cell_type": "code",
   "execution_count": 23,
   "id": "3c7f4588",
   "metadata": {},
   "outputs": [],
   "source": [
    "total_purchases = model.datacollector.get_model_vars_dataframe()['Total_Purchases']\n",
    "step_index = np.array((range(len(total_purchases))))"
   ]
  },
  {
   "cell_type": "code",
   "execution_count": 24,
   "id": "fb0d2b4f",
   "metadata": {},
   "outputs": [],
   "source": [
    "total_purchases_FFT = fft(total_purchases)"
   ]
  },
  {
   "cell_type": "code",
   "execution_count": 25,
   "id": "b78b237c",
   "metadata": {},
   "outputs": [],
   "source": [
    "N = len(total_purchases)"
   ]
  },
  {
   "cell_type": "code",
   "execution_count": 26,
   "id": "5aec67f0",
   "metadata": {},
   "outputs": [
    {
     "data": {
      "text/plain": [
       "Text(0.5, 0, 'Consumption Rates (steps per product)')"
      ]
     },
     "execution_count": 26,
     "metadata": {},
     "output_type": "execute_result"
    },
    {
     "data": {
      "image/png": "[encoded data removed]",
      "text/plain": [
       "<Figure size 640x480 with 2 Axes>"
      ]
     },
     "metadata": {},
     "output_type": "display_data"
    }
   ],
   "source": [
    "fig = plt.figure()\n",
    "ax1 = fig.add_subplot(111)\n",
    "ax2 = ax1.twiny()\n",
    "\n",
    "ax1.plot(step_index[:N//2][1:],np.abs(total_purchases_FFT[:N//2][1:]))\n",
    "ax1.set_xlabel(r\"Number of Steps\")\n",
    "ax1.set_ylabel(r\"FFT of Total Purchases\")\n",
    "\n",
    "new_tick_locations = [300/5,300/4,300/3]\n",
    "ax2.set_xlim(ax1.get_xlim())\n",
    "ax2.set_xticks(new_tick_locations)\n",
    "ax2.set_xticklabels([5,4,3])\n",
    "ax2.set_xlabel(r\"Consumption Rates (steps per product)\")\n"
   ]
  },
  {
   "cell_type": "code",
   "execution_count": 103,
   "id": "aec8c07f",
   "metadata": {},
   "outputs": [],
   "source": [
    "model_summary_df.to_csv(\"model_summary.csv\")"
   ]
  },
  {
   "cell_type": "code",
   "execution_count": 104,
   "id": "37bde8ad",
   "metadata": {},
   "outputs": [],
   "source": [
    "agent_summary_df.to_pickle(\"agent_summary.pkl\")"
   ]
  },
  {
   "cell_type": "code",
   "execution_count": null,
   "id": "77a1bf9b",
   "metadata": {},
   "outputs": [],
   "source": []
  }
 ],
 "metadata": {
  "kernelspec": {
   "display_name": "Python 3 (ipykernel)",
   "language": "python",
   "name": "python3"
  },
  "language_info": {
   "codemirror_mode": {
    "name": "ipython",
    "version": 3
   },
   "file_extension": ".py",
   "mimetype": "text/x-python",
   "name": "python",
   "nbconvert_exporter": "python",
   "pygments_lexer": "ipython3",
   "version": "3.10.10"
  }
 },
 "nbformat": 4,
 "nbformat_minor": 5
}

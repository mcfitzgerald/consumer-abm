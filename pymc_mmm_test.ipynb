{
 "cells": [
  {
   "cell_type": "code",
   "execution_count": null,
   "metadata": {},
   "outputs": [],
   "source": [
    "import pandas as pd\n",
    "import pymc_marketing as pmm\n",
    "import matplotlib as mpl\n",
    "import matplotlib.pyplot as plt\n",
    "from cabm import post_processing as ppr"
   ]
  },
  {
   "cell_type": "code",
   "execution_count": null,
   "metadata": {},
   "outputs": [],
   "source": [
    "# Figure setup\n",
    "# Set the font to Courier\n",
    "mpl.rcParams['font.family'] = 'Courier'\n",
    "\n",
    "# Set the line weight to thin\n",
    "mpl.rcParams['lines.linewidth'] = 0.75\n",
    "\n",
    "# Set the color scheme to black and white\n",
    "mpl.rcParams['text.color'] = 'black'\n",
    "mpl.rcParams['axes.labelcolor'] = 'black'\n",
    "mpl.rcParams['xtick.color'] = 'black'\n",
    "mpl.rcParams['ytick.color'] = 'black'\n",
    "mpl.rcParams['axes.edgecolor'] = 'black'"
   ]
  },
  {
   "cell_type": "code",
   "execution_count": null,
   "metadata": {},
   "outputs": [],
   "source": [
    "agent_df = pd.read_pickle('agent_output_A_ADS_INCR.pkl')"
   ]
  },
  {
   "cell_type": "code",
   "execution_count": null,
   "metadata": {},
   "outputs": [],
   "source": [
    "agent_df = ppr.add_date_column(agent_df)"
   ]
  },
  {
   "cell_type": "code",
   "execution_count": null,
   "metadata": {},
   "outputs": [],
   "source": [
    "data_A = ppr.calculate_total_purchases(agent_df, ['price_A','tv_A','web_A', 'price_B', 'tv_B', 'web_B'])\n"
   ]
  },
  {
   "cell_type": "markdown",
   "metadata": {},
   "source": []
  },
  {
   "cell_type": "code",
   "execution_count": null,
   "metadata": {},
   "outputs": [],
   "source": [
    "data_A = ppr.add_total_sales_columns(data_A)"
   ]
  },
  {
   "cell_type": "code",
   "execution_count": null,
   "metadata": {},
   "outputs": [],
   "source": [
    "data_A = ppr.ensure_float_columns(data_A, exclude_columns=['Date','Step'])"
   ]
  },
  {
   "cell_type": "code",
   "execution_count": null,
   "metadata": {},
   "outputs": [],
   "source": [
    "data_a_mod = data_A[52:].reset_index(drop=True)"
   ]
  },
  {
   "cell_type": "code",
   "execution_count": null,
   "metadata": {},
   "outputs": [],
   "source": [
    "data_a_mod['Total_Sales_A'] = data_a_mod['Total_Sales_A'] * 1000\n",
    "data_a_mod['Total_Sales_B'] = data_a_mod['Total_Sales_B'] * 1000"
   ]
  },
  {
   "cell_type": "code",
   "execution_count": null,
   "metadata": {},
   "outputs": [],
   "source": [
    "plt.figure(figsize=(10,6))\n",
    "plt.plot(data_a_mod['Date'], data_a_mod['Total_Sales_A'],color='black')\n",
    "plt.xlabel('Date')\n",
    "plt.ylabel('Total Sales A')\n",
    "plt.title('Total Sales A vs Date')\n",
    "plt.show()\n"
   ]
  },
  {
   "cell_type": "code",
   "execution_count": null,
   "metadata": {},
   "outputs": [],
   "source": [
    "data_a_mod.to_csv(\"sim_data_trunc.csv\", index=False)"
   ]
  },
  {
   "cell_type": "code",
   "execution_count": null,
   "metadata": {},
   "outputs": [],
   "source": [
    "# Define the columns\n",
    "date_column = 'Date'\n",
    "channel_columns = ['tv_A', 'web_A']\n",
    "control_columns = ['Total_Sales_B']\n",
    "\n",
    "my_sampler_config = {\n",
    "    'tune': 1000,\n",
    "    'draws': 1000,\n",
    "    'chains': 4,\n",
    "    #'target_accept': 0.9  # Increase this value to increase target_accept\n",
    "}\n",
    "\n",
    "# Instantiate the model\n",
    "mmm = pmm.mmm.delayed_saturated_mmm.DelayedSaturatedMMM(\n",
    "    sampler_config=my_sampler_config,\n",
    "    date_column=date_column,\n",
    "    channel_columns=channel_columns,\n",
    "    control_columns=control_columns,\n",
    "    adstock_max_lag=8,\n",
    ")"
   ]
  },
  {
   "cell_type": "code",
   "execution_count": null,
   "metadata": {},
   "outputs": [],
   "source": [
    "# Split data into predictors (X) and target (y)\n",
    "X = data_a_mod.drop('Total_Sales_A', axis=1)\n",
    "y = data_a_mod['Total_Sales_A']\n",
    "\n",
    "# Fit the model\n",
    "mmm.fit(X, y)"
   ]
  },
  {
   "cell_type": "code",
   "execution_count": null,
   "metadata": {},
   "outputs": [],
   "source": [
    "import arviz as az\n",
    "import pymc as pm\n",
    "import seaborn as sns"
   ]
  },
  {
   "cell_type": "code",
   "execution_count": null,
   "metadata": {},
   "outputs": [],
   "source": [
    "mmm.fit_result"
   ]
  },
  {
   "cell_type": "code",
   "execution_count": null,
   "metadata": {},
   "outputs": [],
   "source": [
    "az.summary(\n",
    "    data=mmm.fit_result,\n",
    "    var_names=[\n",
    "        \"intercept\",\n",
    "        \"likelihood_sigma\",\n",
    "        \"beta_channel\",\n",
    "        \"alpha\",\n",
    "        \"lam\",\n",
    "    ],\n",
    ")"
   ]
  },
  {
   "cell_type": "code",
   "execution_count": null,
   "metadata": {},
   "outputs": [],
   "source": [
    "_ = az.plot_trace(\n",
    "    data=mmm.fit_result,\n",
    "    var_names=[\n",
    "        \"intercept\",\n",
    "        \"likelihood_sigma\",\n",
    "        \"beta_channel\",\n",
    "        \"alpha\",\n",
    "        \"lam\",\n",
    "    ],\n",
    "    compact=True,\n",
    "    backend_kwargs={\"figsize\": (12, 10), \"layout\": \"constrained\"},\n",
    ")"
   ]
  },
  {
   "cell_type": "code",
   "execution_count": null,
   "metadata": {},
   "outputs": [],
   "source": [
    "mmm.sample_posterior_predictive(X, extend_idata=True, combined=True)"
   ]
  },
  {
   "cell_type": "code",
   "execution_count": null,
   "metadata": {},
   "outputs": [],
   "source": [
    "mmm.plot_posterior_predictive(original_scale=True);"
   ]
  },
  {
   "cell_type": "code",
   "execution_count": null,
   "metadata": {},
   "outputs": [],
   "source": [
    "mmm.plot_components_contributions()"
   ]
  },
  {
   "cell_type": "code",
   "execution_count": null,
   "metadata": {},
   "outputs": [],
   "source": [
    "mmm.plot_waterfall_components_decomposition()"
   ]
  },
  {
   "cell_type": "code",
   "execution_count": null,
   "metadata": {},
   "outputs": [],
   "source": [
    "import pprint"
   ]
  },
  {
   "cell_type": "code",
   "execution_count": null,
   "metadata": {},
   "outputs": [],
   "source": [
    "dummy_model = DelayedSaturatedMMM(date_column=\"\", channel_columns=\"\", adstock_max_lag=4)\n",
    "pprint.pprint(dummy_model.default_model_config)"
   ]
  },
  {
   "cell_type": "code",
   "execution_count": null,
   "metadata": {},
   "outputs": [],
   "source": []
  }
 ],
 "metadata": {
  "kernelspec": {
   "display_name": "pymc",
   "language": "python",
   "name": "python3"
  },
  "language_info": {
   "codemirror_mode": {
    "name": "ipython",
    "version": 3
   },
   "file_extension": ".py",
   "mimetype": "text/x-python",
   "name": "python",
   "nbconvert_exporter": "python",
   "pygments_lexer": "ipython3",
   "version": "3.12.5"
  }
 },
 "nbformat": 4,
 "nbformat_minor": 2
}

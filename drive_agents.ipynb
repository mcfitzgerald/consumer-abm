{
 "cells": [
  {
   "cell_type": "code",
   "execution_count": 1,
   "metadata": {},
   "outputs": [],
   "source": [
    "import toml\n",
    "#from LIB_consumer_agent import get_pantry_max, get_current_price, compute_total_purchases, compute_average_price\n",
    "from cabm_agents import ConsumerModel"
   ]
  },
  {
   "cell_type": "code",
   "execution_count": 2,
   "metadata": {},
   "outputs": [],
   "source": [
    "config = toml.load(\"config.toml\")\n",
    "\n",
    "houseshold_sizes = config[\"houseshold_sizes\"]\n",
    "houseshold_size_distribution = config[\"houseshold_size_distribution\"]\n",
    "base_consumption_rate = config[\"base_consumption_rate\"]\n",
    "pantry_min_percent = config[\"pantry_min_percent\"]\n",
    "base_product_price = config[\"base_product_price\"]\n",
    "promo_depths = config[\"promo_depths\"]\n",
    "promo_frequencies = config[\"promo_frequencies\"]"
   ]
  },
  {
   "cell_type": "code",
   "execution_count": 3,
   "metadata": {},
   "outputs": [],
   "source": [
    "model = ConsumerModel(10)"
   ]
  },
  {
   "cell_type": "code",
   "execution_count": 4,
   "metadata": {},
   "outputs": [],
   "source": [
    "for i in range(10):\n",
    "    model.step()"
   ]
  },
  {
   "cell_type": "code",
   "execution_count": null,
   "metadata": {},
   "outputs": [],
   "source": []
  }
 ],
 "metadata": {
  "kernelspec": {
   "display_name": "pydev",
   "language": "python",
   "name": "python3"
  },
  "language_info": {
   "codemirror_mode": {
    "name": "ipython",
    "version": 3
   },
   "file_extension": ".py",
   "mimetype": "text/x-python",
   "name": "python",
   "nbconvert_exporter": "python",
   "pygments_lexer": "ipython3",
   "version": "3.11.4"
  },
  "orig_nbformat": 4
 },
 "nbformat": 4,
 "nbformat_minor": 2
}
